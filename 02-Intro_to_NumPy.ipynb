{
 "cells": [
  {
   "cell_type": "markdown",
   "id": "703c5ae7",
   "metadata": {},
   "source": [
    "# NumPy: Introduction to Numerical Python\n",
    "\n",
    "### Installation\n",
    "```bash\n",
    "pip install numpy\n",
    "```"
   ]
  },
  {
   "cell_type": "code",
   "execution_count": null,
   "id": "09dfd1e5",
   "metadata": {},
   "outputs": [],
   "source": [
    "import numpy as np\n",
    "\n",
    "# Creating a simple array\n",
    "a = np.array([1, 2, 3, 4, 5])\n",
    "print(a)"
   ]
  },
  {
   "cell_type": "markdown",
   "id": "bfe91f5b",
   "metadata": {},
   "source": [
    "# Array Creation and Basic Operations\n",
    "\n",
    "### Creating arrays\n",
    "Creating arrays:\n",
    "\n",
    "From lists, ranges, random data, or zeros/ones."
   ]
  },
  {
   "cell_type": "code",
   "execution_count": null,
   "id": "c8820360",
   "metadata": {},
   "outputs": [],
   "source": [
    "\n",
    "# Array from list\n",
    "arr = np.array([10, 20, 30])\n",
    "\n",
    "# Array of zeros\n",
    "zeros = np.zeros((2, 3))\n",
    "\n",
    "# Array of ones\n",
    "ones = np.ones((3, 2))\n",
    "\n",
    "# Range of numbers\n",
    "range_arr = np.arange(0, 10, 2)\n",
    "\n",
    "print(\"Array:\", arr)\n",
    "print(\"Zeros:\\n\", zeros)\n",
    "print(\"Ones:\\n\", ones)\n",
    "print(\"Range array:\", range_arr)"
   ]
  },
  {
   "cell_type": "markdown",
   "id": "dc79c1b4",
   "metadata": {},
   "source": [
    "### Basic operations:\n",
    "\n",
    "Arithmetic is element-wise."
   ]
  },
  {
   "cell_type": "code",
   "execution_count": null,
   "id": "6d91236e",
   "metadata": {},
   "outputs": [],
   "source": [
    "b = np.array([1, 2, 3])\n",
    "c = np.array([4, 5, 6])\n",
    "\n",
    "print(\"Addition:\", b + c)\n",
    "print(\"Multiplication:\", b * c)\n",
    "print(\"Exponentiation:\", b ** 2)\n",
    "print(\"Sum of elements:\", np.sum(b))\n"
   ]
  },
  {
   "cell_type": "markdown",
   "id": "cfb468b4",
   "metadata": {},
   "source": [
    "# Indexing, Slicing, and Useful Functions\n",
    "### Indexing and slicing"
   ]
  },
  {
   "cell_type": "code",
   "execution_count": null,
   "id": "91bdb211",
   "metadata": {},
   "outputs": [],
   "source": [
    "arr = np.array([10, 20, 30, 40, 50])\n",
    "\n",
    "print(\"First element:\", arr[0])\n",
    "print(\"Last element:\", arr[-1])\n",
    "print(\"Slice [1:4]:\", arr[1:4])"
   ]
  },
  {
   "cell_type": "markdown",
   "id": "dd0b017e",
   "metadata": {},
   "source": [
    "### Useful functions"
   ]
  },
  {
   "cell_type": "code",
   "execution_count": null,
   "id": "7b141cda",
   "metadata": {},
   "outputs": [],
   "source": [
    "matrix = np.array([[1, 2], [3, 4]])\n",
    "\n",
    "print(\"Shape:\", matrix.shape)\n",
    "print(\"Transpose:\\n\", matrix.T)\n",
    "print(\"Mean:\", np.mean(matrix))\n",
    "print(\"Max value:\", np.max(matrix))"
   ]
  },
  {
   "cell_type": "markdown",
   "id": "5552b15f",
   "metadata": {},
   "source": [
    "### Bonus: Random numbers"
   ]
  },
  {
   "cell_type": "code",
   "execution_count": null,
   "id": "90a002a6",
   "metadata": {},
   "outputs": [],
   "source": [
    "random_arr = np.random.rand(3, 3)\n",
    "print(\"Random array:\\n\", random_arr)"
   ]
  }
 ],
 "metadata": {
  "kernelspec": {
   "display_name": "csdi-ml-class-3.12",
   "language": "python",
   "name": "python3"
  },
  "language_info": {
   "codemirror_mode": {
    "name": "ipython",
    "version": 3
   },
   "file_extension": ".py",
   "mimetype": "text/x-python",
   "name": "python",
   "nbconvert_exporter": "python",
   "pygments_lexer": "ipython3",
   "version": "3.12.9"
  }
 },
 "nbformat": 4,
 "nbformat_minor": 5
}
