{
 "cells": [
  {
   "cell_type": "markdown",
   "id": "0cc9741d",
   "metadata": {},
   "source": [
    "### House predictions with linear regression"
   ]
  },
  {
   "cell_type": "code",
   "execution_count": null,
   "id": "14667b9b",
   "metadata": {},
   "outputs": [],
   "source": [
    "import pandas as pd\n",
    "import numpy as np\n",
    "import matplotlib.pyplot as plt\n",
    "import plotly.express as px\n",
    "import plotly.graph_objects as go\n",
    "from sklearn.linear_model import LinearRegression\n",
    "from sklearn.ensemble import RandomForestRegressor\n",
    "from sklearn.metrics import mean_squared_error, mean_absolute_error\n",
    "from sklearn.model_selection import train_test_split\n",
    "from skimpy import skim\n",
    "import utils"
   ]
  },
  {
   "cell_type": "code",
   "execution_count": null,
   "id": "21e6d3ff",
   "metadata": {},
   "outputs": [],
   "source": [
    "# Load the data using pandas\n",
    "data = pd.read_csv('Hyderabad.csv')\n",
    "data"
   ]
  },
  {
   "cell_type": "code",
   "execution_count": null,
   "id": "9e388cb8",
   "metadata": {},
   "outputs": [],
   "source": [
    "skim(data)"
   ]
  },
  {
   "cell_type": "code",
   "execution_count": null,
   "id": "4969ed8e",
   "metadata": {},
   "outputs": [],
   "source": [
    "data[\"Location\"] = data[\"Location\"].astype('category')\n",
    "data[\"Location\"] = data[\"Location\"].cat.codes\n",
    "data"
   ]
  },
  {
   "cell_type": "code",
   "execution_count": null,
   "id": "77e9d56e",
   "metadata": {},
   "outputs": [],
   "source": [
    "#data = data[data[\"Price\"] != data[\"Price\"].max()]\n",
    "#data"
   ]
  },
  {
   "cell_type": "code",
   "execution_count": null,
   "id": "4c014eaa",
   "metadata": {},
   "outputs": [],
   "source": [
    "train_set, test_set = train_test_split(data, test_size=0.2, random_state=42)"
   ]
  },
  {
   "cell_type": "code",
   "execution_count": null,
   "id": "a9f8f8e4",
   "metadata": {},
   "outputs": [],
   "source": [
    "# Prepare the data for multiple linear regression\n",
    "train_X_all = train_set.drop(columns=['Price']).values  # All features except the target\n",
    "train_y_all = train_set['Price'].values                 # Target\n",
    "test_X_all = test_set.drop(columns=['Price']).values  # All features except the target\n",
    "test_y_all = test_set['Price'].values                 # Target"
   ]
  },
  {
   "cell_type": "code",
   "execution_count": null,
   "id": "c4cc0358",
   "metadata": {},
   "outputs": [],
   "source": [
    "# Create and train the model\n",
    "model = LinearRegression()\n",
    "model.fit(train_X_all, train_y_all)"
   ]
  },
  {
   "cell_type": "code",
   "execution_count": null,
   "id": "6462445b",
   "metadata": {},
   "outputs": [],
   "source": [
    "# Get the coefficients\n",
    "coefficients = model.coef_\n",
    "intercept = model.intercept_\n",
    "print(\"Coefficients:\", coefficients)\n",
    "print(\"Intercept:\", intercept)"
   ]
  },
  {
   "cell_type": "code",
   "execution_count": null,
   "id": "49cd1970",
   "metadata": {},
   "outputs": [],
   "source": [
    "# Evaluate the model\n",
    "predictions = model.predict(test_X_all)\n",
    "mse = mean_squared_error(test_y_all, predictions)\n",
    "mabs = mean_absolute_error(test_y_all, predictions)  # Mean Absolute Error\n",
    "print(\"Mean Absolute Error:\", mabs)\n",
    "print(\"Mean Squared Error:\", mse)"
   ]
  },
  {
   "cell_type": "code",
   "execution_count": null,
   "id": "451ec0e3",
   "metadata": {},
   "outputs": [],
   "source": [
    "rforest_model = RandomForestRegressor(random_state=42)"
   ]
  },
  {
   "cell_type": "code",
   "execution_count": null,
   "id": "0a2aedc8",
   "metadata": {},
   "outputs": [],
   "source": [
    "rforest_model.fit(train_X_all, train_y_all)"
   ]
  },
  {
   "cell_type": "code",
   "execution_count": null,
   "id": "7a2dd3c2",
   "metadata": {},
   "outputs": [],
   "source": [
    "predictions_rforest = rforest_model.predict(test_X_all)\n",
    "mabs = mean_absolute_error(test_y_all, predictions_rforest)  # Mean Absolute Error\n",
    "print(\"Mean Absolute Error:\", mabs)"
   ]
  },
  {
   "cell_type": "code",
   "execution_count": null,
   "id": "e90d3ed7",
   "metadata": {},
   "outputs": [],
   "source": [
    "reduced_features = ['Area', 'No. of Bedrooms', 'Location', \"Price\"]\n",
    "data = data[reduced_features]\n",
    "train_set, test_set = train_test_split(data[reduced_features], test_size=0.2, random_state=42)\n",
    "# Prepare the data for multiple linear regression\n",
    "train_X_all = train_set.drop(columns=['Price']).values  # All features except the target\n",
    "train_y_all = train_set['Price'].values                 # Target\n",
    "test_X_all = test_set.drop(columns=['Price']).values  # All features except the target\n",
    "test_y_all = test_set['Price'].values                 # Target"
   ]
  },
  {
   "cell_type": "code",
   "execution_count": null,
   "id": "b339c56d",
   "metadata": {},
   "outputs": [],
   "source": [
    "# Create and train the model\n",
    "model = LinearRegression()\n",
    "model.fit(train_X_all, train_y_all)"
   ]
  },
  {
   "cell_type": "code",
   "execution_count": null,
   "id": "c40182de",
   "metadata": {},
   "outputs": [],
   "source": [
    "# Get the coefficients\n",
    "coefficients = model.coef_\n",
    "intercept = model.intercept_\n",
    "print(\"Coefficients:\", coefficients)\n",
    "print(\"Intercept:\", intercept)"
   ]
  },
  {
   "cell_type": "code",
   "execution_count": null,
   "id": "c8247e29",
   "metadata": {},
   "outputs": [],
   "source": [
    "# Evaluate the model\n",
    "predictions = model.predict(test_X_all)\n",
    "mse = mean_squared_error(test_y_all, predictions)\n",
    "mabs = mean_absolute_error(test_y_all, predictions)  # Mean Absolute Error\n",
    "print(\"Mean Absolute Error:\", mabs)\n",
    "print(\"Mean Squared Error:\", mse)"
   ]
  },
  {
   "cell_type": "code",
   "execution_count": null,
   "id": "0fddd1e7",
   "metadata": {},
   "outputs": [],
   "source": [
    "rforest_model = RandomForestRegressor(random_state=42)\n",
    "rforest_model.fit(train_X_all, train_y_all)\n",
    "predictions_rforest = rforest_model.predict(test_X_all)\n",
    "mabs = mean_absolute_error(test_y_all, predictions_rforest)  # Mean Absolute Error\n",
    "print(\"Mean Absolute Error:\", mabs)"
   ]
  },
  {
   "cell_type": "code",
   "execution_count": null,
   "id": "c1792931",
   "metadata": {},
   "outputs": [],
   "source": [
    "from sklearn.preprocessing import StandardScaler\n",
    "scaler = StandardScaler()\n",
    "# Fit the scaler on the training data\n",
    "train_X_scaled = scaler.fit_transform(train_X_all)\n",
    "# Transform the test data\n",
    "test_X_scaled = scaler.transform(test_X_all)\n",
    "# Create and train the model\n",
    "model = LinearRegression()\n",
    "model.fit(train_X_scaled, train_y_all)\n",
    "# Get the coefficients\n",
    "coefficients = model.coef_\n",
    "intercept = model.intercept_\n",
    "print(\"Coefficients after scaling:\", coefficients)\n",
    "print(\"Intercept after scaling:\", intercept)\n"
   ]
  },
  {
   "cell_type": "code",
   "execution_count": null,
   "id": "d0d2e00a",
   "metadata": {},
   "outputs": [],
   "source": [
    "train_X_scaled"
   ]
  },
  {
   "cell_type": "code",
   "execution_count": null,
   "id": "df7cbc6e",
   "metadata": {},
   "outputs": [],
   "source": [
    "# Evaluate the model\n",
    "predictions = model.predict(test_X_scaled)\n",
    "mse = mean_squared_error(test_y_all, predictions)\n",
    "mabs = mean_absolute_error(test_y_all, predictions)  # Mean Absolute Error\n",
    "print(\"Mean Absolute Error after scaling:\", mabs)\n",
    "print(\"Mean Squared Error after scaling:\", mse)\n"
   ]
  },
  {
   "cell_type": "code",
   "execution_count": null,
   "id": "17134b59",
   "metadata": {},
   "outputs": [],
   "source": [
    "# Visualize the results using Plotly\n",
    "fig = px.scatter(x=test_y_all, y=predictions, labels={'x': 'Actual Price', 'y': 'Predicted Price'}, title='Actual vs Predicted Prices')\n",
    "fig.add_shape(type='line', x0=min(test_y_all), y0=min(test_y_all), x1=max(test_y_all), y1=max(test_y_all), line=dict(color='red', dash='dash'))\n",
    "fig.show()\n",
    "# Visualize the results using Plotly for Random Forest\n",
    "fig_rforest = px.scatter(x=test_y_all, y=predictions_rforest, labels={'x': 'Actual Price', 'y': 'Predicted Price'}, title='Actual vs Predicted Prices (Random Forest)')\n",
    "fig_rforest.add_shape(type='line', x0=min(test_y_all), y0=min(test_y_all), x1=max(test_y_all), y1=max(test_y_all), line=dict(color='red', dash='dash'))\n",
    "fig_rforest.show()\n",
    "# Visualize feature importance for Random Forest\n",
    "importance = rforest_model.feature_importances_\n",
    "features = train_set.drop(columns=['Price']).columns\n",
    "importance_df = pd.DataFrame({'Feature': features, 'Importance': importance})\n",
    "fig_importance = px.bar(importance_df.sort_values(by='Importance', ascending=False), \n",
    "                        x='Feature', y='Importance', \n",
    "                        title='Feature Importance from Random Forest Model')\n",
    "fig_importance.show()\n",
    "# Visualize the distribution of prices\n",
    "fig_price_distribution = px.histogram(data, x='Price', nbins=50, title='Distribution of Prices')\n",
    "fig_price_distribution.show()\n",
    "# Visualize the relationship between Area and Price\n",
    "fig_area_price = px.scatter(data, x='Area', y='Price', color='Location', \n",
    "                             title='Area vs Price by Location', \n",
    "                             labels={'Area': 'Area (sq ft)', 'Price': 'Price (in INR)'})\n",
    "fig_area_price.show()\n",
    "# Visualize the relationship between No. of Bedrooms and Price\n",
    "fig_bedrooms_price = px.box(data, x='No. of Bedrooms', y='Price', \n",
    "                             title='Price Distribution by Number of Bedrooms', \n",
    "                             labels={'No. of Bedrooms': 'Number of Bedrooms', 'Price': 'Price (in INR)'})\n",
    "fig_bedrooms_price.show()\n",
    "# Visualize the relationship between Location and Price\n",
    "fig_location_price = px.box(data, x='Location', y='Price', \n",
    "                             title='Price Distribution by Location', \n",
    "                             labels={'Location': 'Location (Encoded)', 'Price': 'Price (in INR)'})\n",
    "fig_location_price.show()\n",
    "# Visualize the correlation matrix\n",
    "correlation_matrix = data.corr()\n",
    "fig_corr = px.imshow(correlation_matrix, \n",
    "                     title='Correlation Matrix', \n",
    "                     labels=dict(color='Correlation Coefficient'),\n",
    "                     x=correlation_matrix.columns, \n",
    "                     y=correlation_matrix.columns)\n",
    "fig_corr.update_xaxes(side=\"top\")\n",
    "fig_corr.show()"
   ]
  }
 ],
 "metadata": {
  "kernelspec": {
   "display_name": "csdi-ml-class-3.12",
   "language": "python",
   "name": "python3"
  },
  "language_info": {
   "codemirror_mode": {
    "name": "ipython",
    "version": 3
   },
   "file_extension": ".py",
   "mimetype": "text/x-python",
   "name": "python",
   "nbconvert_exporter": "python",
   "pygments_lexer": "ipython3",
   "version": "3.12.9"
  }
 },
 "nbformat": 4,
 "nbformat_minor": 5
}
