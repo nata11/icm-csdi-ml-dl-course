{
 "cells": [
  {
   "cell_type": "markdown",
   "id": "0cc9741d",
   "metadata": {},
   "source": [
    "### House predictions with linear regression"
   ]
  },
  {
   "cell_type": "code",
   "execution_count": null,
   "id": "14667b9b",
   "metadata": {},
   "outputs": [],
   "source": [
    "import pandas as pd\n",
    "import numpy as np\n",
    "import matplotlib.pyplot as plt\n",
    "import plotly.express as px\n",
    "import plotly.graph_objects as go\n",
    "from sklearn.linear_model import LinearRegression\n",
    "from sklearn.ensemble import RandomForestRegressor\n",
    "from sklearn.metrics import mean_squared_error, mean_absolute_error\n",
    "from skimpy import skim\n",
    "import utils"
   ]
  },
  {
   "cell_type": "code",
   "execution_count": null,
   "id": "21e6d3ff",
   "metadata": {},
   "outputs": [],
   "source": [
    "# Load the data using pandas\n",
    "data = pd.read_csv('Hyderabad.csv')\n",
    "data"
   ]
  },
  {
   "cell_type": "code",
   "execution_count": null,
   "id": "9e388cb8",
   "metadata": {},
   "outputs": [],
   "source": [
    "skim(data)"
   ]
  },
  {
   "cell_type": "code",
   "execution_count": null,
   "id": "4969ed8e",
   "metadata": {},
   "outputs": [],
   "source": [
    "data[\"Location\"] = data[\"Location\"].astype('category')\n",
    "data[\"Location\"] = data[\"Location\"].cat.codes\n",
    "data"
   ]
  },
  {
   "cell_type": "code",
   "execution_count": null,
   "id": "cd1e313c",
   "metadata": {},
   "outputs": [],
   "source": [
    "from pandas.plotting import scatter_matrix\n",
    "\n",
    "attributes = [\"Price\", \"Area\", \"Location\",\n",
    "              \"No. of Bedrooms\"]\n",
    "scatter_matrix(data[attributes], figsize=(12, 8))\n",
    "#save_fig(\"scatter_matrix_plot\")  # extra code\n",
    "plt.show()"
   ]
  },
  {
   "cell_type": "code",
   "execution_count": null,
   "id": "414ec4e3",
   "metadata": {},
   "outputs": [],
   "source": [
    "plt.scatter(data['Area'], data['Price'])\n",
    "plt.xlabel('Area')\n",
    "plt.ylabel('Price')\n",
    "plt.title('Scatter plot of Area vs Price')\n",
    "plt.show()"
   ]
  },
  {
   "cell_type": "code",
   "execution_count": null,
   "id": "fd2378a8",
   "metadata": {},
   "outputs": [],
   "source": [
    "# Scatter plot using Plotly\n",
    "fig = px.scatter(data, x='Area', y='Price', title='Scatter plot of Area vs Price')\n",
    "fig.update_layout(xaxis_title='Area', yaxis_title='Price')\n",
    "fig.show()"
   ]
  },
  {
   "cell_type": "code",
   "execution_count": null,
   "id": "1996be15",
   "metadata": {},
   "outputs": [],
   "source": [
    "# Prepare the data for scikit-learn\n",
    "X = data[['Area']].values  # Feature(s)\n",
    "y = data['Price'].values   # Target"
   ]
  },
  {
   "cell_type": "code",
   "execution_count": null,
   "id": "00579511",
   "metadata": {},
   "outputs": [],
   "source": [
    "# Create and train the linear regression model\n",
    "simple_model = LinearRegression()\n",
    "simple_model.fit(X, y)"
   ]
  },
  {
   "cell_type": "code",
   "execution_count": null,
   "id": "fb840df9",
   "metadata": {},
   "outputs": [],
   "source": [
    "# Get the coefficients\n",
    "m = simple_model.coef_[0]  # Slope\n",
    "b = simple_model.intercept_  # Intercept\n",
    "print(\"slope:\", m)\n",
    "print(\"y-intercept:\", b)"
   ]
  },
  {
   "cell_type": "code",
   "execution_count": null,
   "id": "2f80e69d",
   "metadata": {},
   "outputs": [],
   "source": [
    "# Plot the regression line\n",
    "plt.scatter(data['Area'], data['Price'])\n",
    "utils.draw_line(m, b, starting=0, ending=max(data['Area']))\n",
    "plt.xlabel('Area')\n",
    "plt.ylabel('Price')\n",
    "plt.title('Regression Line for Area vs Price')\n",
    "plt.show()"
   ]
  },
  {
   "cell_type": "code",
   "execution_count": null,
   "id": "33b87905",
   "metadata": {},
   "outputs": [],
   "source": [
    "# Plot the regression line using Plotly\n",
    "fig = px.scatter(data, x='Area', y='Price', title='Regression Line for Area vs Price')\n",
    "line_x = np.linspace(0, max(data['Area']), 100)\n",
    "line_y = m * line_x + b\n",
    "fig.add_trace(go.Scatter(x=line_x, y=line_y, mode='lines', name='Regression Line'))\n",
    "fig.update_layout(xaxis_title='Area', yaxis_title='Price')\n",
    "fig.show()"
   ]
  },
  {
   "cell_type": "markdown",
   "id": "91029a12",
   "metadata": {},
   "source": [
    "### Building a model that uses 3 features"
   ]
  },
  {
   "cell_type": "code",
   "execution_count": null,
   "id": "d78315c7",
   "metadata": {},
   "outputs": [],
   "source": [
    "trained_features = ['Area', 'No. of Bedrooms', 'Location']\n",
    "X_all = data[trained_features]\n",
    "X_all"
   ]
  },
  {
   "cell_type": "code",
   "execution_count": null,
   "id": "dd67a954",
   "metadata": {},
   "outputs": [],
   "source": [
    "y_all = data['Price']"
   ]
  },
  {
   "cell_type": "code",
   "execution_count": null,
   "id": "938f4350",
   "metadata": {},
   "outputs": [],
   "source": [
    "model = LinearRegression()\n",
    "model.fit(X_all, y_all)"
   ]
  },
  {
   "cell_type": "code",
   "execution_count": null,
   "id": "5c8b2024",
   "metadata": {},
   "outputs": [],
   "source": [
    "# Predict with fewer features (e.g., only 'Area' and 'No. of Bedrooms')\n",
    "new_data = pd.DataFrame({'Area': [1200], 'No. of Bedrooms': [3], 'Location': [158]})"
   ]
  },
  {
   "cell_type": "code",
   "execution_count": null,
   "id": "d382b069",
   "metadata": {},
   "outputs": [],
   "source": [
    "new_data"
   ]
  },
  {
   "cell_type": "code",
   "execution_count": null,
   "id": "5633ed8c",
   "metadata": {},
   "outputs": [],
   "source": [
    "# Make predictions\n",
    "predicted_price = model.predict(new_data)\n",
    "print(\"Predicted Price:\", predicted_price)"
   ]
  },
  {
   "cell_type": "markdown",
   "id": "a4045c97",
   "metadata": {},
   "source": [
    "### Building a model that uses all the features"
   ]
  },
  {
   "cell_type": "code",
   "execution_count": null,
   "id": "7cb7d017",
   "metadata": {},
   "outputs": [],
   "source": [
    "# Prepare the data for multiple linear regression\n",
    "X_all = data.drop(columns=['Price']).values  # All features except the target\n",
    "y_all = data['Price'].values                 # Target"
   ]
  },
  {
   "cell_type": "code",
   "execution_count": null,
   "id": "104a0e0c",
   "metadata": {},
   "outputs": [],
   "source": [
    "X_all"
   ]
  },
  {
   "cell_type": "code",
   "execution_count": null,
   "id": "26346fcb",
   "metadata": {},
   "outputs": [],
   "source": [
    "# Create and train the model\n",
    "model = LinearRegression()\n",
    "model.fit(X_all, y_all)"
   ]
  },
  {
   "cell_type": "code",
   "execution_count": null,
   "id": "1ffc4e84",
   "metadata": {},
   "outputs": [],
   "source": [
    "# Get the coefficients\n",
    "coefficients = model.coef_\n",
    "intercept = model.intercept_\n",
    "print(\"Coefficients:\", coefficients)\n",
    "print(\"Intercept:\", intercept)"
   ]
  },
  {
   "cell_type": "code",
   "execution_count": null,
   "id": "c60acd7a",
   "metadata": {},
   "outputs": [],
   "source": [
    "# Evaluate the model\n",
    "predictions = model.predict(X_all)\n",
    "mse = mean_squared_error(y_all, predictions)\n",
    "mabs = mean_absolute_error(y_all, predictions)  # Mean Absolute Error\n",
    "print(\"Mean Absolute Error:\", mabs)\n",
    "print(\"Mean Squared Error:\", mse)"
   ]
  },
  {
   "cell_type": "code",
   "execution_count": null,
   "id": "451ec0e3",
   "metadata": {},
   "outputs": [],
   "source": [
    "rforest_model = RandomForestRegressor(random_state=42)"
   ]
  },
  {
   "cell_type": "code",
   "execution_count": null,
   "id": "0a2aedc8",
   "metadata": {},
   "outputs": [],
   "source": [
    "rforest_model.fit(X_all, y_all)"
   ]
  },
  {
   "cell_type": "code",
   "execution_count": null,
   "id": "7a2dd3c2",
   "metadata": {},
   "outputs": [],
   "source": [
    "predictions_rforest = rforest_model.predict(X_all)\n",
    "mabs = mean_absolute_error(y_all, predictions_rforest)  # Mean Absolute Error\n"
   ]
  },
  {
   "cell_type": "code",
   "execution_count": null,
   "id": "661759e7",
   "metadata": {},
   "outputs": [],
   "source": [
    "print(\"Mean Absolute Error:\", mabs)\n"
   ]
  }
 ],
 "metadata": {
  "kernelspec": {
   "display_name": "csdi-ml-class-3.12",
   "language": "python",
   "name": "python3"
  },
  "language_info": {
   "codemirror_mode": {
    "name": "ipython",
    "version": 3
   },
   "file_extension": ".py",
   "mimetype": "text/x-python",
   "name": "python",
   "nbconvert_exporter": "python",
   "pygments_lexer": "ipython3",
   "version": "3.12.9"
  }
 },
 "nbformat": 4,
 "nbformat_minor": 5
}
