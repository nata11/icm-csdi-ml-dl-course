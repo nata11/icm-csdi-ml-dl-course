{
 "cells": [
  {
   "cell_type": "markdown",
   "id": "b54ad58d",
   "metadata": {},
   "source": [
    "# Linear Regression with Animated Gradient Descent\n",
    "This notebook demonstrates linear regression using gradient descent, visualized step-by-step through animation."
   ]
  },
  {
   "cell_type": "code",
   "execution_count": null,
   "id": "e45351bc",
   "metadata": {},
   "outputs": [],
   "source": [
    "import numpy as np\n",
    "import matplotlib.pyplot as plt\n",
    "from IPython.display import HTML\n",
    "from matplotlib import animation\n",
    "\n",
    "# Step 1: Create a synthetic dataset\n",
    "np.random.seed(0)\n",
    "X = 2 * np.random.rand(100, 1)\n",
    "y = 4 + 3 * X + np.random.randn(100, 1)\n"
   ]
  },
  {
   "cell_type": "code",
   "execution_count": null,
   "id": "e0717ae4",
   "metadata": {},
   "outputs": [],
   "source": [
    "# Step 2: Linear regression using gradient descent (simulate rotation and translation)\n",
    "X_b = np.c_[np.ones((100, 1)), X]  # add x0 = 1 to each instance\n",
    "theta = np.random.randn(2, 1)  # random initial values\n",
    "\n",
    "learning_rate = 0.1\n",
    "n_iterations = 10\n",
    "theta_history = [theta.copy()]\n",
    "absolute_errors = []  # To store absolute errors\n",
    "\n",
    "\n",
    "for iteration in range(n_iterations):\n",
    "    predictions = X_b.dot(theta)\n",
    "    absolute_error = np.mean(np.abs(predictions - y))  # Calculate absolute error\n",
    "    absolute_errors.append(absolute_error)\n",
    "    \n",
    "    gradients = 2 / 100 * X_b.T.dot(X_b.dot(theta) - y)\n",
    "    theta = theta - learning_rate * gradients\n",
    "    theta_history.append(theta.copy())\n"
   ]
  },
  {
   "cell_type": "code",
   "execution_count": null,
   "id": "576ce7c6",
   "metadata": {},
   "outputs": [],
   "source": [
    "# Step 3: Set up the plot and animation\n",
    "fig, ax = plt.subplots(figsize=(8, 6))\n",
    "ax.plot(X, y, \"k.\", markersize=8)  # plot data points\n",
    "ax.set_xlabel(\"X\")\n",
    "ax.set_ylabel(\"y\")\n",
    "line, = ax.plot([], [], \"b-\", linewidth=2)\n",
    "\n",
    "def init():\n",
    "    line.set_data([], [])\n",
    "    return line,\n",
    "\n",
    "def animate(i):\n",
    "    theta = theta_history[i]\n",
    "    x_vals = np.array([[0], [2]])\n",
    "    y_vals = theta[0] + theta[1] * x_vals\n",
    "    line.set_data(x_vals, y_vals)\n",
    "    line.set_color(\"blue\")\n",
    "    if i == n_iterations:\n",
    "        line.set_color(\"red\")\n",
    "        line.set_linewidth(3)\n",
    "    return line,\n",
    "\n",
    "anim = animation.FuncAnimation(fig, animate, init_func=init,\n",
    "                               frames=n_iterations+1, interval=2000, blit=True)\n",
    "HTML(anim.to_jshtml())\n"
   ]
  },
  {
   "cell_type": "code",
   "execution_count": null,
   "id": "03efcd3f",
   "metadata": {},
   "outputs": [],
   "source": [
    "# Step 3: Plot the absolute error over iterations\n",
    "plt.figure(figsize=(8, 6))\n",
    "plt.plot(range(n_iterations), absolute_errors, label=\"Absolute Error\", color=\"orange\")\n",
    "plt.xlabel(\"Iteration\")\n",
    "plt.ylabel(\"Absolute Error\")\n",
    "plt.title(\"Absolute Error vs. Iterations\")\n",
    "plt.legend()\n",
    "plt.grid(True)\n",
    "plt.show()"
   ]
  }
 ],
 "metadata": {
  "kernelspec": {
   "display_name": "csdi-ml-class-3.12",
   "language": "python",
   "name": "python3"
  },
  "language_info": {
   "codemirror_mode": {
    "name": "ipython",
    "version": 3
   },
   "file_extension": ".py",
   "mimetype": "text/x-python",
   "name": "python",
   "nbconvert_exporter": "python",
   "pygments_lexer": "ipython3",
   "version": "3.12.9"
  }
 },
 "nbformat": 4,
 "nbformat_minor": 5
}
