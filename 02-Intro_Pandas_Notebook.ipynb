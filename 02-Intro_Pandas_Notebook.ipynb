{
 "cells": [
  {
   "cell_type": "markdown",
   "id": "ab39a43d",
   "metadata": {},
   "source": [
    "# Introduction to Pandas 🐼\n"
   ]
  },
  {
   "cell_type": "markdown",
   "id": "9614af7c",
   "metadata": {},
   "source": [
    "## Install and Import"
   ]
  },
  {
   "cell_type": "markdown",
   "id": "e0d8a3b2",
   "metadata": {},
   "source": [
    "```bash\n",
    "pip install pandas\n",
    "```"
   ]
  },
  {
   "cell_type": "code",
   "execution_count": null,
   "id": "6feac6e8",
   "metadata": {},
   "outputs": [],
   "source": [
    "import pandas as pd"
   ]
  },
  {
   "cell_type": "markdown",
   "id": "0c0c970a",
   "metadata": {},
   "source": [
    "## Creating a Series"
   ]
  },
  {
   "cell_type": "code",
   "execution_count": null,
   "id": "0d48242d",
   "metadata": {},
   "outputs": [],
   "source": [
    "data = [10, 20, 30, 40]\n",
    "series = pd.Series(data)\n",
    "print(series)\n"
   ]
  },
  {
   "cell_type": "markdown",
   "id": "54116cc2",
   "metadata": {},
   "source": [
    "## Creating a DataFrame"
   ]
  },
  {
   "cell_type": "code",
   "execution_count": null,
   "id": "c6a39532",
   "metadata": {},
   "outputs": [],
   "source": [
    "data = {'Name': ['Alice', 'Bob', 'Charlie'], 'Age': [25, 30, 35], 'City': ['New York', 'Paris', 'London']}\n",
    "df = pd.DataFrame(data)\n",
    "print(df)\n"
   ]
  },
  {
   "cell_type": "markdown",
   "id": "d0bf0d47",
   "metadata": {},
   "source": [
    "## Basic Operations"
   ]
  },
  {
   "cell_type": "code",
   "execution_count": null,
   "id": "6363f7a2",
   "metadata": {},
   "outputs": [],
   "source": [
    "print(df['Name'])\n",
    "print(df.describe())\n",
    "print(df[df['Age'] > 28])\n"
   ]
  },
  {
   "cell_type": "markdown",
   "id": "d931276c",
   "metadata": {},
   "source": [
    "## Reading and Writing Data"
   ]
  },
  {
   "cell_type": "code",
   "execution_count": null,
   "id": "cd0a11b9",
   "metadata": {},
   "outputs": [],
   "source": [
    "df"
   ]
  },
  {
   "cell_type": "code",
   "execution_count": null,
   "id": "02729779",
   "metadata": {},
   "outputs": [],
   "source": [
    "df.to_csv('output.csv', index=False)\n",
    "df2 = pd.read_csv('output.csv')\n",
    "print(df2)"
   ]
  },
  {
   "cell_type": "markdown",
   "id": "b3ee4478",
   "metadata": {},
   "source": [
    "## Handling Missing Data"
   ]
  },
  {
   "cell_type": "code",
   "execution_count": null,
   "id": "3843dfb2",
   "metadata": {},
   "outputs": [],
   "source": [
    "print(df.isnull().sum())\n",
    "df.fillna(0, inplace=True)\n",
    "df.dropna(inplace=True)\n"
   ]
  },
  {
   "cell_type": "markdown",
   "id": "b9178d61",
   "metadata": {},
   "source": [
    "## Grouping and Aggregating"
   ]
  },
  {
   "cell_type": "code",
   "execution_count": null,
   "id": "df72d399",
   "metadata": {},
   "outputs": [],
   "source": [
    "grouped = df.groupby('City')['Age'].mean()\n",
    "print(grouped)\n"
   ]
  },
  {
   "cell_type": "markdown",
   "id": "11769adb",
   "metadata": {},
   "source": [
    "## Sorting Data"
   ]
  },
  {
   "cell_type": "code",
   "execution_count": null,
   "id": "2739602b",
   "metadata": {},
   "outputs": [],
   "source": [
    "sorted_df = df.sort_values(by='Age', ascending=False)\n",
    "print(sorted_df)\n"
   ]
  },
  {
   "cell_type": "markdown",
   "id": "a10ec18f",
   "metadata": {},
   "source": [
    "## Visualization with Pandas"
   ]
  },
  {
   "cell_type": "code",
   "execution_count": null,
   "id": "ec18bf8f",
   "metadata": {},
   "outputs": [],
   "source": [
    "import matplotlib.pyplot as plt\n",
    "\n",
    "data = {'Year': [2020, 2021, 2022], 'Sales': [100, 150, 200]}\n",
    "df = pd.DataFrame(data)\n",
    "\n",
    "df.plot(x='Year', y='Sales', kind='line')\n",
    "plt.show()\n",
    "\n",
    "df.plot(x='Year', y='Sales', kind='bar')\n",
    "plt.show()\n",
    "\n",
    "df['Sales'].plot(kind='hist')\n",
    "plt.show()\n"
   ]
  },
  {
   "cell_type": "markdown",
   "id": "b4ce25ea",
   "metadata": {},
   "source": [
    "## Pandas Cheat Sheet"
   ]
  },
  {
   "cell_type": "markdown",
   "id": "33c79a96",
   "metadata": {},
   "source": [
    "| Task | Command |\n",
    "|------|----------|\n",
    "| Create DataFrame | pd.DataFrame(data) |\n",
    "| Read CSV | pd.read_csv('file.csv') |\n",
    "| Write CSV | df.to_csv('file.csv') |\n",
    "| View Data | df.head(), df.tail() |\n",
    "| Info | df.info(), df.describe() |\n",
    "| Select Column | df['column'] |\n",
    "| Filter Rows | df[df['Age'] > 30] |\n",
    "| Group Data | df.groupby('column') |\n",
    "| Sort Data | df.sort_values('column') |\n",
    "| Check Missing | df.isnull() |\n",
    "| Fill Missing | df.fillna(value) |\n",
    "| Drop Missing | df.dropna() |\n",
    "| Plot Data | df.plot(kind='line') |"
   ]
  }
 ],
 "metadata": {
  "kernelspec": {
   "display_name": "csdi-ml-class-3.12",
   "language": "python",
   "name": "python3"
  },
  "language_info": {
   "codemirror_mode": {
    "name": "ipython",
    "version": 3
   },
   "file_extension": ".py",
   "mimetype": "text/x-python",
   "name": "python",
   "nbconvert_exporter": "python",
   "pygments_lexer": "ipython3",
   "version": "3.12.9"
  }
 },
 "nbformat": 4,
 "nbformat_minor": 5
}
