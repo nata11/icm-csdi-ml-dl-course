{
 "cells": [
  {
   "cell_type": "markdown",
   "metadata": {},
   "source": [
    "# Slide 1: Introduction to Pandas for ML/DL\n",
    "\n",
    "**Pandas** is a Python library essential for data manipulation and analysis. It provides two primary data structures:\n",
    "- `Series`: One-dimensional labeled array.\n",
    "- `DataFrame`: Two-dimensional labeled data structure.\n",
    "\n",
    "In Machine Learning and Deep Learning workflows, Pandas is used for:\n",
    "- Data cleaning\n",
    "- Exploratory Data Analysis (EDA)\n",
    "- Feature engineering\n",
    "- Data transformation before feeding into models"
   ]
  },
  {
   "cell_type": "code",
   "execution_count": null,
   "id": "18509ea2",
   "metadata": {},
   "outputs": [],
   "source": [
    "import pandas as pd\n",
    "\n",
    "# Creating a simple DataFrame\n",
    "data = {\n",
    "    'Age': [25, 30, 22, 35],\n",
    "    'Salary': [50000, 60000, 48000, 80000],\n",
    "    'Purchased': [0, 1, 0, 1]\n",
    "}\n",
    "df = pd.DataFrame(data)\n",
    "df"
   ]
  },
  {
   "cell_type": "markdown",
   "id": "761b139a",
   "metadata": {},
   "source": [
    "# Slide 2: Data Inspection and Cleaning\n",
    "\n",
    "Before training models, inspect and clean data:\n",
    "- `.head()`, `.info()`, `.describe()`, `.isnull()`, `.dropna()`, `.fillna()`"
   ]
  },
  {
   "cell_type": "code",
   "execution_count": null,
   "id": "1121706b",
   "metadata": {},
   "outputs": [],
   "source": [
    "# Inspecting the data\n",
    "print(df.head())\n",
    "print(df.info())\n",
    "print(df.describe())\n",
    "\n",
    "# Check for missing values\n",
    "print(df.isnull().sum())"
   ]
  },
  {
   "cell_type": "markdown",
   "id": "ac2765b6",
   "metadata": {},
   "source": [
    "# Slide 3: Data Selection and Transformation\n",
    "\n",
    "Use Pandas for selecting and transforming data:\n",
    "- Selecting rows/columns using `.loc[]`, `.iloc[]`\n",
    "- Feature engineering using `.apply()`, `.map()`, and arithmetic operations"
   ]
  },
  {
   "cell_type": "code",
   "execution_count": null,
   "id": "5cc8f334",
   "metadata": {},
   "outputs": [],
   "source": [
    "# Select specific columns\n",
    "features = df[['Age', 'Salary']]\n",
    "labels = df['Purchased']\n",
    "\n",
    "# Creating a new feature\n",
    "df['Salary_in_K'] = df['Salary'] / 1000\n",
    "df"
   ]
  },
  {
   "cell_type": "markdown",
   "id": "0afa8bb2",
   "metadata": {},
   "source": [
    "# Slide 4: Useful Operations for ML Preprocessing\n",
    "\n",
    "Pandas simplifies preprocessing:\n",
    "- Handling categorical variables: `.astype()`, `pd.get_dummies()`\n",
    "- Normalization: `(df - df.mean()) / df.std()`"
   ]
  },
  {
   "cell_type": "code",
   "execution_count": null,
   "id": "26595c6b",
   "metadata": {},
   "outputs": [],
   "source": [
    "# Convert 'Purchased' to categorical (if not already)\n",
    "df['Purchased'] = df['Purchased'].astype('category')\n",
    "\n",
    "# One-hot encoding example\n",
    "df_encoded = pd.get_dummies(df, columns=['Purchased'], drop_first=True)\n",
    "\n",
    "# Normalize numerical columns\n",
    "df_encoded[['Age', 'Salary']] = (df_encoded[['Age', 'Salary']] - df_encoded[['Age', 'Salary']].mean()) / df_encoded[['Age', 'Salary']].std()\n",
    "df_encoded"
   ]
  }
 ],
 "metadata": {
  "kernelspec": {
   "display_name": "csdi-ml-class-3.12",
   "language": "python",
   "name": "python3"
  },
  "language_info": {
   "codemirror_mode": {
    "name": "ipython",
    "version": 3
   },
   "file_extension": ".py",
   "mimetype": "text/x-python",
   "name": "python",
   "nbconvert_exporter": "python",
   "pygments_lexer": "ipython3",
   "version": "3.12.9"
  }
 },
 "nbformat": 4,
 "nbformat_minor": 5
}
