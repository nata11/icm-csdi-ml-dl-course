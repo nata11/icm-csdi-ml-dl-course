{
 "cells": [
  {
   "cell_type": "markdown",
   "id": "488449b6",
   "metadata": {},
   "source": [
    "# Slide 1: Introduction to NumPy and Arrays\n",
    "\n",
    "NumPy (Numerical Python) is the foundational library for numerical computing in Python. It provides support for:\n",
    "\n",
    "- Efficient storage and manipulation of numerical arrays\n",
    "- Fast operations on entire arrays without the need for explicit loops (vectorization)\n",
    "- Core support for ML/DL tasks such as tensor operations, statistical computations, and data manipulation\n",
    "\n",
    "### Basic Array Creation\n"
   ]
  },
  {
   "cell_type": "code",
   "execution_count": null,
   "id": "8b4ed6b5",
   "metadata": {},
   "outputs": [],
   "source": [
    "import numpy as np\n",
    "\n",
    "# Creating arrays\n",
    "a = np.array([1, 2, 3])\n",
    "b = np.array([[1, 2], [3, 4]])\n",
    "\n",
    "print(\"1D array:\", a)\n",
    "print(\"2D array:\", b)\n"
   ]
  },
  {
   "cell_type": "markdown",
   "id": "15e8060c",
   "metadata": {},
   "source": [
    "# Slide 2: Array Operations and Broadcasting\n",
    "\n",
    "NumPy supports element-wise operations and broadcasting, which is essential for efficient ML/DL computations.\n",
    "\n",
    "### Element-wise Operations"
   ]
  },
  {
   "cell_type": "code",
   "execution_count": null,
   "id": "b2893bea",
   "metadata": {},
   "outputs": [],
   "source": [
    "x = np.array([1, 2, 3])\n",
    "y = np.array([4, 5, 6])\n",
    "\n",
    "# Element-wise addition and multiplication\n",
    "print(\"x + y:\", x + y)\n",
    "print(\"x * y:\", x * y)"
   ]
  },
  {
   "cell_type": "markdown",
   "id": "3800c463",
   "metadata": {},
   "source": [
    "### Broadcasting Example"
   ]
  },
  {
   "cell_type": "code",
   "execution_count": null,
   "id": "c0c77480",
   "metadata": {},
   "outputs": [],
   "source": [
    "A = np.array([[1, 2, 3],\n",
    "              [4, 5, 6]])\n",
    "B = np.array([1, 0, 1])  # Broadcasted across rows\n",
    "\n",
    "print(\"A + B:\", A + B)"
   ]
  },
  {
   "cell_type": "markdown",
   "id": "e53d53e5",
   "metadata": {},
   "source": [
    "# Slide 3: Useful NumPy Functions for ML/DL\n",
    "\n",
    "Common operations in ML/DL include reshaping, matrix multiplication, and statistical analysis.\n",
    "\n",
    "### Reshaping and Matrix Multiplication"
   ]
  },
  {
   "cell_type": "code",
   "execution_count": null,
   "id": "362148ab",
   "metadata": {},
   "outputs": [],
   "source": [
    "a = np.arange(6).reshape(2, 3)\n",
    "b = np.arange(3).reshape(3, 1)\n",
    "\n",
    "print(\"a:\", a)\n",
    "print(\"b:\", b)\n",
    "print(\"a @ b:\", a @ b)  # Matrix multiplication"
   ]
  },
  {
   "cell_type": "markdown",
   "id": "15f93bf0",
   "metadata": {},
   "source": [
    "### Basic Statistics"
   ]
  },
  {
   "cell_type": "code",
   "execution_count": null,
   "id": "f7b1b05c",
   "metadata": {},
   "outputs": [],
   "source": [
    "data = np.array([1.5, 2.3, 3.9, 4.4, 5.1])\n",
    "print(\"Mean:\", np.mean(data))\n",
    "print(\"Standard Deviation:\", np.std(data))"
   ]
  },
  {
   "cell_type": "markdown",
   "id": "77891775",
   "metadata": {},
   "source": [
    "# Slide 4: Advanced NumPy Concepts (Recommended)\n",
    "\n",
    "These features are vital for handling more complex ML/DL computations:\n",
    "\n",
    "- **Boolean indexing** for conditional data selection\n",
    "- **Axis-based operations** for aggregation\n",
    "- **Random number generation** for initializing weights\n",
    "\n",
    "### Boolean Indexing"
   ]
  },
  {
   "cell_type": "code",
   "execution_count": null,
   "id": "9271a5e7",
   "metadata": {},
   "outputs": [],
   "source": [
    "arr = np.array([1, 2, 3, 4, 5])\n",
    "print(\"Values > 3:\", arr[arr > 3])"
   ]
  },
  {
   "cell_type": "markdown",
   "id": "c6189113",
   "metadata": {},
   "source": [
    "\n",
    "### Axis Operations"
   ]
  },
  {
   "cell_type": "code",
   "execution_count": null,
   "id": "0142edee",
   "metadata": {},
   "outputs": [],
   "source": [
    "X = np.array([[1, 2, 3],\n",
    "              [4, 5, 6]])\n",
    "\n",
    "print(\"Mean across rows:\", np.mean(X, axis=1))\n",
    "print(\"Mean across columns:\", np.mean(X, axis=0))"
   ]
  },
  {
   "cell_type": "markdown",
   "id": "4d6bf784",
   "metadata": {},
   "source": [
    "### Random Number Generation"
   ]
  },
  {
   "cell_type": "code",
   "execution_count": null,
   "id": "abee8a9b",
   "metadata": {},
   "outputs": [],
   "source": [
    "np.random.seed(42)\n",
    "weights = np.random.randn(2, 3)  # Random weights\n",
    "print(\"Random weights:\", weights)"
   ]
  }
 ],
 "metadata": {
  "kernelspec": {
   "display_name": "csdi-ml-class-3.12",
   "language": "python",
   "name": "python3"
  },
  "language_info": {
   "name": "python",
   "version": "3.12.9"
  }
 },
 "nbformat": 4,
 "nbformat_minor": 5
}
