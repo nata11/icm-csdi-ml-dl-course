{
 "cells": [
  {
   "cell_type": "markdown",
   "metadata": {},
   "source": [
    "# Slide 1: Introduction to Pandas for ML/DL\n",
    "\n",
    "**Pandas** is a Python library essential for data manipulation and analysis. It provides two primary data structures:\n",
    "- `Series`: One-dimensional labeled array.\n",
    "- `DataFrame`: Two-dimensional labeled data structure.\n",
    "\n",
    "In Machine Learning and Deep Learning workflows, Pandas is used for:\n",
    "- Data cleaning\n",
    "- Exploratory Data Analysis (EDA)\n",
    "- Feature engineering\n",
    "- Data transformation before feeding into models"
   ]
  },
  {
   "cell_type": "code",
   "execution_count": 1,
   "id": "18509ea2",
   "metadata": {},
   "outputs": [
    {
     "data": {
      "application/vnd.microsoft.datawrangler.viewer.v0+json": {
       "columns": [
        {
         "name": "index",
         "rawType": "int64",
         "type": "integer"
        },
        {
         "name": "Age",
         "rawType": "int64",
         "type": "integer"
        },
        {
         "name": "Salary",
         "rawType": "int64",
         "type": "integer"
        },
        {
         "name": "Purchased",
         "rawType": "int64",
         "type": "integer"
        }
       ],
       "conversionMethod": "pd.DataFrame",
       "ref": "37dc3927-63aa-4c31-bd7f-bed92c524a17",
       "rows": [
        [
         "0",
         "25",
         "50000",
         "0"
        ],
        [
         "1",
         "30",
         "60000",
         "1"
        ],
        [
         "2",
         "22",
         "48000",
         "0"
        ],
        [
         "3",
         "35",
         "80000",
         "1"
        ]
       ],
       "shape": {
        "columns": 3,
        "rows": 4
       }
      },
      "text/html": [
       "<div>\n",
       "<style scoped>\n",
       "    .dataframe tbody tr th:only-of-type {\n",
       "        vertical-align: middle;\n",
       "    }\n",
       "\n",
       "    .dataframe tbody tr th {\n",
       "        vertical-align: top;\n",
       "    }\n",
       "\n",
       "    .dataframe thead th {\n",
       "        text-align: right;\n",
       "    }\n",
       "</style>\n",
       "<table border=\"1\" class=\"dataframe\">\n",
       "  <thead>\n",
       "    <tr style=\"text-align: right;\">\n",
       "      <th></th>\n",
       "      <th>Age</th>\n",
       "      <th>Salary</th>\n",
       "      <th>Purchased</th>\n",
       "    </tr>\n",
       "  </thead>\n",
       "  <tbody>\n",
       "    <tr>\n",
       "      <th>0</th>\n",
       "      <td>25</td>\n",
       "      <td>50000</td>\n",
       "      <td>0</td>\n",
       "    </tr>\n",
       "    <tr>\n",
       "      <th>1</th>\n",
       "      <td>30</td>\n",
       "      <td>60000</td>\n",
       "      <td>1</td>\n",
       "    </tr>\n",
       "    <tr>\n",
       "      <th>2</th>\n",
       "      <td>22</td>\n",
       "      <td>48000</td>\n",
       "      <td>0</td>\n",
       "    </tr>\n",
       "    <tr>\n",
       "      <th>3</th>\n",
       "      <td>35</td>\n",
       "      <td>80000</td>\n",
       "      <td>1</td>\n",
       "    </tr>\n",
       "  </tbody>\n",
       "</table>\n",
       "</div>"
      ],
      "text/plain": [
       "   Age  Salary  Purchased\n",
       "0   25   50000          0\n",
       "1   30   60000          1\n",
       "2   22   48000          0\n",
       "3   35   80000          1"
      ]
     },
     "execution_count": 1,
     "metadata": {},
     "output_type": "execute_result"
    }
   ],
   "source": [
    "import pandas as pd\n",
    "\n",
    "# Creating a simple DataFrame\n",
    "data = {\n",
    "    'Age': [25, 30, 22, 35],\n",
    "    'Salary': [50000, 60000, 48000, 80000],\n",
    "    'Purchased': [0, 1, 0, 1]\n",
    "}\n",
    "df = pd.DataFrame(data)\n",
    "df"
   ]
  },
  {
   "cell_type": "markdown",
   "id": "761b139a",
   "metadata": {},
   "source": [
    "# Slide 2: Data Inspection and Cleaning\n",
    "\n",
    "Before training models, inspect and clean data:\n",
    "- `.head()`, `.info()`, `.describe()`, `.isnull()`, `.dropna()`, `.fillna()`"
   ]
  },
  {
   "cell_type": "code",
   "execution_count": 2,
   "id": "1121706b",
   "metadata": {},
   "outputs": [
    {
     "name": "stdout",
     "output_type": "stream",
     "text": [
      "   Age  Salary  Purchased\n",
      "0   25   50000          0\n",
      "1   30   60000          1\n",
      "2   22   48000          0\n",
      "3   35   80000          1\n",
      "<class 'pandas.core.frame.DataFrame'>\n",
      "RangeIndex: 4 entries, 0 to 3\n",
      "Data columns (total 3 columns):\n",
      " #   Column     Non-Null Count  Dtype\n",
      "---  ------     --------------  -----\n",
      " 0   Age        4 non-null      int64\n",
      " 1   Salary     4 non-null      int64\n",
      " 2   Purchased  4 non-null      int64\n",
      "dtypes: int64(3)\n",
      "memory usage: 228.0 bytes\n",
      "None\n",
      "             Age        Salary  Purchased\n",
      "count   4.000000      4.000000    4.00000\n",
      "mean   28.000000  59500.000000    0.50000\n",
      "std     5.715476  14640.127504    0.57735\n",
      "min    22.000000  48000.000000    0.00000\n",
      "25%    24.250000  49500.000000    0.00000\n",
      "50%    27.500000  55000.000000    0.50000\n",
      "75%    31.250000  65000.000000    1.00000\n",
      "max    35.000000  80000.000000    1.00000\n",
      "Age          0\n",
      "Salary       0\n",
      "Purchased    0\n",
      "dtype: int64\n"
     ]
    }
   ],
   "source": [
    "# Inspecting the data\n",
    "print(df.head())\n",
    "print(df.info())\n",
    "print(df.describe())\n",
    "\n",
    "# Check for missing values\n",
    "print(df.isnull().sum())"
   ]
  },
  {
   "cell_type": "markdown",
   "id": "ac2765b6",
   "metadata": {},
   "source": [
    "# Slide 3: Data Selection and Transformation\n",
    "\n",
    "Use Pandas for selecting and transforming data:\n",
    "- Selecting rows/columns using `.loc[]`, `.iloc[]`\n",
    "- Feature engineering using `.apply()`, `.map()`, and arithmetic operations"
   ]
  },
  {
   "cell_type": "code",
   "execution_count": 3,
   "id": "5cc8f334",
   "metadata": {},
   "outputs": [
    {
     "data": {
      "application/vnd.microsoft.datawrangler.viewer.v0+json": {
       "columns": [
        {
         "name": "index",
         "rawType": "int64",
         "type": "integer"
        },
        {
         "name": "Age",
         "rawType": "int64",
         "type": "integer"
        },
        {
         "name": "Salary",
         "rawType": "int64",
         "type": "integer"
        },
        {
         "name": "Purchased",
         "rawType": "int64",
         "type": "integer"
        },
        {
         "name": "Salary_in_K",
         "rawType": "float64",
         "type": "float"
        }
       ],
       "conversionMethod": "pd.DataFrame",
       "ref": "94afce67-fd32-4bb4-8606-c8338f51a34a",
       "rows": [
        [
         "0",
         "25",
         "50000",
         "0",
         "50.0"
        ],
        [
         "1",
         "30",
         "60000",
         "1",
         "60.0"
        ],
        [
         "2",
         "22",
         "48000",
         "0",
         "48.0"
        ],
        [
         "3",
         "35",
         "80000",
         "1",
         "80.0"
        ]
       ],
       "shape": {
        "columns": 4,
        "rows": 4
       }
      },
      "text/html": [
       "<div>\n",
       "<style scoped>\n",
       "    .dataframe tbody tr th:only-of-type {\n",
       "        vertical-align: middle;\n",
       "    }\n",
       "\n",
       "    .dataframe tbody tr th {\n",
       "        vertical-align: top;\n",
       "    }\n",
       "\n",
       "    .dataframe thead th {\n",
       "        text-align: right;\n",
       "    }\n",
       "</style>\n",
       "<table border=\"1\" class=\"dataframe\">\n",
       "  <thead>\n",
       "    <tr style=\"text-align: right;\">\n",
       "      <th></th>\n",
       "      <th>Age</th>\n",
       "      <th>Salary</th>\n",
       "      <th>Purchased</th>\n",
       "      <th>Salary_in_K</th>\n",
       "    </tr>\n",
       "  </thead>\n",
       "  <tbody>\n",
       "    <tr>\n",
       "      <th>0</th>\n",
       "      <td>25</td>\n",
       "      <td>50000</td>\n",
       "      <td>0</td>\n",
       "      <td>50.0</td>\n",
       "    </tr>\n",
       "    <tr>\n",
       "      <th>1</th>\n",
       "      <td>30</td>\n",
       "      <td>60000</td>\n",
       "      <td>1</td>\n",
       "      <td>60.0</td>\n",
       "    </tr>\n",
       "    <tr>\n",
       "      <th>2</th>\n",
       "      <td>22</td>\n",
       "      <td>48000</td>\n",
       "      <td>0</td>\n",
       "      <td>48.0</td>\n",
       "    </tr>\n",
       "    <tr>\n",
       "      <th>3</th>\n",
       "      <td>35</td>\n",
       "      <td>80000</td>\n",
       "      <td>1</td>\n",
       "      <td>80.0</td>\n",
       "    </tr>\n",
       "  </tbody>\n",
       "</table>\n",
       "</div>"
      ],
      "text/plain": [
       "   Age  Salary  Purchased  Salary_in_K\n",
       "0   25   50000          0         50.0\n",
       "1   30   60000          1         60.0\n",
       "2   22   48000          0         48.0\n",
       "3   35   80000          1         80.0"
      ]
     },
     "execution_count": 3,
     "metadata": {},
     "output_type": "execute_result"
    }
   ],
   "source": [
    "# Select specific columns\n",
    "features = df[['Age', 'Salary']]\n",
    "labels = df['Purchased']\n",
    "\n",
    "# Creating a new feature\n",
    "df['Salary_in_K'] = df['Salary'] / 1000\n",
    "df"
   ]
  },
  {
   "cell_type": "markdown",
   "id": "0afa8bb2",
   "metadata": {},
   "source": [
    "# Slide 4: Useful Operations for ML Preprocessing\n",
    "\n",
    "Pandas simplifies preprocessing:\n",
    "- Handling categorical variables: `.astype()`, `pd.get_dummies()`\n",
    "- Normalization: `(df - df.mean()) / df.std()`"
   ]
  },
  {
   "cell_type": "code",
   "execution_count": 4,
   "id": "26595c6b",
   "metadata": {},
   "outputs": [
    {
     "data": {
      "application/vnd.microsoft.datawrangler.viewer.v0+json": {
       "columns": [
        {
         "name": "index",
         "rawType": "int64",
         "type": "integer"
        },
        {
         "name": "Age",
         "rawType": "float64",
         "type": "float"
        },
        {
         "name": "Salary",
         "rawType": "float64",
         "type": "float"
        },
        {
         "name": "Salary_in_K",
         "rawType": "float64",
         "type": "float"
        },
        {
         "name": "Purchased_1",
         "rawType": "bool",
         "type": "boolean"
        }
       ],
       "conversionMethod": "pd.DataFrame",
       "ref": "05528490-e906-4f12-ad7d-573c0b627ad3",
       "rows": [
        [
         "0",
         "-0.5248906591678238",
         "-0.6489014523545213",
         "50.0",
         "False"
        ],
        [
         "1",
         "0.3499271061118826",
         "0.034152708018659016",
         "60.0",
         "True"
        ],
        [
         "2",
         "-1.0497813183356477",
         "-0.7855122844291574",
         "48.0",
         "False"
        ],
        [
         "3",
         "1.2247448713915892",
         "1.4002610287650197",
         "80.0",
         "True"
        ]
       ],
       "shape": {
        "columns": 4,
        "rows": 4
       }
      },
      "text/html": [
       "<div>\n",
       "<style scoped>\n",
       "    .dataframe tbody tr th:only-of-type {\n",
       "        vertical-align: middle;\n",
       "    }\n",
       "\n",
       "    .dataframe tbody tr th {\n",
       "        vertical-align: top;\n",
       "    }\n",
       "\n",
       "    .dataframe thead th {\n",
       "        text-align: right;\n",
       "    }\n",
       "</style>\n",
       "<table border=\"1\" class=\"dataframe\">\n",
       "  <thead>\n",
       "    <tr style=\"text-align: right;\">\n",
       "      <th></th>\n",
       "      <th>Age</th>\n",
       "      <th>Salary</th>\n",
       "      <th>Salary_in_K</th>\n",
       "      <th>Purchased_1</th>\n",
       "    </tr>\n",
       "  </thead>\n",
       "  <tbody>\n",
       "    <tr>\n",
       "      <th>0</th>\n",
       "      <td>-0.524891</td>\n",
       "      <td>-0.648901</td>\n",
       "      <td>50.0</td>\n",
       "      <td>False</td>\n",
       "    </tr>\n",
       "    <tr>\n",
       "      <th>1</th>\n",
       "      <td>0.349927</td>\n",
       "      <td>0.034153</td>\n",
       "      <td>60.0</td>\n",
       "      <td>True</td>\n",
       "    </tr>\n",
       "    <tr>\n",
       "      <th>2</th>\n",
       "      <td>-1.049781</td>\n",
       "      <td>-0.785512</td>\n",
       "      <td>48.0</td>\n",
       "      <td>False</td>\n",
       "    </tr>\n",
       "    <tr>\n",
       "      <th>3</th>\n",
       "      <td>1.224745</td>\n",
       "      <td>1.400261</td>\n",
       "      <td>80.0</td>\n",
       "      <td>True</td>\n",
       "    </tr>\n",
       "  </tbody>\n",
       "</table>\n",
       "</div>"
      ],
      "text/plain": [
       "        Age    Salary  Salary_in_K  Purchased_1\n",
       "0 -0.524891 -0.648901         50.0        False\n",
       "1  0.349927  0.034153         60.0         True\n",
       "2 -1.049781 -0.785512         48.0        False\n",
       "3  1.224745  1.400261         80.0         True"
      ]
     },
     "execution_count": 4,
     "metadata": {},
     "output_type": "execute_result"
    }
   ],
   "source": [
    "# Convert 'Purchased' to categorical (if not already)\n",
    "df['Purchased'] = df['Purchased'].astype('category')\n",
    "\n",
    "# One-hot encoding example\n",
    "df_encoded = pd.get_dummies(df, columns=['Purchased'], drop_first=True)\n",
    "\n",
    "# Normalize numerical columns\n",
    "df_encoded[['Age', 'Salary']] = (df_encoded[['Age', 'Salary']] - df_encoded[['Age', 'Salary']].mean()) / df_encoded[['Age', 'Salary']].std()\n",
    "df_encoded"
   ]
  }
 ],
 "metadata": {
  "kernelspec": {
   "display_name": "csdi-ml-class-3.12",
   "language": "python",
   "name": "python3"
  },
  "language_info": {
   "codemirror_mode": {
    "name": "ipython",
    "version": 3
   },
   "file_extension": ".py",
   "mimetype": "text/x-python",
   "name": "python",
   "nbconvert_exporter": "python",
   "pygments_lexer": "ipython3",
   "version": "3.12.9"
  }
 },
 "nbformat": 4,
 "nbformat_minor": 5
}
