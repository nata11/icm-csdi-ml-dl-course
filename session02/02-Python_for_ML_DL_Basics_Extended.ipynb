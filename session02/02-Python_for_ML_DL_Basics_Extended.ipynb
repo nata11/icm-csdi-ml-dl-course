{
 "cells": [
  {
   "cell_type": "markdown",
   "id": "e2c0d7d6",
   "metadata": {},
   "source": [
    "# Python for Machine Learning & Deep Learning (Without Third-Party Libraries)\n",
    "\n",
    "## Slide 1: Python Basics — Variables, Data Types, and Operations\n",
    "\n",
    "### Concepts\n",
    "\n",
    "- Variables store data values.\n",
    "\n",
    "- Data types: int, float, str, bool\n",
    "\n",
    "- Operations: arithmetic, comparison, logical\n",
    "\n",
    "### ML/DL Context Note:\n",
    "Understanding basic types and operations is crucial for hyperparameter tuning, loop control, and conditional logic in training models."
   ]
  },
  {
   "cell_type": "code",
   "execution_count": 2,
   "id": "b4d4cea8",
   "metadata": {},
   "outputs": [
    {
     "name": "stdout",
     "output_type": "stream",
     "text": [
      "True\n",
      "True\n"
     ]
    }
   ],
   "source": [
    "# Variables and data types\n",
    "epochs = 10          # int\n",
    "learning_rate = 0.01 # float\n",
    "model_name = \"MLP\"   # str\n",
    "is_trained = False   # bool\n",
    "\n",
    "# Arithmetic operations\n",
    "total_steps = epochs * 100\n",
    "adjusted_lr = learning_rate / 2\n",
    "\n",
    "# Comparison\n",
    "print(epochs > 5)  # True\n",
    "\n",
    "# Logical operations\n",
    "should_train = not is_trained and epochs > 0\n",
    "print(should_train)  # True"
   ]
  },
  {
   "cell_type": "markdown",
   "id": "3e5e58a8",
   "metadata": {},
   "source": [
    "## Slide 2: Control Flow — Conditional Statements and Loops\n",
    "\n",
    "### Concepts\n",
    "\n",
    "- if, elif, else for decision making\n",
    "\n",
    "- for loops for iteration\n",
    "\n",
    "- while loops for repetition\n",
    "\n",
    "### ML/DL Context Note:\n",
    "Control flows manage the training loops, early stopping, or adjusting learning rates during training."
   ]
  },
  {
   "cell_type": "code",
   "execution_count": 3,
   "id": "8166f462",
   "metadata": {},
   "outputs": [
    {
     "name": "stdout",
     "output_type": "stream",
     "text": [
      "Good model, but can improve.\n",
      "Epoch 1 completed\n",
      "Epoch 2 completed\n",
      "Epoch 3 completed\n",
      "Epoch 4 completed\n",
      "Epoch 5 completed\n",
      "Epoch 6 completed\n",
      "Epoch 7 completed\n",
      "Epoch 8 completed\n",
      "Epoch 9 completed\n",
      "Epoch 10 completed\n",
      "Current loss: 0.5\n",
      "Current loss: 0.25\n",
      "Current loss: 0.125\n",
      "Current loss: 0.0625\n"
     ]
    }
   ],
   "source": [
    "# Conditional statements\n",
    "accuracy = 0.85\n",
    "if accuracy > 0.9:\n",
    "    print(\"Excellent model!\")\n",
    "elif accuracy > 0.8:\n",
    "    print(\"Good model, but can improve.\")\n",
    "else:\n",
    "    print(\"Needs improvement.\")\n",
    "\n",
    "# For loop (simulating epochs)\n",
    "for epoch in range(1, epochs + 1):\n",
    "    print(f\"Epoch {epoch} completed\")\n",
    "\n",
    "# While loop (until convergence)\n",
    "loss = 1.0\n",
    "while loss > 0.1:\n",
    "    loss *= 0.5  # Simulate loss reduction\n",
    "    print(f\"Current loss: {loss}\")"
   ]
  },
  {
   "cell_type": "markdown",
   "id": "06d305da",
   "metadata": {},
   "source": [
    "## Slide 3: Functions — Modularizing ML Workflows\n",
    "\n",
    "### Concepts\n",
    "\n",
    "- Define reusable functions with def\n",
    "\n",
    "- Return values\n",
    "\n",
    "- Parameters (default and positional)\n",
    "\n",
    "### ML/DL Context Note:\n",
    "Functions make it easier to organize code for training, evaluation, data processing, and callbacks."
   ]
  },
  {
   "cell_type": "code",
   "execution_count": null,
   "id": "57a83b6b",
   "metadata": {},
   "outputs": [],
   "source": [
    "# Function to simulate training\n",
    "def train_model(epochs, learning_rate):\n",
    "    print(f\"Training for {epochs} epochs with lr={learning_rate}\")\n",
    "    return \"model_trained\"\n",
    "\n",
    "# Calling the function\n",
    "model_status = train_model(epochs=5, learning_rate=0.001)\n",
    "print(model_status)\n",
    "\n",
    "# Function with default parameter\n",
    "def adjust_learning_rate(current_lr, factor=0.1):\n",
    "    return current_lr * factor\n",
    "\n",
    "new_lr = adjust_learning_rate(learning_rate)\n",
    "print(f\"Adjusted learning rate: {new_lr}\")"
   ]
  },
  {
   "cell_type": "markdown",
   "id": "ddf39575",
   "metadata": {},
   "source": [
    "## Slide 4: Data Structures — Lists, Tuples, Dictionaries\n",
    "\n",
    "### Concepts\n",
    "\n",
    "- list: ordered, mutable collection\n",
    "\n",
    "- tuple: ordered, immutable collection\n",
    "\n",
    "- dict: key-value mapping\n",
    "\n",
    "### ML/DL Context Note:\n",
    "Data structures help store datasets, hyperparameters, metrics, and configuration dictionaries."
   ]
  },
  {
   "cell_type": "code",
   "execution_count": 4,
   "id": "c79b8216",
   "metadata": {},
   "outputs": [
    {
     "name": "stdout",
     "output_type": "stream",
     "text": [
      "0.9\n",
      "relu\n"
     ]
    }
   ],
   "source": [
    "# List of losses per epoch\n",
    "loss_history = [0.9, 0.7, 0.5, 0.3]\n",
    "\n",
    "# Accessing list elements\n",
    "print(loss_history[0])  # 0.9\n",
    "\n",
    "# Tuple for immutable hyperparameters\n",
    "hyperparams = (32, 0.001)  # (batch_size, learning_rate)\n",
    "\n",
    "# Dictionary for model config\n",
    "model_config = {\n",
    "    \"input_dim\": 784,\n",
    "    \"output_dim\": 10,\n",
    "    \"activation\": \"relu\"\n",
    "}\n",
    "\n",
    "# Accessing dictionary values\n",
    "print(model_config[\"activation\"])  # relu"
   ]
  },
  {
   "cell_type": "markdown",
   "id": "24e6b445",
   "metadata": {},
   "source": [
    "## Slide 5: List Comprehensions — Clean Data Transformations"
   ]
  },
  {
   "cell_type": "code",
   "execution_count": null,
   "id": "470fbfbe",
   "metadata": {},
   "outputs": [],
   "source": [
    "# Generate squared numbers\n",
    "squared_numbers = [x ** 2 for x in range(5)]\n",
    "print(squared_numbers)  # [0, 1, 4, 9, 16]\n",
    "\n",
    "# Filter loss values below threshold\n",
    "low_losses = [loss for loss in loss_history if loss < 0.5]\n",
    "print(low_losses)  # [0.3]"
   ]
  },
  {
   "cell_type": "markdown",
   "id": "e64c0125",
   "metadata": {},
   "source": [
    "## Slide 6: Error Handling — Safe Execution"
   ]
  },
  {
   "cell_type": "code",
   "execution_count": null,
   "id": "02d82ace",
   "metadata": {},
   "outputs": [],
   "source": [
    "try:\n",
    "    # Simulate division by zero\n",
    "    value = 10 / 0\n",
    "except ZeroDivisionError:\n",
    "    print(\"Cannot divide by zero!\")\n",
    "finally:\n",
    "    print(\"Execution completed.\")"
   ]
  },
  {
   "cell_type": "markdown",
   "id": "08194c85",
   "metadata": {},
   "source": [
    "## Slide 7: Classes and Object-Oriented Programming — Model Blueprints"
   ]
  },
  {
   "cell_type": "code",
   "execution_count": null,
   "id": "df2b6bbc",
   "metadata": {},
   "outputs": [],
   "source": [
    "class SimpleModel:\n",
    "    def __init__(self, input_dim, output_dim):\n",
    "        self.input_dim = input_dim\n",
    "        self.output_dim = output_dim\n",
    "        self.trained = False\n",
    "\n",
    "    def train(self):\n",
    "        print(f\"Training model with input dim {self.input_dim} and output dim {self.output_dim}\")\n",
    "        self.trained = True\n",
    "\n",
    "    def predict(self, input_data):\n",
    "        if self.trained:\n",
    "            print(f\"Predicting output for input: {input_data}\")\n",
    "        else:\n",
    "            print(\"Model is not trained yet!\")\n",
    "\n",
    "# Using the class\n",
    "model = SimpleModel(784, 10)\n",
    "model.train()\n",
    "model.predict([0.5] * 784)"
   ]
  },
  {
   "cell_type": "markdown",
   "id": "97eab0d6",
   "metadata": {},
   "source": [
    "## Slide 8: File I/O — Reading and Writing Data"
   ]
  },
  {
   "cell_type": "code",
   "execution_count": null,
   "id": "671051d4",
   "metadata": {},
   "outputs": [],
   "source": [
    "# Writing to a file\n",
    "with open(\"sample_output.txt\", \"w\") as file:\n",
    "    file.write(\"Training completed successfully!\\n\")\n",
    "\n",
    "# Reading from a file\n",
    "with open(\"sample_output.txt\", \"r\") as file:\n",
    "    content = file.read()\n",
    "    print(content)"
   ]
  },
  {
   "cell_type": "markdown",
   "id": "c9440498",
   "metadata": {},
   "source": [
    "## Slide 9: Decorators — Enhancing Functions"
   ]
  },
  {
   "cell_type": "code",
   "execution_count": null,
   "id": "160a9244",
   "metadata": {},
   "outputs": [],
   "source": [
    "def log_decorator(func):\n",
    "    def wrapper(*args, **kwargs):\n",
    "        print(f\"Calling function: {func.__name__}\")\n",
    "        result = func(*args, **kwargs)\n",
    "        print(\"Function execution completed.\")\n",
    "        return result\n",
    "    return wrapper\n",
    "\n",
    "@log_decorator\n",
    "def sample_training():\n",
    "    print(\"Simulating training process...\")\n",
    "\n",
    "sample_training()"
   ]
  }
 ],
 "metadata": {
  "kernelspec": {
   "display_name": "csdi-ml-class-3.12",
   "language": "python",
   "name": "python3"
  },
  "language_info": {
   "codemirror_mode": {
    "name": "ipython",
    "version": 3
   },
   "file_extension": ".py",
   "mimetype": "text/x-python",
   "name": "python",
   "nbconvert_exporter": "python",
   "pygments_lexer": "ipython3",
   "version": "3.12.9"
  }
 },
 "nbformat": 4,
 "nbformat_minor": 5
}
