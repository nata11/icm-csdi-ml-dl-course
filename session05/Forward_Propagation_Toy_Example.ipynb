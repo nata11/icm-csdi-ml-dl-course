{
 "cells": [
  {
   "cell_type": "markdown",
   "id": "803a9bb1",
   "metadata": {},
   "source": [
    "# Deep Learning Forward Pass Example"
   ]
  },
  {
   "cell_type": "markdown",
   "id": "d037bf51",
   "metadata": {},
   "source": [
    "This notebook demonstrates a toy example of a deep neural network with:\n",
    "- **Input layer**: 2 neurons  \n",
    "- **Hidden layer 1**: 3 neurons (ReLU)  \n",
    "- **Hidden layer 2**: 2 neurons (ReLU)  \n",
    "- **Output layer**: 1 neuron (Sigmoid)  \n",
    "We will go through one complete forward propagation pass using toy values and both **algebraic** and **matrix-vector** calculations.\n"
   ]
  },
  {
   "cell_type": "code",
   "execution_count": 16,
   "id": "4f191b05",
   "metadata": {},
   "outputs": [],
   "source": [
    "import numpy as np\n",
    "\n",
    "def relu(z):\n",
    "    return np.maximum(0, z)\n",
    "\n",
    "def sigmoid(z):\n",
    "    return 1 / (1 + np.exp(-z))\n"
   ]
  },
  {
   "cell_type": "code",
   "execution_count": 17,
   "id": "4fd1e924",
   "metadata": {},
   "outputs": [],
   "source": [
    "# Input\n",
    "x = np.array([[1.0], [2.0]])"
   ]
  },
  {
   "cell_type": "code",
   "execution_count": 18,
   "id": "e4ca427f",
   "metadata": {},
   "outputs": [],
   "source": [
    "# Weights and Biases LAYER 1 , 3 neurons, hidden layer\n",
    "W1 = np.array([[1.0, 1.0],\n",
    "               [0.5, 0.5],\n",
    "               [1.0, -1.0]])\n",
    "b1 = np.array([[0.0], [0.0], [0.0]])\n"
   ]
  },
  {
   "cell_type": "code",
   "execution_count": 19,
   "id": "547a9c32",
   "metadata": {},
   "outputs": [],
   "source": [
    "# Weights and Biases LAYER 2 , 2 neurons, hidden layer\n",
    "\n",
    "W2 = np.array([[0.2, 0.5, 0.3],\n",
    "               [0.3, 0.1, 0.6]])\n",
    "b2 = np.array([[0.1], [0.2]])"
   ]
  },
  {
   "cell_type": "code",
   "execution_count": 20,
   "id": "309d6caa",
   "metadata": {},
   "outputs": [],
   "source": [
    "# Weights and Biases LAYER 3 , 1 neuron, output layer\n",
    "W3 = np.array([[0.4, 0.5]])\n",
    "b3 = np.array([[0.3]])"
   ]
  },
  {
   "cell_type": "code",
   "execution_count": 21,
   "id": "2cad2467",
   "metadata": {},
   "outputs": [],
   "source": [
    "# Hidden Layer 1\n",
    "z1 = W1 @ x + b1\n",
    "a1 = relu(z1)"
   ]
  },
  {
   "cell_type": "code",
   "execution_count": 22,
   "id": "da858936",
   "metadata": {},
   "outputs": [],
   "source": [
    "# Hidden Layer 2\n",
    "z2 = W2 @ a1 + b2\n",
    "a2 = relu(z2)"
   ]
  },
  {
   "cell_type": "code",
   "execution_count": 23,
   "id": "d7e66e12",
   "metadata": {},
   "outputs": [],
   "source": [
    "# Output Layer\n",
    "z3 = W3 @ a2 + b3\n",
    "y_hat = sigmoid(z3)"
   ]
  },
  {
   "cell_type": "code",
   "execution_count": 24,
   "id": "eac57c20",
   "metadata": {},
   "outputs": [
    {
     "data": {
      "text/plain": [
       "(array([[ 3. ],\n",
       "        [ 1.5],\n",
       "        [-1. ]]),\n",
       " array([[3. ],\n",
       "        [1.5],\n",
       "        [0. ]]),\n",
       " array([[1.45],\n",
       "        [1.25]]),\n",
       " array([[1.45],\n",
       "        [1.25]]),\n",
       " array([[1.505]]),\n",
       " array([[0.81831902]]))"
      ]
     },
     "execution_count": 24,
     "metadata": {},
     "output_type": "execute_result"
    }
   ],
   "source": [
    "# Display all intermediate results\n",
    "z1, a1, z2, a2, z3, y_hat"
   ]
  },
  {
   "cell_type": "markdown",
   "id": "efe72227",
   "metadata": {},
   "source": [
    "### Final Output:\n",
    "The result of the forward propagation is a single scalar prediction from the network. The final output, using sigmoid activation, lies in the range (0, 1). \n",
    "\n",
    "We manually chose the weights and biases such that the final output lies between **0.8 and 0.9**.\n"
   ]
  }
 ],
 "metadata": {
  "kernelspec": {
   "display_name": "csdi-dl-class-3.11",
   "language": "python",
   "name": "python3"
  },
  "language_info": {
   "codemirror_mode": {
    "name": "ipython",
    "version": 3
   },
   "file_extension": ".py",
   "mimetype": "text/x-python",
   "name": "python",
   "nbconvert_exporter": "python",
   "pygments_lexer": "ipython3",
   "version": "3.11.11"
  }
 },
 "nbformat": 4,
 "nbformat_minor": 5
}
