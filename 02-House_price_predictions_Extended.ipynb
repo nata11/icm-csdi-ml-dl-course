{
 "cells": [
  {
   "cell_type": "markdown",
   "id": "0cc9741d",
   "metadata": {},
   "source": [
    "### House predictions with linear regression"
   ]
  },
  {
   "cell_type": "code",
   "execution_count": null,
   "id": "14667b9b",
   "metadata": {},
   "outputs": [],
   "source": [
    "import pandas as pd\n",
    "import numpy as np\n",
    "import matplotlib.pyplot as plt\n",
    "import plotly.express as px\n",
    "import plotly.graph_objects as go\n",
    "from sklearn.linear_model import LinearRegression\n",
    "from sklearn.ensemble import RandomForestRegressor\n",
    "from sklearn.metrics import mean_squared_error, mean_absolute_error\n",
    "from sklearn.model_selection import train_test_split\n",
    "from skimpy import skim\n",
    "import utils"
   ]
  },
  {
   "cell_type": "code",
   "execution_count": null,
   "id": "21e6d3ff",
   "metadata": {},
   "outputs": [],
   "source": [
    "# Load the data using pandas\n",
    "data = pd.read_csv('Hyderabad.csv')\n",
    "data"
   ]
  },
  {
   "cell_type": "code",
   "execution_count": null,
   "id": "9e388cb8",
   "metadata": {},
   "outputs": [],
   "source": [
    "skim(data)"
   ]
  },
  {
   "cell_type": "code",
   "execution_count": null,
   "id": "4969ed8e",
   "metadata": {},
   "outputs": [],
   "source": [
    "data[\"Location\"] = data[\"Location\"].astype('category')\n",
    "data[\"Location\"] = data[\"Location\"].cat.codes\n",
    "data"
   ]
  },
  {
   "cell_type": "code",
   "execution_count": 37,
   "id": "77e9d56e",
   "metadata": {},
   "outputs": [
    {
     "data": {
      "application/vnd.microsoft.datawrangler.viewer.v0+json": {
       "columns": [
        {
         "name": "index",
         "rawType": "int64",
         "type": "integer"
        },
        {
         "name": "Area",
         "rawType": "int64",
         "type": "integer"
        },
        {
         "name": "No. of Bedrooms",
         "rawType": "int64",
         "type": "integer"
        },
        {
         "name": "Location",
         "rawType": "int16",
         "type": "integer"
        },
        {
         "name": "Price",
         "rawType": "int64",
         "type": "integer"
        }
       ],
       "conversionMethod": "pd.DataFrame",
       "ref": "7d2a3be7-bdf7-442a-a65f-c5e6f2740f0e",
       "rows": [
        [
         "0",
         "1340",
         "2",
         "162",
         "6968000"
        ],
        [
         "1",
         "3498",
         "4",
         "85",
         "29000000"
        ],
        [
         "2",
         "1318",
         "2",
         "132",
         "6590000"
        ],
        [
         "3",
         "1295",
         "3",
         "9",
         "5739000"
        ],
        [
         "4",
         "1145",
         "2",
         "118",
         "5679000"
        ],
        [
         "5",
         "1230",
         "2",
         "162",
         "6099000"
        ],
        [
         "6",
         "1350",
         "2",
         "132",
         "7000000"
        ],
        [
         "7",
         "1400",
         "3",
         "70",
         "4198000"
        ],
        [
         "8",
         "2240",
         "3",
         "212",
         "9900000"
        ],
        [
         "9",
         "1520",
         "2",
         "70",
         "9800000"
        ],
        [
         "10",
         "1535",
         "3",
         "107",
         "8903000"
        ],
        [
         "11",
         "1150",
         "2",
         "87",
         "6300000"
        ],
        [
         "12",
         "1285",
         "2",
         "139",
         "6300000"
        ],
        [
         "13",
         "1897",
         "3",
         "212",
         "9000000"
        ],
        [
         "14",
         "1725",
         "3",
         "158",
         "11100000"
        ],
        [
         "15",
         "1665",
         "3",
         "103",
         "11500000"
        ],
        [
         "16",
         "1592",
         "3",
         "118",
         "10900000"
        ],
        [
         "17",
         "1150",
         "2",
         "124",
         "8625000"
        ],
        [
         "18",
         "2240",
         "3",
         "212",
         "9900000"
        ],
        [
         "19",
         "1050",
         "3",
         "180",
         "3900000"
        ],
        [
         "20",
         "1340",
         "2",
         "162",
         "6968000"
        ],
        [
         "21",
         "3498",
         "4",
         "85",
         "29000000"
        ],
        [
         "22",
         "1318",
         "2",
         "132",
         "6590000"
        ],
        [
         "23",
         "1295",
         "3",
         "9",
         "5739000"
        ],
        [
         "24",
         "1145",
         "2",
         "118",
         "5679000"
        ],
        [
         "25",
         "1230",
         "2",
         "162",
         "6099000"
        ],
        [
         "26",
         "1350",
         "2",
         "132",
         "7000000"
        ],
        [
         "27",
         "1400",
         "3",
         "70",
         "4198000"
        ],
        [
         "28",
         "2240",
         "3",
         "212",
         "9900000"
        ],
        [
         "29",
         "1520",
         "2",
         "70",
         "9800000"
        ],
        [
         "30",
         "1535",
         "3",
         "107",
         "8903000"
        ],
        [
         "31",
         "1150",
         "2",
         "87",
         "6300000"
        ],
        [
         "32",
         "1285",
         "2",
         "139",
         "6300000"
        ],
        [
         "33",
         "1897",
         "3",
         "212",
         "9000000"
        ],
        [
         "34",
         "1725",
         "3",
         "158",
         "11100000"
        ],
        [
         "35",
         "1665",
         "3",
         "103",
         "11500000"
        ],
        [
         "36",
         "1592",
         "3",
         "118",
         "10900000"
        ],
        [
         "37",
         "1150",
         "2",
         "124",
         "8625000"
        ],
        [
         "38",
         "2240",
         "3",
         "212",
         "9900000"
        ],
        [
         "39",
         "1050",
         "3",
         "180",
         "3900000"
        ],
        [
         "40",
         "1735",
         "3",
         "180",
         "7800000"
        ],
        [
         "41",
         "2800",
         "3",
         "158",
         "19600000"
        ],
        [
         "42",
         "1050",
         "2",
         "39",
         "6050000"
        ],
        [
         "43",
         "1230",
         "2",
         "118",
         "6150000"
        ],
        [
         "44",
         "1175",
         "2",
         "162",
         "5000000"
        ],
        [
         "45",
         "1190",
         "2",
         "162",
         "4760000"
        ],
        [
         "46",
         "2956",
         "4",
         "33",
         "30000000"
        ],
        [
         "47",
         "680",
         "2",
         "1",
         "2500000"
        ],
        [
         "48",
         "1350",
         "2",
         "177",
         "5900000"
        ],
        [
         "49",
         "1970",
         "3",
         "142",
         "9700000"
        ]
       ],
       "shape": {
        "columns": 4,
        "rows": 2517
       }
      },
      "text/html": [
       "<div>\n",
       "<style scoped>\n",
       "    .dataframe tbody tr th:only-of-type {\n",
       "        vertical-align: middle;\n",
       "    }\n",
       "\n",
       "    .dataframe tbody tr th {\n",
       "        vertical-align: top;\n",
       "    }\n",
       "\n",
       "    .dataframe thead th {\n",
       "        text-align: right;\n",
       "    }\n",
       "</style>\n",
       "<table border=\"1\" class=\"dataframe\">\n",
       "  <thead>\n",
       "    <tr style=\"text-align: right;\">\n",
       "      <th></th>\n",
       "      <th>Area</th>\n",
       "      <th>No. of Bedrooms</th>\n",
       "      <th>Location</th>\n",
       "      <th>Price</th>\n",
       "    </tr>\n",
       "  </thead>\n",
       "  <tbody>\n",
       "    <tr>\n",
       "      <th>0</th>\n",
       "      <td>1340</td>\n",
       "      <td>2</td>\n",
       "      <td>162</td>\n",
       "      <td>6968000</td>\n",
       "    </tr>\n",
       "    <tr>\n",
       "      <th>1</th>\n",
       "      <td>3498</td>\n",
       "      <td>4</td>\n",
       "      <td>85</td>\n",
       "      <td>29000000</td>\n",
       "    </tr>\n",
       "    <tr>\n",
       "      <th>2</th>\n",
       "      <td>1318</td>\n",
       "      <td>2</td>\n",
       "      <td>132</td>\n",
       "      <td>6590000</td>\n",
       "    </tr>\n",
       "    <tr>\n",
       "      <th>3</th>\n",
       "      <td>1295</td>\n",
       "      <td>3</td>\n",
       "      <td>9</td>\n",
       "      <td>5739000</td>\n",
       "    </tr>\n",
       "    <tr>\n",
       "      <th>4</th>\n",
       "      <td>1145</td>\n",
       "      <td>2</td>\n",
       "      <td>118</td>\n",
       "      <td>5679000</td>\n",
       "    </tr>\n",
       "    <tr>\n",
       "      <th>...</th>\n",
       "      <td>...</td>\n",
       "      <td>...</td>\n",
       "      <td>...</td>\n",
       "      <td>...</td>\n",
       "    </tr>\n",
       "    <tr>\n",
       "      <th>2513</th>\n",
       "      <td>1460</td>\n",
       "      <td>2</td>\n",
       "      <td>150</td>\n",
       "      <td>11000000</td>\n",
       "    </tr>\n",
       "    <tr>\n",
       "      <th>2514</th>\n",
       "      <td>1314</td>\n",
       "      <td>2</td>\n",
       "      <td>132</td>\n",
       "      <td>26000000</td>\n",
       "    </tr>\n",
       "    <tr>\n",
       "      <th>2515</th>\n",
       "      <td>2625</td>\n",
       "      <td>3</td>\n",
       "      <td>124</td>\n",
       "      <td>13300000</td>\n",
       "    </tr>\n",
       "    <tr>\n",
       "      <th>2516</th>\n",
       "      <td>2050</td>\n",
       "      <td>3</td>\n",
       "      <td>85</td>\n",
       "      <td>10800000</td>\n",
       "    </tr>\n",
       "    <tr>\n",
       "      <th>2517</th>\n",
       "      <td>1805</td>\n",
       "      <td>3</td>\n",
       "      <td>158</td>\n",
       "      <td>10400000</td>\n",
       "    </tr>\n",
       "  </tbody>\n",
       "</table>\n",
       "<p>2517 rows × 4 columns</p>\n",
       "</div>"
      ],
      "text/plain": [
       "      Area  No. of Bedrooms  Location     Price\n",
       "0     1340                2       162   6968000\n",
       "1     3498                4        85  29000000\n",
       "2     1318                2       132   6590000\n",
       "3     1295                3         9   5739000\n",
       "4     1145                2       118   5679000\n",
       "...    ...              ...       ...       ...\n",
       "2513  1460                2       150  11000000\n",
       "2514  1314                2       132  26000000\n",
       "2515  2625                3       124  13300000\n",
       "2516  2050                3        85  10800000\n",
       "2517  1805                3       158  10400000\n",
       "\n",
       "[2517 rows x 4 columns]"
      ]
     },
     "execution_count": 37,
     "metadata": {},
     "output_type": "execute_result"
    }
   ],
   "source": [
    "data = data[data[\"Price\"] != data[\"Price\"].max()]\n",
    "data"
   ]
  },
  {
   "cell_type": "code",
   "execution_count": 38,
   "id": "4c014eaa",
   "metadata": {},
   "outputs": [],
   "source": [
    "train_set, test_set = train_test_split(data, test_size=0.2, random_state=42)"
   ]
  },
  {
   "cell_type": "code",
   "execution_count": 39,
   "id": "a9f8f8e4",
   "metadata": {},
   "outputs": [],
   "source": [
    "# Prepare the data for multiple linear regression\n",
    "train_X_all = train_set.drop(columns=['Price']).values  # All features except the target\n",
    "train_y_all = train_set['Price'].values                 # Target\n",
    "test_X_all = test_set.drop(columns=['Price']).values  # All features except the target\n",
    "test_y_all = test_set['Price'].values                 # Target"
   ]
  },
  {
   "cell_type": "code",
   "execution_count": 40,
   "id": "c4cc0358",
   "metadata": {},
   "outputs": [
    {
     "data": {
      "text/html": [
       "<style>#sk-container-id-6 {\n",
       "  /* Definition of color scheme common for light and dark mode */\n",
       "  --sklearn-color-text: #000;\n",
       "  --sklearn-color-text-muted: #666;\n",
       "  --sklearn-color-line: gray;\n",
       "  /* Definition of color scheme for unfitted estimators */\n",
       "  --sklearn-color-unfitted-level-0: #fff5e6;\n",
       "  --sklearn-color-unfitted-level-1: #f6e4d2;\n",
       "  --sklearn-color-unfitted-level-2: #ffe0b3;\n",
       "  --sklearn-color-unfitted-level-3: chocolate;\n",
       "  /* Definition of color scheme for fitted estimators */\n",
       "  --sklearn-color-fitted-level-0: #f0f8ff;\n",
       "  --sklearn-color-fitted-level-1: #d4ebff;\n",
       "  --sklearn-color-fitted-level-2: #b3dbfd;\n",
       "  --sklearn-color-fitted-level-3: cornflowerblue;\n",
       "\n",
       "  /* Specific color for light theme */\n",
       "  --sklearn-color-text-on-default-background: var(--sg-text-color, var(--theme-code-foreground, var(--jp-content-font-color1, black)));\n",
       "  --sklearn-color-background: var(--sg-background-color, var(--theme-background, var(--jp-layout-color0, white)));\n",
       "  --sklearn-color-border-box: var(--sg-text-color, var(--theme-code-foreground, var(--jp-content-font-color1, black)));\n",
       "  --sklearn-color-icon: #696969;\n",
       "\n",
       "  @media (prefers-color-scheme: dark) {\n",
       "    /* Redefinition of color scheme for dark theme */\n",
       "    --sklearn-color-text-on-default-background: var(--sg-text-color, var(--theme-code-foreground, var(--jp-content-font-color1, white)));\n",
       "    --sklearn-color-background: var(--sg-background-color, var(--theme-background, var(--jp-layout-color0, #111)));\n",
       "    --sklearn-color-border-box: var(--sg-text-color, var(--theme-code-foreground, var(--jp-content-font-color1, white)));\n",
       "    --sklearn-color-icon: #878787;\n",
       "  }\n",
       "}\n",
       "\n",
       "#sk-container-id-6 {\n",
       "  color: var(--sklearn-color-text);\n",
       "}\n",
       "\n",
       "#sk-container-id-6 pre {\n",
       "  padding: 0;\n",
       "}\n",
       "\n",
       "#sk-container-id-6 input.sk-hidden--visually {\n",
       "  border: 0;\n",
       "  clip: rect(1px 1px 1px 1px);\n",
       "  clip: rect(1px, 1px, 1px, 1px);\n",
       "  height: 1px;\n",
       "  margin: -1px;\n",
       "  overflow: hidden;\n",
       "  padding: 0;\n",
       "  position: absolute;\n",
       "  width: 1px;\n",
       "}\n",
       "\n",
       "#sk-container-id-6 div.sk-dashed-wrapped {\n",
       "  border: 1px dashed var(--sklearn-color-line);\n",
       "  margin: 0 0.4em 0.5em 0.4em;\n",
       "  box-sizing: border-box;\n",
       "  padding-bottom: 0.4em;\n",
       "  background-color: var(--sklearn-color-background);\n",
       "}\n",
       "\n",
       "#sk-container-id-6 div.sk-container {\n",
       "  /* jupyter's `normalize.less` sets `[hidden] { display: none; }`\n",
       "     but bootstrap.min.css set `[hidden] { display: none !important; }`\n",
       "     so we also need the `!important` here to be able to override the\n",
       "     default hidden behavior on the sphinx rendered scikit-learn.org.\n",
       "     See: https://github.com/scikit-learn/scikit-learn/issues/21755 */\n",
       "  display: inline-block !important;\n",
       "  position: relative;\n",
       "}\n",
       "\n",
       "#sk-container-id-6 div.sk-text-repr-fallback {\n",
       "  display: none;\n",
       "}\n",
       "\n",
       "div.sk-parallel-item,\n",
       "div.sk-serial,\n",
       "div.sk-item {\n",
       "  /* draw centered vertical line to link estimators */\n",
       "  background-image: linear-gradient(var(--sklearn-color-text-on-default-background), var(--sklearn-color-text-on-default-background));\n",
       "  background-size: 2px 100%;\n",
       "  background-repeat: no-repeat;\n",
       "  background-position: center center;\n",
       "}\n",
       "\n",
       "/* Parallel-specific style estimator block */\n",
       "\n",
       "#sk-container-id-6 div.sk-parallel-item::after {\n",
       "  content: \"\";\n",
       "  width: 100%;\n",
       "  border-bottom: 2px solid var(--sklearn-color-text-on-default-background);\n",
       "  flex-grow: 1;\n",
       "}\n",
       "\n",
       "#sk-container-id-6 div.sk-parallel {\n",
       "  display: flex;\n",
       "  align-items: stretch;\n",
       "  justify-content: center;\n",
       "  background-color: var(--sklearn-color-background);\n",
       "  position: relative;\n",
       "}\n",
       "\n",
       "#sk-container-id-6 div.sk-parallel-item {\n",
       "  display: flex;\n",
       "  flex-direction: column;\n",
       "}\n",
       "\n",
       "#sk-container-id-6 div.sk-parallel-item:first-child::after {\n",
       "  align-self: flex-end;\n",
       "  width: 50%;\n",
       "}\n",
       "\n",
       "#sk-container-id-6 div.sk-parallel-item:last-child::after {\n",
       "  align-self: flex-start;\n",
       "  width: 50%;\n",
       "}\n",
       "\n",
       "#sk-container-id-6 div.sk-parallel-item:only-child::after {\n",
       "  width: 0;\n",
       "}\n",
       "\n",
       "/* Serial-specific style estimator block */\n",
       "\n",
       "#sk-container-id-6 div.sk-serial {\n",
       "  display: flex;\n",
       "  flex-direction: column;\n",
       "  align-items: center;\n",
       "  background-color: var(--sklearn-color-background);\n",
       "  padding-right: 1em;\n",
       "  padding-left: 1em;\n",
       "}\n",
       "\n",
       "\n",
       "/* Toggleable style: style used for estimator/Pipeline/ColumnTransformer box that is\n",
       "clickable and can be expanded/collapsed.\n",
       "- Pipeline and ColumnTransformer use this feature and define the default style\n",
       "- Estimators will overwrite some part of the style using the `sk-estimator` class\n",
       "*/\n",
       "\n",
       "/* Pipeline and ColumnTransformer style (default) */\n",
       "\n",
       "#sk-container-id-6 div.sk-toggleable {\n",
       "  /* Default theme specific background. It is overwritten whether we have a\n",
       "  specific estimator or a Pipeline/ColumnTransformer */\n",
       "  background-color: var(--sklearn-color-background);\n",
       "}\n",
       "\n",
       "/* Toggleable label */\n",
       "#sk-container-id-6 label.sk-toggleable__label {\n",
       "  cursor: pointer;\n",
       "  display: flex;\n",
       "  width: 100%;\n",
       "  margin-bottom: 0;\n",
       "  padding: 0.5em;\n",
       "  box-sizing: border-box;\n",
       "  text-align: center;\n",
       "  align-items: start;\n",
       "  justify-content: space-between;\n",
       "  gap: 0.5em;\n",
       "}\n",
       "\n",
       "#sk-container-id-6 label.sk-toggleable__label .caption {\n",
       "  font-size: 0.6rem;\n",
       "  font-weight: lighter;\n",
       "  color: var(--sklearn-color-text-muted);\n",
       "}\n",
       "\n",
       "#sk-container-id-6 label.sk-toggleable__label-arrow:before {\n",
       "  /* Arrow on the left of the label */\n",
       "  content: \"▸\";\n",
       "  float: left;\n",
       "  margin-right: 0.25em;\n",
       "  color: var(--sklearn-color-icon);\n",
       "}\n",
       "\n",
       "#sk-container-id-6 label.sk-toggleable__label-arrow:hover:before {\n",
       "  color: var(--sklearn-color-text);\n",
       "}\n",
       "\n",
       "/* Toggleable content - dropdown */\n",
       "\n",
       "#sk-container-id-6 div.sk-toggleable__content {\n",
       "  max-height: 0;\n",
       "  max-width: 0;\n",
       "  overflow: hidden;\n",
       "  text-align: left;\n",
       "  /* unfitted */\n",
       "  background-color: var(--sklearn-color-unfitted-level-0);\n",
       "}\n",
       "\n",
       "#sk-container-id-6 div.sk-toggleable__content.fitted {\n",
       "  /* fitted */\n",
       "  background-color: var(--sklearn-color-fitted-level-0);\n",
       "}\n",
       "\n",
       "#sk-container-id-6 div.sk-toggleable__content pre {\n",
       "  margin: 0.2em;\n",
       "  border-radius: 0.25em;\n",
       "  color: var(--sklearn-color-text);\n",
       "  /* unfitted */\n",
       "  background-color: var(--sklearn-color-unfitted-level-0);\n",
       "}\n",
       "\n",
       "#sk-container-id-6 div.sk-toggleable__content.fitted pre {\n",
       "  /* unfitted */\n",
       "  background-color: var(--sklearn-color-fitted-level-0);\n",
       "}\n",
       "\n",
       "#sk-container-id-6 input.sk-toggleable__control:checked~div.sk-toggleable__content {\n",
       "  /* Expand drop-down */\n",
       "  max-height: 200px;\n",
       "  max-width: 100%;\n",
       "  overflow: auto;\n",
       "}\n",
       "\n",
       "#sk-container-id-6 input.sk-toggleable__control:checked~label.sk-toggleable__label-arrow:before {\n",
       "  content: \"▾\";\n",
       "}\n",
       "\n",
       "/* Pipeline/ColumnTransformer-specific style */\n",
       "\n",
       "#sk-container-id-6 div.sk-label input.sk-toggleable__control:checked~label.sk-toggleable__label {\n",
       "  color: var(--sklearn-color-text);\n",
       "  background-color: var(--sklearn-color-unfitted-level-2);\n",
       "}\n",
       "\n",
       "#sk-container-id-6 div.sk-label.fitted input.sk-toggleable__control:checked~label.sk-toggleable__label {\n",
       "  background-color: var(--sklearn-color-fitted-level-2);\n",
       "}\n",
       "\n",
       "/* Estimator-specific style */\n",
       "\n",
       "/* Colorize estimator box */\n",
       "#sk-container-id-6 div.sk-estimator input.sk-toggleable__control:checked~label.sk-toggleable__label {\n",
       "  /* unfitted */\n",
       "  background-color: var(--sklearn-color-unfitted-level-2);\n",
       "}\n",
       "\n",
       "#sk-container-id-6 div.sk-estimator.fitted input.sk-toggleable__control:checked~label.sk-toggleable__label {\n",
       "  /* fitted */\n",
       "  background-color: var(--sklearn-color-fitted-level-2);\n",
       "}\n",
       "\n",
       "#sk-container-id-6 div.sk-label label.sk-toggleable__label,\n",
       "#sk-container-id-6 div.sk-label label {\n",
       "  /* The background is the default theme color */\n",
       "  color: var(--sklearn-color-text-on-default-background);\n",
       "}\n",
       "\n",
       "/* On hover, darken the color of the background */\n",
       "#sk-container-id-6 div.sk-label:hover label.sk-toggleable__label {\n",
       "  color: var(--sklearn-color-text);\n",
       "  background-color: var(--sklearn-color-unfitted-level-2);\n",
       "}\n",
       "\n",
       "/* Label box, darken color on hover, fitted */\n",
       "#sk-container-id-6 div.sk-label.fitted:hover label.sk-toggleable__label.fitted {\n",
       "  color: var(--sklearn-color-text);\n",
       "  background-color: var(--sklearn-color-fitted-level-2);\n",
       "}\n",
       "\n",
       "/* Estimator label */\n",
       "\n",
       "#sk-container-id-6 div.sk-label label {\n",
       "  font-family: monospace;\n",
       "  font-weight: bold;\n",
       "  display: inline-block;\n",
       "  line-height: 1.2em;\n",
       "}\n",
       "\n",
       "#sk-container-id-6 div.sk-label-container {\n",
       "  text-align: center;\n",
       "}\n",
       "\n",
       "/* Estimator-specific */\n",
       "#sk-container-id-6 div.sk-estimator {\n",
       "  font-family: monospace;\n",
       "  border: 1px dotted var(--sklearn-color-border-box);\n",
       "  border-radius: 0.25em;\n",
       "  box-sizing: border-box;\n",
       "  margin-bottom: 0.5em;\n",
       "  /* unfitted */\n",
       "  background-color: var(--sklearn-color-unfitted-level-0);\n",
       "}\n",
       "\n",
       "#sk-container-id-6 div.sk-estimator.fitted {\n",
       "  /* fitted */\n",
       "  background-color: var(--sklearn-color-fitted-level-0);\n",
       "}\n",
       "\n",
       "/* on hover */\n",
       "#sk-container-id-6 div.sk-estimator:hover {\n",
       "  /* unfitted */\n",
       "  background-color: var(--sklearn-color-unfitted-level-2);\n",
       "}\n",
       "\n",
       "#sk-container-id-6 div.sk-estimator.fitted:hover {\n",
       "  /* fitted */\n",
       "  background-color: var(--sklearn-color-fitted-level-2);\n",
       "}\n",
       "\n",
       "/* Specification for estimator info (e.g. \"i\" and \"?\") */\n",
       "\n",
       "/* Common style for \"i\" and \"?\" */\n",
       "\n",
       ".sk-estimator-doc-link,\n",
       "a:link.sk-estimator-doc-link,\n",
       "a:visited.sk-estimator-doc-link {\n",
       "  float: right;\n",
       "  font-size: smaller;\n",
       "  line-height: 1em;\n",
       "  font-family: monospace;\n",
       "  background-color: var(--sklearn-color-background);\n",
       "  border-radius: 1em;\n",
       "  height: 1em;\n",
       "  width: 1em;\n",
       "  text-decoration: none !important;\n",
       "  margin-left: 0.5em;\n",
       "  text-align: center;\n",
       "  /* unfitted */\n",
       "  border: var(--sklearn-color-unfitted-level-1) 1pt solid;\n",
       "  color: var(--sklearn-color-unfitted-level-1);\n",
       "}\n",
       "\n",
       ".sk-estimator-doc-link.fitted,\n",
       "a:link.sk-estimator-doc-link.fitted,\n",
       "a:visited.sk-estimator-doc-link.fitted {\n",
       "  /* fitted */\n",
       "  border: var(--sklearn-color-fitted-level-1) 1pt solid;\n",
       "  color: var(--sklearn-color-fitted-level-1);\n",
       "}\n",
       "\n",
       "/* On hover */\n",
       "div.sk-estimator:hover .sk-estimator-doc-link:hover,\n",
       ".sk-estimator-doc-link:hover,\n",
       "div.sk-label-container:hover .sk-estimator-doc-link:hover,\n",
       ".sk-estimator-doc-link:hover {\n",
       "  /* unfitted */\n",
       "  background-color: var(--sklearn-color-unfitted-level-3);\n",
       "  color: var(--sklearn-color-background);\n",
       "  text-decoration: none;\n",
       "}\n",
       "\n",
       "div.sk-estimator.fitted:hover .sk-estimator-doc-link.fitted:hover,\n",
       ".sk-estimator-doc-link.fitted:hover,\n",
       "div.sk-label-container:hover .sk-estimator-doc-link.fitted:hover,\n",
       ".sk-estimator-doc-link.fitted:hover {\n",
       "  /* fitted */\n",
       "  background-color: var(--sklearn-color-fitted-level-3);\n",
       "  color: var(--sklearn-color-background);\n",
       "  text-decoration: none;\n",
       "}\n",
       "\n",
       "/* Span, style for the box shown on hovering the info icon */\n",
       ".sk-estimator-doc-link span {\n",
       "  display: none;\n",
       "  z-index: 9999;\n",
       "  position: relative;\n",
       "  font-weight: normal;\n",
       "  right: .2ex;\n",
       "  padding: .5ex;\n",
       "  margin: .5ex;\n",
       "  width: min-content;\n",
       "  min-width: 20ex;\n",
       "  max-width: 50ex;\n",
       "  color: var(--sklearn-color-text);\n",
       "  box-shadow: 2pt 2pt 4pt #999;\n",
       "  /* unfitted */\n",
       "  background: var(--sklearn-color-unfitted-level-0);\n",
       "  border: .5pt solid var(--sklearn-color-unfitted-level-3);\n",
       "}\n",
       "\n",
       ".sk-estimator-doc-link.fitted span {\n",
       "  /* fitted */\n",
       "  background: var(--sklearn-color-fitted-level-0);\n",
       "  border: var(--sklearn-color-fitted-level-3);\n",
       "}\n",
       "\n",
       ".sk-estimator-doc-link:hover span {\n",
       "  display: block;\n",
       "}\n",
       "\n",
       "/* \"?\"-specific style due to the `<a>` HTML tag */\n",
       "\n",
       "#sk-container-id-6 a.estimator_doc_link {\n",
       "  float: right;\n",
       "  font-size: 1rem;\n",
       "  line-height: 1em;\n",
       "  font-family: monospace;\n",
       "  background-color: var(--sklearn-color-background);\n",
       "  border-radius: 1rem;\n",
       "  height: 1rem;\n",
       "  width: 1rem;\n",
       "  text-decoration: none;\n",
       "  /* unfitted */\n",
       "  color: var(--sklearn-color-unfitted-level-1);\n",
       "  border: var(--sklearn-color-unfitted-level-1) 1pt solid;\n",
       "}\n",
       "\n",
       "#sk-container-id-6 a.estimator_doc_link.fitted {\n",
       "  /* fitted */\n",
       "  border: var(--sklearn-color-fitted-level-1) 1pt solid;\n",
       "  color: var(--sklearn-color-fitted-level-1);\n",
       "}\n",
       "\n",
       "/* On hover */\n",
       "#sk-container-id-6 a.estimator_doc_link:hover {\n",
       "  /* unfitted */\n",
       "  background-color: var(--sklearn-color-unfitted-level-3);\n",
       "  color: var(--sklearn-color-background);\n",
       "  text-decoration: none;\n",
       "}\n",
       "\n",
       "#sk-container-id-6 a.estimator_doc_link.fitted:hover {\n",
       "  /* fitted */\n",
       "  background-color: var(--sklearn-color-fitted-level-3);\n",
       "}\n",
       "</style><div id=\"sk-container-id-6\" class=\"sk-top-container\"><div class=\"sk-text-repr-fallback\"><pre>LinearRegression()</pre><b>In a Jupyter environment, please rerun this cell to show the HTML representation or trust the notebook. <br />On GitHub, the HTML representation is unable to render, please try loading this page with nbviewer.org.</b></div><div class=\"sk-container\" hidden><div class=\"sk-item\"><div class=\"sk-estimator fitted sk-toggleable\"><input class=\"sk-toggleable__control sk-hidden--visually\" id=\"sk-estimator-id-6\" type=\"checkbox\" checked><label for=\"sk-estimator-id-6\" class=\"sk-toggleable__label fitted sk-toggleable__label-arrow\"><div><div>LinearRegression</div></div><div><a class=\"sk-estimator-doc-link fitted\" rel=\"noreferrer\" target=\"_blank\" href=\"https://scikit-learn.org/1.6/modules/generated/sklearn.linear_model.LinearRegression.html\">?<span>Documentation for LinearRegression</span></a><span class=\"sk-estimator-doc-link fitted\">i<span>Fitted</span></span></div></label><div class=\"sk-toggleable__content fitted\"><pre>LinearRegression()</pre></div> </div></div></div></div>"
      ],
      "text/plain": [
       "LinearRegression()"
      ]
     },
     "execution_count": 40,
     "metadata": {},
     "output_type": "execute_result"
    }
   ],
   "source": [
    "# Create and train the model\n",
    "model = LinearRegression()\n",
    "model.fit(train_X_all, train_y_all)"
   ]
  },
  {
   "cell_type": "code",
   "execution_count": 41,
   "id": "6462445b",
   "metadata": {},
   "outputs": [
    {
     "name": "stdout",
     "output_type": "stream",
     "text": [
      "Coefficients: [   10343.8828322  -1128353.15822895    -6655.86252056]\n",
      "Intercept: -3576477.610464275\n"
     ]
    }
   ],
   "source": [
    "# Get the coefficients\n",
    "coefficients = model.coef_\n",
    "intercept = model.intercept_\n",
    "print(\"Coefficients:\", coefficients)\n",
    "print(\"Intercept:\", intercept)"
   ]
  },
  {
   "cell_type": "code",
   "execution_count": 42,
   "id": "49cd1970",
   "metadata": {},
   "outputs": [
    {
     "name": "stdout",
     "output_type": "stream",
     "text": [
      "Mean Absolute Error: 2352385.124377389\n",
      "Mean Squared Error: 15652420747083.66\n"
     ]
    }
   ],
   "source": [
    "# Evaluate the model\n",
    "predictions = model.predict(test_X_all)\n",
    "mse = mean_squared_error(test_y_all, predictions)\n",
    "mabs = mean_absolute_error(test_y_all, predictions)  # Mean Absolute Error\n",
    "print(\"Mean Absolute Error:\", mabs)\n",
    "print(\"Mean Squared Error:\", mse)"
   ]
  },
  {
   "cell_type": "code",
   "execution_count": 43,
   "id": "451ec0e3",
   "metadata": {},
   "outputs": [],
   "source": [
    "rforest_model = RandomForestRegressor(random_state=42)"
   ]
  },
  {
   "cell_type": "code",
   "execution_count": 44,
   "id": "0a2aedc8",
   "metadata": {},
   "outputs": [
    {
     "data": {
      "text/html": [
       "<style>#sk-container-id-7 {\n",
       "  /* Definition of color scheme common for light and dark mode */\n",
       "  --sklearn-color-text: #000;\n",
       "  --sklearn-color-text-muted: #666;\n",
       "  --sklearn-color-line: gray;\n",
       "  /* Definition of color scheme for unfitted estimators */\n",
       "  --sklearn-color-unfitted-level-0: #fff5e6;\n",
       "  --sklearn-color-unfitted-level-1: #f6e4d2;\n",
       "  --sklearn-color-unfitted-level-2: #ffe0b3;\n",
       "  --sklearn-color-unfitted-level-3: chocolate;\n",
       "  /* Definition of color scheme for fitted estimators */\n",
       "  --sklearn-color-fitted-level-0: #f0f8ff;\n",
       "  --sklearn-color-fitted-level-1: #d4ebff;\n",
       "  --sklearn-color-fitted-level-2: #b3dbfd;\n",
       "  --sklearn-color-fitted-level-3: cornflowerblue;\n",
       "\n",
       "  /* Specific color for light theme */\n",
       "  --sklearn-color-text-on-default-background: var(--sg-text-color, var(--theme-code-foreground, var(--jp-content-font-color1, black)));\n",
       "  --sklearn-color-background: var(--sg-background-color, var(--theme-background, var(--jp-layout-color0, white)));\n",
       "  --sklearn-color-border-box: var(--sg-text-color, var(--theme-code-foreground, var(--jp-content-font-color1, black)));\n",
       "  --sklearn-color-icon: #696969;\n",
       "\n",
       "  @media (prefers-color-scheme: dark) {\n",
       "    /* Redefinition of color scheme for dark theme */\n",
       "    --sklearn-color-text-on-default-background: var(--sg-text-color, var(--theme-code-foreground, var(--jp-content-font-color1, white)));\n",
       "    --sklearn-color-background: var(--sg-background-color, var(--theme-background, var(--jp-layout-color0, #111)));\n",
       "    --sklearn-color-border-box: var(--sg-text-color, var(--theme-code-foreground, var(--jp-content-font-color1, white)));\n",
       "    --sklearn-color-icon: #878787;\n",
       "  }\n",
       "}\n",
       "\n",
       "#sk-container-id-7 {\n",
       "  color: var(--sklearn-color-text);\n",
       "}\n",
       "\n",
       "#sk-container-id-7 pre {\n",
       "  padding: 0;\n",
       "}\n",
       "\n",
       "#sk-container-id-7 input.sk-hidden--visually {\n",
       "  border: 0;\n",
       "  clip: rect(1px 1px 1px 1px);\n",
       "  clip: rect(1px, 1px, 1px, 1px);\n",
       "  height: 1px;\n",
       "  margin: -1px;\n",
       "  overflow: hidden;\n",
       "  padding: 0;\n",
       "  position: absolute;\n",
       "  width: 1px;\n",
       "}\n",
       "\n",
       "#sk-container-id-7 div.sk-dashed-wrapped {\n",
       "  border: 1px dashed var(--sklearn-color-line);\n",
       "  margin: 0 0.4em 0.5em 0.4em;\n",
       "  box-sizing: border-box;\n",
       "  padding-bottom: 0.4em;\n",
       "  background-color: var(--sklearn-color-background);\n",
       "}\n",
       "\n",
       "#sk-container-id-7 div.sk-container {\n",
       "  /* jupyter's `normalize.less` sets `[hidden] { display: none; }`\n",
       "     but bootstrap.min.css set `[hidden] { display: none !important; }`\n",
       "     so we also need the `!important` here to be able to override the\n",
       "     default hidden behavior on the sphinx rendered scikit-learn.org.\n",
       "     See: https://github.com/scikit-learn/scikit-learn/issues/21755 */\n",
       "  display: inline-block !important;\n",
       "  position: relative;\n",
       "}\n",
       "\n",
       "#sk-container-id-7 div.sk-text-repr-fallback {\n",
       "  display: none;\n",
       "}\n",
       "\n",
       "div.sk-parallel-item,\n",
       "div.sk-serial,\n",
       "div.sk-item {\n",
       "  /* draw centered vertical line to link estimators */\n",
       "  background-image: linear-gradient(var(--sklearn-color-text-on-default-background), var(--sklearn-color-text-on-default-background));\n",
       "  background-size: 2px 100%;\n",
       "  background-repeat: no-repeat;\n",
       "  background-position: center center;\n",
       "}\n",
       "\n",
       "/* Parallel-specific style estimator block */\n",
       "\n",
       "#sk-container-id-7 div.sk-parallel-item::after {\n",
       "  content: \"\";\n",
       "  width: 100%;\n",
       "  border-bottom: 2px solid var(--sklearn-color-text-on-default-background);\n",
       "  flex-grow: 1;\n",
       "}\n",
       "\n",
       "#sk-container-id-7 div.sk-parallel {\n",
       "  display: flex;\n",
       "  align-items: stretch;\n",
       "  justify-content: center;\n",
       "  background-color: var(--sklearn-color-background);\n",
       "  position: relative;\n",
       "}\n",
       "\n",
       "#sk-container-id-7 div.sk-parallel-item {\n",
       "  display: flex;\n",
       "  flex-direction: column;\n",
       "}\n",
       "\n",
       "#sk-container-id-7 div.sk-parallel-item:first-child::after {\n",
       "  align-self: flex-end;\n",
       "  width: 50%;\n",
       "}\n",
       "\n",
       "#sk-container-id-7 div.sk-parallel-item:last-child::after {\n",
       "  align-self: flex-start;\n",
       "  width: 50%;\n",
       "}\n",
       "\n",
       "#sk-container-id-7 div.sk-parallel-item:only-child::after {\n",
       "  width: 0;\n",
       "}\n",
       "\n",
       "/* Serial-specific style estimator block */\n",
       "\n",
       "#sk-container-id-7 div.sk-serial {\n",
       "  display: flex;\n",
       "  flex-direction: column;\n",
       "  align-items: center;\n",
       "  background-color: var(--sklearn-color-background);\n",
       "  padding-right: 1em;\n",
       "  padding-left: 1em;\n",
       "}\n",
       "\n",
       "\n",
       "/* Toggleable style: style used for estimator/Pipeline/ColumnTransformer box that is\n",
       "clickable and can be expanded/collapsed.\n",
       "- Pipeline and ColumnTransformer use this feature and define the default style\n",
       "- Estimators will overwrite some part of the style using the `sk-estimator` class\n",
       "*/\n",
       "\n",
       "/* Pipeline and ColumnTransformer style (default) */\n",
       "\n",
       "#sk-container-id-7 div.sk-toggleable {\n",
       "  /* Default theme specific background. It is overwritten whether we have a\n",
       "  specific estimator or a Pipeline/ColumnTransformer */\n",
       "  background-color: var(--sklearn-color-background);\n",
       "}\n",
       "\n",
       "/* Toggleable label */\n",
       "#sk-container-id-7 label.sk-toggleable__label {\n",
       "  cursor: pointer;\n",
       "  display: flex;\n",
       "  width: 100%;\n",
       "  margin-bottom: 0;\n",
       "  padding: 0.5em;\n",
       "  box-sizing: border-box;\n",
       "  text-align: center;\n",
       "  align-items: start;\n",
       "  justify-content: space-between;\n",
       "  gap: 0.5em;\n",
       "}\n",
       "\n",
       "#sk-container-id-7 label.sk-toggleable__label .caption {\n",
       "  font-size: 0.6rem;\n",
       "  font-weight: lighter;\n",
       "  color: var(--sklearn-color-text-muted);\n",
       "}\n",
       "\n",
       "#sk-container-id-7 label.sk-toggleable__label-arrow:before {\n",
       "  /* Arrow on the left of the label */\n",
       "  content: \"▸\";\n",
       "  float: left;\n",
       "  margin-right: 0.25em;\n",
       "  color: var(--sklearn-color-icon);\n",
       "}\n",
       "\n",
       "#sk-container-id-7 label.sk-toggleable__label-arrow:hover:before {\n",
       "  color: var(--sklearn-color-text);\n",
       "}\n",
       "\n",
       "/* Toggleable content - dropdown */\n",
       "\n",
       "#sk-container-id-7 div.sk-toggleable__content {\n",
       "  max-height: 0;\n",
       "  max-width: 0;\n",
       "  overflow: hidden;\n",
       "  text-align: left;\n",
       "  /* unfitted */\n",
       "  background-color: var(--sklearn-color-unfitted-level-0);\n",
       "}\n",
       "\n",
       "#sk-container-id-7 div.sk-toggleable__content.fitted {\n",
       "  /* fitted */\n",
       "  background-color: var(--sklearn-color-fitted-level-0);\n",
       "}\n",
       "\n",
       "#sk-container-id-7 div.sk-toggleable__content pre {\n",
       "  margin: 0.2em;\n",
       "  border-radius: 0.25em;\n",
       "  color: var(--sklearn-color-text);\n",
       "  /* unfitted */\n",
       "  background-color: var(--sklearn-color-unfitted-level-0);\n",
       "}\n",
       "\n",
       "#sk-container-id-7 div.sk-toggleable__content.fitted pre {\n",
       "  /* unfitted */\n",
       "  background-color: var(--sklearn-color-fitted-level-0);\n",
       "}\n",
       "\n",
       "#sk-container-id-7 input.sk-toggleable__control:checked~div.sk-toggleable__content {\n",
       "  /* Expand drop-down */\n",
       "  max-height: 200px;\n",
       "  max-width: 100%;\n",
       "  overflow: auto;\n",
       "}\n",
       "\n",
       "#sk-container-id-7 input.sk-toggleable__control:checked~label.sk-toggleable__label-arrow:before {\n",
       "  content: \"▾\";\n",
       "}\n",
       "\n",
       "/* Pipeline/ColumnTransformer-specific style */\n",
       "\n",
       "#sk-container-id-7 div.sk-label input.sk-toggleable__control:checked~label.sk-toggleable__label {\n",
       "  color: var(--sklearn-color-text);\n",
       "  background-color: var(--sklearn-color-unfitted-level-2);\n",
       "}\n",
       "\n",
       "#sk-container-id-7 div.sk-label.fitted input.sk-toggleable__control:checked~label.sk-toggleable__label {\n",
       "  background-color: var(--sklearn-color-fitted-level-2);\n",
       "}\n",
       "\n",
       "/* Estimator-specific style */\n",
       "\n",
       "/* Colorize estimator box */\n",
       "#sk-container-id-7 div.sk-estimator input.sk-toggleable__control:checked~label.sk-toggleable__label {\n",
       "  /* unfitted */\n",
       "  background-color: var(--sklearn-color-unfitted-level-2);\n",
       "}\n",
       "\n",
       "#sk-container-id-7 div.sk-estimator.fitted input.sk-toggleable__control:checked~label.sk-toggleable__label {\n",
       "  /* fitted */\n",
       "  background-color: var(--sklearn-color-fitted-level-2);\n",
       "}\n",
       "\n",
       "#sk-container-id-7 div.sk-label label.sk-toggleable__label,\n",
       "#sk-container-id-7 div.sk-label label {\n",
       "  /* The background is the default theme color */\n",
       "  color: var(--sklearn-color-text-on-default-background);\n",
       "}\n",
       "\n",
       "/* On hover, darken the color of the background */\n",
       "#sk-container-id-7 div.sk-label:hover label.sk-toggleable__label {\n",
       "  color: var(--sklearn-color-text);\n",
       "  background-color: var(--sklearn-color-unfitted-level-2);\n",
       "}\n",
       "\n",
       "/* Label box, darken color on hover, fitted */\n",
       "#sk-container-id-7 div.sk-label.fitted:hover label.sk-toggleable__label.fitted {\n",
       "  color: var(--sklearn-color-text);\n",
       "  background-color: var(--sklearn-color-fitted-level-2);\n",
       "}\n",
       "\n",
       "/* Estimator label */\n",
       "\n",
       "#sk-container-id-7 div.sk-label label {\n",
       "  font-family: monospace;\n",
       "  font-weight: bold;\n",
       "  display: inline-block;\n",
       "  line-height: 1.2em;\n",
       "}\n",
       "\n",
       "#sk-container-id-7 div.sk-label-container {\n",
       "  text-align: center;\n",
       "}\n",
       "\n",
       "/* Estimator-specific */\n",
       "#sk-container-id-7 div.sk-estimator {\n",
       "  font-family: monospace;\n",
       "  border: 1px dotted var(--sklearn-color-border-box);\n",
       "  border-radius: 0.25em;\n",
       "  box-sizing: border-box;\n",
       "  margin-bottom: 0.5em;\n",
       "  /* unfitted */\n",
       "  background-color: var(--sklearn-color-unfitted-level-0);\n",
       "}\n",
       "\n",
       "#sk-container-id-7 div.sk-estimator.fitted {\n",
       "  /* fitted */\n",
       "  background-color: var(--sklearn-color-fitted-level-0);\n",
       "}\n",
       "\n",
       "/* on hover */\n",
       "#sk-container-id-7 div.sk-estimator:hover {\n",
       "  /* unfitted */\n",
       "  background-color: var(--sklearn-color-unfitted-level-2);\n",
       "}\n",
       "\n",
       "#sk-container-id-7 div.sk-estimator.fitted:hover {\n",
       "  /* fitted */\n",
       "  background-color: var(--sklearn-color-fitted-level-2);\n",
       "}\n",
       "\n",
       "/* Specification for estimator info (e.g. \"i\" and \"?\") */\n",
       "\n",
       "/* Common style for \"i\" and \"?\" */\n",
       "\n",
       ".sk-estimator-doc-link,\n",
       "a:link.sk-estimator-doc-link,\n",
       "a:visited.sk-estimator-doc-link {\n",
       "  float: right;\n",
       "  font-size: smaller;\n",
       "  line-height: 1em;\n",
       "  font-family: monospace;\n",
       "  background-color: var(--sklearn-color-background);\n",
       "  border-radius: 1em;\n",
       "  height: 1em;\n",
       "  width: 1em;\n",
       "  text-decoration: none !important;\n",
       "  margin-left: 0.5em;\n",
       "  text-align: center;\n",
       "  /* unfitted */\n",
       "  border: var(--sklearn-color-unfitted-level-1) 1pt solid;\n",
       "  color: var(--sklearn-color-unfitted-level-1);\n",
       "}\n",
       "\n",
       ".sk-estimator-doc-link.fitted,\n",
       "a:link.sk-estimator-doc-link.fitted,\n",
       "a:visited.sk-estimator-doc-link.fitted {\n",
       "  /* fitted */\n",
       "  border: var(--sklearn-color-fitted-level-1) 1pt solid;\n",
       "  color: var(--sklearn-color-fitted-level-1);\n",
       "}\n",
       "\n",
       "/* On hover */\n",
       "div.sk-estimator:hover .sk-estimator-doc-link:hover,\n",
       ".sk-estimator-doc-link:hover,\n",
       "div.sk-label-container:hover .sk-estimator-doc-link:hover,\n",
       ".sk-estimator-doc-link:hover {\n",
       "  /* unfitted */\n",
       "  background-color: var(--sklearn-color-unfitted-level-3);\n",
       "  color: var(--sklearn-color-background);\n",
       "  text-decoration: none;\n",
       "}\n",
       "\n",
       "div.sk-estimator.fitted:hover .sk-estimator-doc-link.fitted:hover,\n",
       ".sk-estimator-doc-link.fitted:hover,\n",
       "div.sk-label-container:hover .sk-estimator-doc-link.fitted:hover,\n",
       ".sk-estimator-doc-link.fitted:hover {\n",
       "  /* fitted */\n",
       "  background-color: var(--sklearn-color-fitted-level-3);\n",
       "  color: var(--sklearn-color-background);\n",
       "  text-decoration: none;\n",
       "}\n",
       "\n",
       "/* Span, style for the box shown on hovering the info icon */\n",
       ".sk-estimator-doc-link span {\n",
       "  display: none;\n",
       "  z-index: 9999;\n",
       "  position: relative;\n",
       "  font-weight: normal;\n",
       "  right: .2ex;\n",
       "  padding: .5ex;\n",
       "  margin: .5ex;\n",
       "  width: min-content;\n",
       "  min-width: 20ex;\n",
       "  max-width: 50ex;\n",
       "  color: var(--sklearn-color-text);\n",
       "  box-shadow: 2pt 2pt 4pt #999;\n",
       "  /* unfitted */\n",
       "  background: var(--sklearn-color-unfitted-level-0);\n",
       "  border: .5pt solid var(--sklearn-color-unfitted-level-3);\n",
       "}\n",
       "\n",
       ".sk-estimator-doc-link.fitted span {\n",
       "  /* fitted */\n",
       "  background: var(--sklearn-color-fitted-level-0);\n",
       "  border: var(--sklearn-color-fitted-level-3);\n",
       "}\n",
       "\n",
       ".sk-estimator-doc-link:hover span {\n",
       "  display: block;\n",
       "}\n",
       "\n",
       "/* \"?\"-specific style due to the `<a>` HTML tag */\n",
       "\n",
       "#sk-container-id-7 a.estimator_doc_link {\n",
       "  float: right;\n",
       "  font-size: 1rem;\n",
       "  line-height: 1em;\n",
       "  font-family: monospace;\n",
       "  background-color: var(--sklearn-color-background);\n",
       "  border-radius: 1rem;\n",
       "  height: 1rem;\n",
       "  width: 1rem;\n",
       "  text-decoration: none;\n",
       "  /* unfitted */\n",
       "  color: var(--sklearn-color-unfitted-level-1);\n",
       "  border: var(--sklearn-color-unfitted-level-1) 1pt solid;\n",
       "}\n",
       "\n",
       "#sk-container-id-7 a.estimator_doc_link.fitted {\n",
       "  /* fitted */\n",
       "  border: var(--sklearn-color-fitted-level-1) 1pt solid;\n",
       "  color: var(--sklearn-color-fitted-level-1);\n",
       "}\n",
       "\n",
       "/* On hover */\n",
       "#sk-container-id-7 a.estimator_doc_link:hover {\n",
       "  /* unfitted */\n",
       "  background-color: var(--sklearn-color-unfitted-level-3);\n",
       "  color: var(--sklearn-color-background);\n",
       "  text-decoration: none;\n",
       "}\n",
       "\n",
       "#sk-container-id-7 a.estimator_doc_link.fitted:hover {\n",
       "  /* fitted */\n",
       "  background-color: var(--sklearn-color-fitted-level-3);\n",
       "}\n",
       "</style><div id=\"sk-container-id-7\" class=\"sk-top-container\"><div class=\"sk-text-repr-fallback\"><pre>RandomForestRegressor(random_state=42)</pre><b>In a Jupyter environment, please rerun this cell to show the HTML representation or trust the notebook. <br />On GitHub, the HTML representation is unable to render, please try loading this page with nbviewer.org.</b></div><div class=\"sk-container\" hidden><div class=\"sk-item\"><div class=\"sk-estimator fitted sk-toggleable\"><input class=\"sk-toggleable__control sk-hidden--visually\" id=\"sk-estimator-id-7\" type=\"checkbox\" checked><label for=\"sk-estimator-id-7\" class=\"sk-toggleable__label fitted sk-toggleable__label-arrow\"><div><div>RandomForestRegressor</div></div><div><a class=\"sk-estimator-doc-link fitted\" rel=\"noreferrer\" target=\"_blank\" href=\"https://scikit-learn.org/1.6/modules/generated/sklearn.ensemble.RandomForestRegressor.html\">?<span>Documentation for RandomForestRegressor</span></a><span class=\"sk-estimator-doc-link fitted\">i<span>Fitted</span></span></div></label><div class=\"sk-toggleable__content fitted\"><pre>RandomForestRegressor(random_state=42)</pre></div> </div></div></div></div>"
      ],
      "text/plain": [
       "RandomForestRegressor(random_state=42)"
      ]
     },
     "execution_count": 44,
     "metadata": {},
     "output_type": "execute_result"
    }
   ],
   "source": [
    "rforest_model.fit(train_X_all, train_y_all)"
   ]
  },
  {
   "cell_type": "code",
   "execution_count": 45,
   "id": "7a2dd3c2",
   "metadata": {},
   "outputs": [
    {
     "name": "stdout",
     "output_type": "stream",
     "text": [
      "Mean Absolute Error: 1630037.768419087\n"
     ]
    }
   ],
   "source": [
    "predictions_rforest = rforest_model.predict(test_X_all)\n",
    "mabs = mean_absolute_error(test_y_all, predictions_rforest)  # Mean Absolute Error\n",
    "print(\"Mean Absolute Error:\", mabs)"
   ]
  },
  {
   "cell_type": "code",
   "execution_count": 46,
   "id": "e90d3ed7",
   "metadata": {},
   "outputs": [],
   "source": [
    "reduced_features = ['Area', 'No. of Bedrooms', 'Location', \"Price\"]\n",
    "data = data[reduced_features]\n",
    "train_set, test_set = train_test_split(data[reduced_features], test_size=0.2, random_state=42)\n",
    "# Prepare the data for multiple linear regression\n",
    "train_X_all = train_set.drop(columns=['Price']).values  # All features except the target\n",
    "train_y_all = train_set['Price'].values                 # Target\n",
    "test_X_all = test_set.drop(columns=['Price']).values  # All features except the target\n",
    "test_y_all = test_set['Price'].values                 # Target"
   ]
  },
  {
   "cell_type": "code",
   "execution_count": 47,
   "id": "b339c56d",
   "metadata": {},
   "outputs": [
    {
     "data": {
      "text/html": [
       "<style>#sk-container-id-8 {\n",
       "  /* Definition of color scheme common for light and dark mode */\n",
       "  --sklearn-color-text: #000;\n",
       "  --sklearn-color-text-muted: #666;\n",
       "  --sklearn-color-line: gray;\n",
       "  /* Definition of color scheme for unfitted estimators */\n",
       "  --sklearn-color-unfitted-level-0: #fff5e6;\n",
       "  --sklearn-color-unfitted-level-1: #f6e4d2;\n",
       "  --sklearn-color-unfitted-level-2: #ffe0b3;\n",
       "  --sklearn-color-unfitted-level-3: chocolate;\n",
       "  /* Definition of color scheme for fitted estimators */\n",
       "  --sklearn-color-fitted-level-0: #f0f8ff;\n",
       "  --sklearn-color-fitted-level-1: #d4ebff;\n",
       "  --sklearn-color-fitted-level-2: #b3dbfd;\n",
       "  --sklearn-color-fitted-level-3: cornflowerblue;\n",
       "\n",
       "  /* Specific color for light theme */\n",
       "  --sklearn-color-text-on-default-background: var(--sg-text-color, var(--theme-code-foreground, var(--jp-content-font-color1, black)));\n",
       "  --sklearn-color-background: var(--sg-background-color, var(--theme-background, var(--jp-layout-color0, white)));\n",
       "  --sklearn-color-border-box: var(--sg-text-color, var(--theme-code-foreground, var(--jp-content-font-color1, black)));\n",
       "  --sklearn-color-icon: #696969;\n",
       "\n",
       "  @media (prefers-color-scheme: dark) {\n",
       "    /* Redefinition of color scheme for dark theme */\n",
       "    --sklearn-color-text-on-default-background: var(--sg-text-color, var(--theme-code-foreground, var(--jp-content-font-color1, white)));\n",
       "    --sklearn-color-background: var(--sg-background-color, var(--theme-background, var(--jp-layout-color0, #111)));\n",
       "    --sklearn-color-border-box: var(--sg-text-color, var(--theme-code-foreground, var(--jp-content-font-color1, white)));\n",
       "    --sklearn-color-icon: #878787;\n",
       "  }\n",
       "}\n",
       "\n",
       "#sk-container-id-8 {\n",
       "  color: var(--sklearn-color-text);\n",
       "}\n",
       "\n",
       "#sk-container-id-8 pre {\n",
       "  padding: 0;\n",
       "}\n",
       "\n",
       "#sk-container-id-8 input.sk-hidden--visually {\n",
       "  border: 0;\n",
       "  clip: rect(1px 1px 1px 1px);\n",
       "  clip: rect(1px, 1px, 1px, 1px);\n",
       "  height: 1px;\n",
       "  margin: -1px;\n",
       "  overflow: hidden;\n",
       "  padding: 0;\n",
       "  position: absolute;\n",
       "  width: 1px;\n",
       "}\n",
       "\n",
       "#sk-container-id-8 div.sk-dashed-wrapped {\n",
       "  border: 1px dashed var(--sklearn-color-line);\n",
       "  margin: 0 0.4em 0.5em 0.4em;\n",
       "  box-sizing: border-box;\n",
       "  padding-bottom: 0.4em;\n",
       "  background-color: var(--sklearn-color-background);\n",
       "}\n",
       "\n",
       "#sk-container-id-8 div.sk-container {\n",
       "  /* jupyter's `normalize.less` sets `[hidden] { display: none; }`\n",
       "     but bootstrap.min.css set `[hidden] { display: none !important; }`\n",
       "     so we also need the `!important` here to be able to override the\n",
       "     default hidden behavior on the sphinx rendered scikit-learn.org.\n",
       "     See: https://github.com/scikit-learn/scikit-learn/issues/21755 */\n",
       "  display: inline-block !important;\n",
       "  position: relative;\n",
       "}\n",
       "\n",
       "#sk-container-id-8 div.sk-text-repr-fallback {\n",
       "  display: none;\n",
       "}\n",
       "\n",
       "div.sk-parallel-item,\n",
       "div.sk-serial,\n",
       "div.sk-item {\n",
       "  /* draw centered vertical line to link estimators */\n",
       "  background-image: linear-gradient(var(--sklearn-color-text-on-default-background), var(--sklearn-color-text-on-default-background));\n",
       "  background-size: 2px 100%;\n",
       "  background-repeat: no-repeat;\n",
       "  background-position: center center;\n",
       "}\n",
       "\n",
       "/* Parallel-specific style estimator block */\n",
       "\n",
       "#sk-container-id-8 div.sk-parallel-item::after {\n",
       "  content: \"\";\n",
       "  width: 100%;\n",
       "  border-bottom: 2px solid var(--sklearn-color-text-on-default-background);\n",
       "  flex-grow: 1;\n",
       "}\n",
       "\n",
       "#sk-container-id-8 div.sk-parallel {\n",
       "  display: flex;\n",
       "  align-items: stretch;\n",
       "  justify-content: center;\n",
       "  background-color: var(--sklearn-color-background);\n",
       "  position: relative;\n",
       "}\n",
       "\n",
       "#sk-container-id-8 div.sk-parallel-item {\n",
       "  display: flex;\n",
       "  flex-direction: column;\n",
       "}\n",
       "\n",
       "#sk-container-id-8 div.sk-parallel-item:first-child::after {\n",
       "  align-self: flex-end;\n",
       "  width: 50%;\n",
       "}\n",
       "\n",
       "#sk-container-id-8 div.sk-parallel-item:last-child::after {\n",
       "  align-self: flex-start;\n",
       "  width: 50%;\n",
       "}\n",
       "\n",
       "#sk-container-id-8 div.sk-parallel-item:only-child::after {\n",
       "  width: 0;\n",
       "}\n",
       "\n",
       "/* Serial-specific style estimator block */\n",
       "\n",
       "#sk-container-id-8 div.sk-serial {\n",
       "  display: flex;\n",
       "  flex-direction: column;\n",
       "  align-items: center;\n",
       "  background-color: var(--sklearn-color-background);\n",
       "  padding-right: 1em;\n",
       "  padding-left: 1em;\n",
       "}\n",
       "\n",
       "\n",
       "/* Toggleable style: style used for estimator/Pipeline/ColumnTransformer box that is\n",
       "clickable and can be expanded/collapsed.\n",
       "- Pipeline and ColumnTransformer use this feature and define the default style\n",
       "- Estimators will overwrite some part of the style using the `sk-estimator` class\n",
       "*/\n",
       "\n",
       "/* Pipeline and ColumnTransformer style (default) */\n",
       "\n",
       "#sk-container-id-8 div.sk-toggleable {\n",
       "  /* Default theme specific background. It is overwritten whether we have a\n",
       "  specific estimator or a Pipeline/ColumnTransformer */\n",
       "  background-color: var(--sklearn-color-background);\n",
       "}\n",
       "\n",
       "/* Toggleable label */\n",
       "#sk-container-id-8 label.sk-toggleable__label {\n",
       "  cursor: pointer;\n",
       "  display: flex;\n",
       "  width: 100%;\n",
       "  margin-bottom: 0;\n",
       "  padding: 0.5em;\n",
       "  box-sizing: border-box;\n",
       "  text-align: center;\n",
       "  align-items: start;\n",
       "  justify-content: space-between;\n",
       "  gap: 0.5em;\n",
       "}\n",
       "\n",
       "#sk-container-id-8 label.sk-toggleable__label .caption {\n",
       "  font-size: 0.6rem;\n",
       "  font-weight: lighter;\n",
       "  color: var(--sklearn-color-text-muted);\n",
       "}\n",
       "\n",
       "#sk-container-id-8 label.sk-toggleable__label-arrow:before {\n",
       "  /* Arrow on the left of the label */\n",
       "  content: \"▸\";\n",
       "  float: left;\n",
       "  margin-right: 0.25em;\n",
       "  color: var(--sklearn-color-icon);\n",
       "}\n",
       "\n",
       "#sk-container-id-8 label.sk-toggleable__label-arrow:hover:before {\n",
       "  color: var(--sklearn-color-text);\n",
       "}\n",
       "\n",
       "/* Toggleable content - dropdown */\n",
       "\n",
       "#sk-container-id-8 div.sk-toggleable__content {\n",
       "  max-height: 0;\n",
       "  max-width: 0;\n",
       "  overflow: hidden;\n",
       "  text-align: left;\n",
       "  /* unfitted */\n",
       "  background-color: var(--sklearn-color-unfitted-level-0);\n",
       "}\n",
       "\n",
       "#sk-container-id-8 div.sk-toggleable__content.fitted {\n",
       "  /* fitted */\n",
       "  background-color: var(--sklearn-color-fitted-level-0);\n",
       "}\n",
       "\n",
       "#sk-container-id-8 div.sk-toggleable__content pre {\n",
       "  margin: 0.2em;\n",
       "  border-radius: 0.25em;\n",
       "  color: var(--sklearn-color-text);\n",
       "  /* unfitted */\n",
       "  background-color: var(--sklearn-color-unfitted-level-0);\n",
       "}\n",
       "\n",
       "#sk-container-id-8 div.sk-toggleable__content.fitted pre {\n",
       "  /* unfitted */\n",
       "  background-color: var(--sklearn-color-fitted-level-0);\n",
       "}\n",
       "\n",
       "#sk-container-id-8 input.sk-toggleable__control:checked~div.sk-toggleable__content {\n",
       "  /* Expand drop-down */\n",
       "  max-height: 200px;\n",
       "  max-width: 100%;\n",
       "  overflow: auto;\n",
       "}\n",
       "\n",
       "#sk-container-id-8 input.sk-toggleable__control:checked~label.sk-toggleable__label-arrow:before {\n",
       "  content: \"▾\";\n",
       "}\n",
       "\n",
       "/* Pipeline/ColumnTransformer-specific style */\n",
       "\n",
       "#sk-container-id-8 div.sk-label input.sk-toggleable__control:checked~label.sk-toggleable__label {\n",
       "  color: var(--sklearn-color-text);\n",
       "  background-color: var(--sklearn-color-unfitted-level-2);\n",
       "}\n",
       "\n",
       "#sk-container-id-8 div.sk-label.fitted input.sk-toggleable__control:checked~label.sk-toggleable__label {\n",
       "  background-color: var(--sklearn-color-fitted-level-2);\n",
       "}\n",
       "\n",
       "/* Estimator-specific style */\n",
       "\n",
       "/* Colorize estimator box */\n",
       "#sk-container-id-8 div.sk-estimator input.sk-toggleable__control:checked~label.sk-toggleable__label {\n",
       "  /* unfitted */\n",
       "  background-color: var(--sklearn-color-unfitted-level-2);\n",
       "}\n",
       "\n",
       "#sk-container-id-8 div.sk-estimator.fitted input.sk-toggleable__control:checked~label.sk-toggleable__label {\n",
       "  /* fitted */\n",
       "  background-color: var(--sklearn-color-fitted-level-2);\n",
       "}\n",
       "\n",
       "#sk-container-id-8 div.sk-label label.sk-toggleable__label,\n",
       "#sk-container-id-8 div.sk-label label {\n",
       "  /* The background is the default theme color */\n",
       "  color: var(--sklearn-color-text-on-default-background);\n",
       "}\n",
       "\n",
       "/* On hover, darken the color of the background */\n",
       "#sk-container-id-8 div.sk-label:hover label.sk-toggleable__label {\n",
       "  color: var(--sklearn-color-text);\n",
       "  background-color: var(--sklearn-color-unfitted-level-2);\n",
       "}\n",
       "\n",
       "/* Label box, darken color on hover, fitted */\n",
       "#sk-container-id-8 div.sk-label.fitted:hover label.sk-toggleable__label.fitted {\n",
       "  color: var(--sklearn-color-text);\n",
       "  background-color: var(--sklearn-color-fitted-level-2);\n",
       "}\n",
       "\n",
       "/* Estimator label */\n",
       "\n",
       "#sk-container-id-8 div.sk-label label {\n",
       "  font-family: monospace;\n",
       "  font-weight: bold;\n",
       "  display: inline-block;\n",
       "  line-height: 1.2em;\n",
       "}\n",
       "\n",
       "#sk-container-id-8 div.sk-label-container {\n",
       "  text-align: center;\n",
       "}\n",
       "\n",
       "/* Estimator-specific */\n",
       "#sk-container-id-8 div.sk-estimator {\n",
       "  font-family: monospace;\n",
       "  border: 1px dotted var(--sklearn-color-border-box);\n",
       "  border-radius: 0.25em;\n",
       "  box-sizing: border-box;\n",
       "  margin-bottom: 0.5em;\n",
       "  /* unfitted */\n",
       "  background-color: var(--sklearn-color-unfitted-level-0);\n",
       "}\n",
       "\n",
       "#sk-container-id-8 div.sk-estimator.fitted {\n",
       "  /* fitted */\n",
       "  background-color: var(--sklearn-color-fitted-level-0);\n",
       "}\n",
       "\n",
       "/* on hover */\n",
       "#sk-container-id-8 div.sk-estimator:hover {\n",
       "  /* unfitted */\n",
       "  background-color: var(--sklearn-color-unfitted-level-2);\n",
       "}\n",
       "\n",
       "#sk-container-id-8 div.sk-estimator.fitted:hover {\n",
       "  /* fitted */\n",
       "  background-color: var(--sklearn-color-fitted-level-2);\n",
       "}\n",
       "\n",
       "/* Specification for estimator info (e.g. \"i\" and \"?\") */\n",
       "\n",
       "/* Common style for \"i\" and \"?\" */\n",
       "\n",
       ".sk-estimator-doc-link,\n",
       "a:link.sk-estimator-doc-link,\n",
       "a:visited.sk-estimator-doc-link {\n",
       "  float: right;\n",
       "  font-size: smaller;\n",
       "  line-height: 1em;\n",
       "  font-family: monospace;\n",
       "  background-color: var(--sklearn-color-background);\n",
       "  border-radius: 1em;\n",
       "  height: 1em;\n",
       "  width: 1em;\n",
       "  text-decoration: none !important;\n",
       "  margin-left: 0.5em;\n",
       "  text-align: center;\n",
       "  /* unfitted */\n",
       "  border: var(--sklearn-color-unfitted-level-1) 1pt solid;\n",
       "  color: var(--sklearn-color-unfitted-level-1);\n",
       "}\n",
       "\n",
       ".sk-estimator-doc-link.fitted,\n",
       "a:link.sk-estimator-doc-link.fitted,\n",
       "a:visited.sk-estimator-doc-link.fitted {\n",
       "  /* fitted */\n",
       "  border: var(--sklearn-color-fitted-level-1) 1pt solid;\n",
       "  color: var(--sklearn-color-fitted-level-1);\n",
       "}\n",
       "\n",
       "/* On hover */\n",
       "div.sk-estimator:hover .sk-estimator-doc-link:hover,\n",
       ".sk-estimator-doc-link:hover,\n",
       "div.sk-label-container:hover .sk-estimator-doc-link:hover,\n",
       ".sk-estimator-doc-link:hover {\n",
       "  /* unfitted */\n",
       "  background-color: var(--sklearn-color-unfitted-level-3);\n",
       "  color: var(--sklearn-color-background);\n",
       "  text-decoration: none;\n",
       "}\n",
       "\n",
       "div.sk-estimator.fitted:hover .sk-estimator-doc-link.fitted:hover,\n",
       ".sk-estimator-doc-link.fitted:hover,\n",
       "div.sk-label-container:hover .sk-estimator-doc-link.fitted:hover,\n",
       ".sk-estimator-doc-link.fitted:hover {\n",
       "  /* fitted */\n",
       "  background-color: var(--sklearn-color-fitted-level-3);\n",
       "  color: var(--sklearn-color-background);\n",
       "  text-decoration: none;\n",
       "}\n",
       "\n",
       "/* Span, style for the box shown on hovering the info icon */\n",
       ".sk-estimator-doc-link span {\n",
       "  display: none;\n",
       "  z-index: 9999;\n",
       "  position: relative;\n",
       "  font-weight: normal;\n",
       "  right: .2ex;\n",
       "  padding: .5ex;\n",
       "  margin: .5ex;\n",
       "  width: min-content;\n",
       "  min-width: 20ex;\n",
       "  max-width: 50ex;\n",
       "  color: var(--sklearn-color-text);\n",
       "  box-shadow: 2pt 2pt 4pt #999;\n",
       "  /* unfitted */\n",
       "  background: var(--sklearn-color-unfitted-level-0);\n",
       "  border: .5pt solid var(--sklearn-color-unfitted-level-3);\n",
       "}\n",
       "\n",
       ".sk-estimator-doc-link.fitted span {\n",
       "  /* fitted */\n",
       "  background: var(--sklearn-color-fitted-level-0);\n",
       "  border: var(--sklearn-color-fitted-level-3);\n",
       "}\n",
       "\n",
       ".sk-estimator-doc-link:hover span {\n",
       "  display: block;\n",
       "}\n",
       "\n",
       "/* \"?\"-specific style due to the `<a>` HTML tag */\n",
       "\n",
       "#sk-container-id-8 a.estimator_doc_link {\n",
       "  float: right;\n",
       "  font-size: 1rem;\n",
       "  line-height: 1em;\n",
       "  font-family: monospace;\n",
       "  background-color: var(--sklearn-color-background);\n",
       "  border-radius: 1rem;\n",
       "  height: 1rem;\n",
       "  width: 1rem;\n",
       "  text-decoration: none;\n",
       "  /* unfitted */\n",
       "  color: var(--sklearn-color-unfitted-level-1);\n",
       "  border: var(--sklearn-color-unfitted-level-1) 1pt solid;\n",
       "}\n",
       "\n",
       "#sk-container-id-8 a.estimator_doc_link.fitted {\n",
       "  /* fitted */\n",
       "  border: var(--sklearn-color-fitted-level-1) 1pt solid;\n",
       "  color: var(--sklearn-color-fitted-level-1);\n",
       "}\n",
       "\n",
       "/* On hover */\n",
       "#sk-container-id-8 a.estimator_doc_link:hover {\n",
       "  /* unfitted */\n",
       "  background-color: var(--sklearn-color-unfitted-level-3);\n",
       "  color: var(--sklearn-color-background);\n",
       "  text-decoration: none;\n",
       "}\n",
       "\n",
       "#sk-container-id-8 a.estimator_doc_link.fitted:hover {\n",
       "  /* fitted */\n",
       "  background-color: var(--sklearn-color-fitted-level-3);\n",
       "}\n",
       "</style><div id=\"sk-container-id-8\" class=\"sk-top-container\"><div class=\"sk-text-repr-fallback\"><pre>LinearRegression()</pre><b>In a Jupyter environment, please rerun this cell to show the HTML representation or trust the notebook. <br />On GitHub, the HTML representation is unable to render, please try loading this page with nbviewer.org.</b></div><div class=\"sk-container\" hidden><div class=\"sk-item\"><div class=\"sk-estimator fitted sk-toggleable\"><input class=\"sk-toggleable__control sk-hidden--visually\" id=\"sk-estimator-id-8\" type=\"checkbox\" checked><label for=\"sk-estimator-id-8\" class=\"sk-toggleable__label fitted sk-toggleable__label-arrow\"><div><div>LinearRegression</div></div><div><a class=\"sk-estimator-doc-link fitted\" rel=\"noreferrer\" target=\"_blank\" href=\"https://scikit-learn.org/1.6/modules/generated/sklearn.linear_model.LinearRegression.html\">?<span>Documentation for LinearRegression</span></a><span class=\"sk-estimator-doc-link fitted\">i<span>Fitted</span></span></div></label><div class=\"sk-toggleable__content fitted\"><pre>LinearRegression()</pre></div> </div></div></div></div>"
      ],
      "text/plain": [
       "LinearRegression()"
      ]
     },
     "execution_count": 47,
     "metadata": {},
     "output_type": "execute_result"
    }
   ],
   "source": [
    "# Create and train the model\n",
    "model = LinearRegression()\n",
    "model.fit(train_X_all, train_y_all)"
   ]
  },
  {
   "cell_type": "code",
   "execution_count": 48,
   "id": "c40182de",
   "metadata": {},
   "outputs": [
    {
     "name": "stdout",
     "output_type": "stream",
     "text": [
      "Coefficients: [   10343.8828322  -1128353.15822895    -6655.86252056]\n",
      "Intercept: -3576477.610464275\n"
     ]
    }
   ],
   "source": [
    "# Get the coefficients\n",
    "coefficients = model.coef_\n",
    "intercept = model.intercept_\n",
    "print(\"Coefficients:\", coefficients)\n",
    "print(\"Intercept:\", intercept)"
   ]
  },
  {
   "cell_type": "code",
   "execution_count": 49,
   "id": "c8247e29",
   "metadata": {},
   "outputs": [
    {
     "name": "stdout",
     "output_type": "stream",
     "text": [
      "Mean Absolute Error: 2352385.124377389\n",
      "Mean Squared Error: 15652420747083.66\n"
     ]
    }
   ],
   "source": [
    "# Evaluate the model\n",
    "predictions = model.predict(test_X_all)\n",
    "mse = mean_squared_error(test_y_all, predictions)\n",
    "mabs = mean_absolute_error(test_y_all, predictions)  # Mean Absolute Error\n",
    "print(\"Mean Absolute Error:\", mabs)\n",
    "print(\"Mean Squared Error:\", mse)"
   ]
  },
  {
   "cell_type": "code",
   "execution_count": 50,
   "id": "0fddd1e7",
   "metadata": {},
   "outputs": [
    {
     "name": "stdout",
     "output_type": "stream",
     "text": [
      "Mean Absolute Error: 1630037.768419087\n"
     ]
    }
   ],
   "source": [
    "rforest_model = RandomForestRegressor(random_state=42)\n",
    "rforest_model.fit(train_X_all, train_y_all)\n",
    "predictions_rforest = rforest_model.predict(test_X_all)\n",
    "mabs = mean_absolute_error(test_y_all, predictions_rforest)  # Mean Absolute Error\n",
    "print(\"Mean Absolute Error:\", mabs)"
   ]
  },
  {
   "cell_type": "code",
   "execution_count": 51,
   "id": "c1792931",
   "metadata": {},
   "outputs": [
    {
     "name": "stdout",
     "output_type": "stream",
     "text": [
      "Coefficients after scaling: [7808735.96353503 -784094.66927253 -385890.22372529]\n",
      "Intercept after scaling: 9713268.722305017\n"
     ]
    }
   ],
   "source": [
    "from sklearn.preprocessing import StandardScaler\n",
    "scaler = StandardScaler()\n",
    "# Fit the scaler on the training data\n",
    "train_X_scaled = scaler.fit_transform(train_X_all)\n",
    "# Transform the test data\n",
    "test_X_scaled = scaler.transform(test_X_all)\n",
    "# Create and train the model\n",
    "model = LinearRegression()\n",
    "model.fit(train_X_scaled, train_y_all)\n",
    "# Get the coefficients\n",
    "coefficients = model.coef_\n",
    "intercept = model.intercept_\n",
    "print(\"Coefficients after scaling:\", coefficients)\n",
    "print(\"Intercept after scaling:\", intercept)\n"
   ]
  },
  {
   "cell_type": "code",
   "execution_count": 52,
   "id": "d0d2e00a",
   "metadata": {},
   "outputs": [
    {
     "data": {
      "text/plain": [
       "array([[ 0.69475633,  0.53472978,  0.74139293],\n",
       "       [-0.69613165, -0.90432242,  1.46581197],\n",
       "       [ 0.53447305,  1.97378198, -0.51771636],\n",
       "       ...,\n",
       "       [-0.3517213 ,  0.53472978,  0.29294304],\n",
       "       [ 0.46956494,  0.53472978,  0.29294304],\n",
       "       [-0.82859717, -2.34337462, -0.75918937]], shape=(2013, 3))"
      ]
     },
     "execution_count": 52,
     "metadata": {},
     "output_type": "execute_result"
    }
   ],
   "source": [
    "train_X_scaled"
   ]
  },
  {
   "cell_type": "code",
   "execution_count": 53,
   "id": "df7cbc6e",
   "metadata": {},
   "outputs": [
    {
     "name": "stdout",
     "output_type": "stream",
     "text": [
      "Mean Absolute Error after scaling: 2352385.124377388\n",
      "Mean Squared Error after scaling: 15652420747083.639\n"
     ]
    }
   ],
   "source": [
    "# Evaluate the model\n",
    "predictions = model.predict(test_X_scaled)\n",
    "mse = mean_squared_error(test_y_all, predictions)\n",
    "mabs = mean_absolute_error(test_y_all, predictions)  # Mean Absolute Error\n",
    "print(\"Mean Absolute Error after scaling:\", mabs)\n",
    "print(\"Mean Squared Error after scaling:\", mse)\n"
   ]
  },
  {
   "cell_type": "code",
   "execution_count": 54,
   "id": "17134b59",
   "metadata": {},
   "outputs": [
    {
     "data": {
      "application/vnd.plotly.v1+json": {
       "config": {
        "plotlyServerURL": "https://plot.ly"
       },
       "data": [
        {
         "hovertemplate": "Actual Price=%{x}<br>Predicted Price=%{y}<extra></extra>",
         "legendgroup": "",
         "marker": {
          "color": "#636efa",
          "symbol": "circle"
         },
         "mode": "markers",
         "name": "",
         "orientation": "v",
         "showlegend": false,
         "type": "scatter",
         "x": {
          "bdata": "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",
          "dtype": "i4"
         },
         "xaxis": "x",
         "y": {
          "bdata": "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",
          "dtype": "f8"
         },
         "yaxis": "y"
        }
       ],
       "layout": {
        "legend": {
         "tracegroupgap": 0
        },
        "shapes": [
         {
          "line": {
           "color": "red",
           "dash": "dash"
          },
          "type": "line",
          "x0": 2000000,
          "x1": 62300000,
          "y0": 2000000,
          "y1": 62300000
         }
        ],
        "template": {
         "data": {
          "bar": [
           {
            "error_x": {
             "color": "#2a3f5f"
            },
            "error_y": {
             "color": "#2a3f5f"
            },
            "marker": {
             "line": {
              "color": "#E5ECF6",
              "width": 0.5
             },
             "pattern": {
              "fillmode": "overlay",
              "size": 10,
              "solidity": 0.2
             }
            },
            "type": "bar"
           }
          ],
          "barpolar": [
           {
            "marker": {
             "line": {
              "color": "#E5ECF6",
              "width": 0.5
             },
             "pattern": {
              "fillmode": "overlay",
              "size": 10,
              "solidity": 0.2
             }
            },
            "type": "barpolar"
           }
          ],
          "carpet": [
           {
            "aaxis": {
             "endlinecolor": "#2a3f5f",
             "gridcolor": "white",
             "linecolor": "white",
             "minorgridcolor": "white",
             "startlinecolor": "#2a3f5f"
            },
            "baxis": {
             "endlinecolor": "#2a3f5f",
             "gridcolor": "white",
             "linecolor": "white",
             "minorgridcolor": "white",
             "startlinecolor": "#2a3f5f"
            },
            "type": "carpet"
           }
          ],
          "choropleth": [
           {
            "colorbar": {
             "outlinewidth": 0,
             "ticks": ""
            },
            "type": "choropleth"
           }
          ],
          "contour": [
           {
            "colorbar": {
             "outlinewidth": 0,
             "ticks": ""
            },
            "colorscale": [
             [
              0,
              "#0d0887"
             ],
             [
              0.1111111111111111,
              "#46039f"
             ],
             [
              0.2222222222222222,
              "#7201a8"
             ],
             [
              0.3333333333333333,
              "#9c179e"
             ],
             [
              0.4444444444444444,
              "#bd3786"
             ],
             [
              0.5555555555555556,
              "#d8576b"
             ],
             [
              0.6666666666666666,
              "#ed7953"
             ],
             [
              0.7777777777777778,
              "#fb9f3a"
             ],
             [
              0.8888888888888888,
              "#fdca26"
             ],
             [
              1,
              "#f0f921"
             ]
            ],
            "type": "contour"
           }
          ],
          "contourcarpet": [
           {
            "colorbar": {
             "outlinewidth": 0,
             "ticks": ""
            },
            "type": "contourcarpet"
           }
          ],
          "heatmap": [
           {
            "colorbar": {
             "outlinewidth": 0,
             "ticks": ""
            },
            "colorscale": [
             [
              0,
              "#0d0887"
             ],
             [
              0.1111111111111111,
              "#46039f"
             ],
             [
              0.2222222222222222,
              "#7201a8"
             ],
             [
              0.3333333333333333,
              "#9c179e"
             ],
             [
              0.4444444444444444,
              "#bd3786"
             ],
             [
              0.5555555555555556,
              "#d8576b"
             ],
             [
              0.6666666666666666,
              "#ed7953"
             ],
             [
              0.7777777777777778,
              "#fb9f3a"
             ],
             [
              0.8888888888888888,
              "#fdca26"
             ],
             [
              1,
              "#f0f921"
             ]
            ],
            "type": "heatmap"
           }
          ],
          "histogram": [
           {
            "marker": {
             "pattern": {
              "fillmode": "overlay",
              "size": 10,
              "solidity": 0.2
             }
            },
            "type": "histogram"
           }
          ],
          "histogram2d": [
           {
            "colorbar": {
             "outlinewidth": 0,
             "ticks": ""
            },
            "colorscale": [
             [
              0,
              "#0d0887"
             ],
             [
              0.1111111111111111,
              "#46039f"
             ],
             [
              0.2222222222222222,
              "#7201a8"
             ],
             [
              0.3333333333333333,
              "#9c179e"
             ],
             [
              0.4444444444444444,
              "#bd3786"
             ],
             [
              0.5555555555555556,
              "#d8576b"
             ],
             [
              0.6666666666666666,
              "#ed7953"
             ],
             [
              0.7777777777777778,
              "#fb9f3a"
             ],
             [
              0.8888888888888888,
              "#fdca26"
             ],
             [
              1,
              "#f0f921"
             ]
            ],
            "type": "histogram2d"
           }
          ],
          "histogram2dcontour": [
           {
            "colorbar": {
             "outlinewidth": 0,
             "ticks": ""
            },
            "colorscale": [
             [
              0,
              "#0d0887"
             ],
             [
              0.1111111111111111,
              "#46039f"
             ],
             [
              0.2222222222222222,
              "#7201a8"
             ],
             [
              0.3333333333333333,
              "#9c179e"
             ],
             [
              0.4444444444444444,
              "#bd3786"
             ],
             [
              0.5555555555555556,
              "#d8576b"
             ],
             [
              0.6666666666666666,
              "#ed7953"
             ],
             [
              0.7777777777777778,
              "#fb9f3a"
             ],
             [
              0.8888888888888888,
              "#fdca26"
             ],
             [
              1,
              "#f0f921"
             ]
            ],
            "type": "histogram2dcontour"
           }
          ],
          "mesh3d": [
           {
            "colorbar": {
             "outlinewidth": 0,
             "ticks": ""
            },
            "type": "mesh3d"
           }
          ],
          "parcoords": [
           {
            "line": {
             "colorbar": {
              "outlinewidth": 0,
              "ticks": ""
             }
            },
            "type": "parcoords"
           }
          ],
          "pie": [
           {
            "automargin": true,
            "type": "pie"
           }
          ],
          "scatter": [
           {
            "fillpattern": {
             "fillmode": "overlay",
             "size": 10,
             "solidity": 0.2
            },
            "type": "scatter"
           }
          ],
          "scatter3d": [
           {
            "line": {
             "colorbar": {
              "outlinewidth": 0,
              "ticks": ""
             }
            },
            "marker": {
             "colorbar": {
              "outlinewidth": 0,
              "ticks": ""
             }
            },
            "type": "scatter3d"
           }
          ],
          "scattercarpet": [
           {
            "marker": {
             "colorbar": {
              "outlinewidth": 0,
              "ticks": ""
             }
            },
            "type": "scattercarpet"
           }
          ],
          "scattergeo": [
           {
            "marker": {
             "colorbar": {
              "outlinewidth": 0,
              "ticks": ""
             }
            },
            "type": "scattergeo"
           }
          ],
          "scattergl": [
           {
            "marker": {
             "colorbar": {
              "outlinewidth": 0,
              "ticks": ""
             }
            },
            "type": "scattergl"
           }
          ],
          "scattermap": [
           {
            "marker": {
             "colorbar": {
              "outlinewidth": 0,
              "ticks": ""
             }
            },
            "type": "scattermap"
           }
          ],
          "scattermapbox": [
           {
            "marker": {
             "colorbar": {
              "outlinewidth": 0,
              "ticks": ""
             }
            },
            "type": "scattermapbox"
           }
          ],
          "scatterpolar": [
           {
            "marker": {
             "colorbar": {
              "outlinewidth": 0,
              "ticks": ""
             }
            },
            "type": "scatterpolar"
           }
          ],
          "scatterpolargl": [
           {
            "marker": {
             "colorbar": {
              "outlinewidth": 0,
              "ticks": ""
             }
            },
            "type": "scatterpolargl"
           }
          ],
          "scatterternary": [
           {
            "marker": {
             "colorbar": {
              "outlinewidth": 0,
              "ticks": ""
             }
            },
            "type": "scatterternary"
           }
          ],
          "surface": [
           {
            "colorbar": {
             "outlinewidth": 0,
             "ticks": ""
            },
            "colorscale": [
             [
              0,
              "#0d0887"
             ],
             [
              0.1111111111111111,
              "#46039f"
             ],
             [
              0.2222222222222222,
              "#7201a8"
             ],
             [
              0.3333333333333333,
              "#9c179e"
             ],
             [
              0.4444444444444444,
              "#bd3786"
             ],
             [
              0.5555555555555556,
              "#d8576b"
             ],
             [
              0.6666666666666666,
              "#ed7953"
             ],
             [
              0.7777777777777778,
              "#fb9f3a"
             ],
             [
              0.8888888888888888,
              "#fdca26"
             ],
             [
              1,
              "#f0f921"
             ]
            ],
            "type": "surface"
           }
          ],
          "table": [
           {
            "cells": {
             "fill": {
              "color": "#EBF0F8"
             },
             "line": {
              "color": "white"
             }
            },
            "header": {
             "fill": {
              "color": "#C8D4E3"
             },
             "line": {
              "color": "white"
             }
            },
            "type": "table"
           }
          ]
         },
         "layout": {
          "annotationdefaults": {
           "arrowcolor": "#2a3f5f",
           "arrowhead": 0,
           "arrowwidth": 1
          },
          "autotypenumbers": "strict",
          "coloraxis": {
           "colorbar": {
            "outlinewidth": 0,
            "ticks": ""
           }
          },
          "colorscale": {
           "diverging": [
            [
             0,
             "#8e0152"
            ],
            [
             0.1,
             "#c51b7d"
            ],
            [
             0.2,
             "#de77ae"
            ],
            [
             0.3,
             "#f1b6da"
            ],
            [
             0.4,
             "#fde0ef"
            ],
            [
             0.5,
             "#f7f7f7"
            ],
            [
             0.6,
             "#e6f5d0"
            ],
            [
             0.7,
             "#b8e186"
            ],
            [
             0.8,
             "#7fbc41"
            ],
            [
             0.9,
             "#4d9221"
            ],
            [
             1,
             "#276419"
            ]
           ],
           "sequential": [
            [
             0,
             "#0d0887"
            ],
            [
             0.1111111111111111,
             "#46039f"
            ],
            [
             0.2222222222222222,
             "#7201a8"
            ],
            [
             0.3333333333333333,
             "#9c179e"
            ],
            [
             0.4444444444444444,
             "#bd3786"
            ],
            [
             0.5555555555555556,
             "#d8576b"
            ],
            [
             0.6666666666666666,
             "#ed7953"
            ],
            [
             0.7777777777777778,
             "#fb9f3a"
            ],
            [
             0.8888888888888888,
             "#fdca26"
            ],
            [
             1,
             "#f0f921"
            ]
           ],
           "sequentialminus": [
            [
             0,
             "#0d0887"
            ],
            [
             0.1111111111111111,
             "#46039f"
            ],
            [
             0.2222222222222222,
             "#7201a8"
            ],
            [
             0.3333333333333333,
             "#9c179e"
            ],
            [
             0.4444444444444444,
             "#bd3786"
            ],
            [
             0.5555555555555556,
             "#d8576b"
            ],
            [
             0.6666666666666666,
             "#ed7953"
            ],
            [
             0.7777777777777778,
             "#fb9f3a"
            ],
            [
             0.8888888888888888,
             "#fdca26"
            ],
            [
             1,
             "#f0f921"
            ]
           ]
          },
          "colorway": [
           "#636efa",
           "#EF553B",
           "#00cc96",
           "#ab63fa",
           "#FFA15A",
           "#19d3f3",
           "#FF6692",
           "#B6E880",
           "#FF97FF",
           "#FECB52"
          ],
          "font": {
           "color": "#2a3f5f"
          },
          "geo": {
           "bgcolor": "white",
           "lakecolor": "white",
           "landcolor": "#E5ECF6",
           "showlakes": true,
           "showland": true,
           "subunitcolor": "white"
          },
          "hoverlabel": {
           "align": "left"
          },
          "hovermode": "closest",
          "mapbox": {
           "style": "light"
          },
          "paper_bgcolor": "white",
          "plot_bgcolor": "#E5ECF6",
          "polar": {
           "angularaxis": {
            "gridcolor": "white",
            "linecolor": "white",
            "ticks": ""
           },
           "bgcolor": "#E5ECF6",
           "radialaxis": {
            "gridcolor": "white",
            "linecolor": "white",
            "ticks": ""
           }
          },
          "scene": {
           "xaxis": {
            "backgroundcolor": "#E5ECF6",
            "gridcolor": "white",
            "gridwidth": 2,
            "linecolor": "white",
            "showbackground": true,
            "ticks": "",
            "zerolinecolor": "white"
           },
           "yaxis": {
            "backgroundcolor": "#E5ECF6",
            "gridcolor": "white",
            "gridwidth": 2,
            "linecolor": "white",
            "showbackground": true,
            "ticks": "",
            "zerolinecolor": "white"
           },
           "zaxis": {
            "backgroundcolor": "#E5ECF6",
            "gridcolor": "white",
            "gridwidth": 2,
            "linecolor": "white",
            "showbackground": true,
            "ticks": "",
            "zerolinecolor": "white"
           }
          },
          "shapedefaults": {
           "line": {
            "color": "#2a3f5f"
           }
          },
          "ternary": {
           "aaxis": {
            "gridcolor": "white",
            "linecolor": "white",
            "ticks": ""
           },
           "baxis": {
            "gridcolor": "white",
            "linecolor": "white",
            "ticks": ""
           },
           "bgcolor": "#E5ECF6",
           "caxis": {
            "gridcolor": "white",
            "linecolor": "white",
            "ticks": ""
           }
          },
          "title": {
           "x": 0.05
          },
          "xaxis": {
           "automargin": true,
           "gridcolor": "white",
           "linecolor": "white",
           "ticks": "",
           "title": {
            "standoff": 15
           },
           "zerolinecolor": "white",
           "zerolinewidth": 2
          },
          "yaxis": {
           "automargin": true,
           "gridcolor": "white",
           "linecolor": "white",
           "ticks": "",
           "title": {
            "standoff": 15
           },
           "zerolinecolor": "white",
           "zerolinewidth": 2
          }
         }
        },
        "title": {
         "text": "Actual vs Predicted Prices"
        },
        "xaxis": {
         "anchor": "y",
         "domain": [
          0,
          1
         ],
         "title": {
          "text": "Actual Price"
         }
        },
        "yaxis": {
         "anchor": "x",
         "domain": [
          0,
          1
         ],
         "title": {
          "text": "Predicted Price"
         }
        }
       }
      }
     },
     "metadata": {},
     "output_type": "display_data"
    },
    {
     "data": {
      "application/vnd.plotly.v1+json": {
       "config": {
        "plotlyServerURL": "https://plot.ly"
       },
       "data": [
        {
         "hovertemplate": "Actual Price=%{x}<br>Predicted Price=%{y}<extra></extra>",
         "legendgroup": "",
         "marker": {
          "color": "#636efa",
          "symbol": "circle"
         },
         "mode": "markers",
         "name": "",
         "orientation": "v",
         "showlegend": false,
         "type": "scatter",
         "x": {
          "bdata": "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",
          "dtype": "i4"
         },
         "xaxis": "x",
         "y": {
          "bdata": "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",
          "dtype": "f8"
         },
         "yaxis": "y"
        }
       ],
       "layout": {
        "legend": {
         "tracegroupgap": 0
        },
        "shapes": [
         {
          "line": {
           "color": "red",
           "dash": "dash"
          },
          "type": "line",
          "x0": 2000000,
          "x1": 62300000,
          "y0": 2000000,
          "y1": 62300000
         }
        ],
        "template": {
         "data": {
          "bar": [
           {
            "error_x": {
             "color": "#2a3f5f"
            },
            "error_y": {
             "color": "#2a3f5f"
            },
            "marker": {
             "line": {
              "color": "#E5ECF6",
              "width": 0.5
             },
             "pattern": {
              "fillmode": "overlay",
              "size": 10,
              "solidity": 0.2
             }
            },
            "type": "bar"
           }
          ],
          "barpolar": [
           {
            "marker": {
             "line": {
              "color": "#E5ECF6",
              "width": 0.5
             },
             "pattern": {
              "fillmode": "overlay",
              "size": 10,
              "solidity": 0.2
             }
            },
            "type": "barpolar"
           }
          ],
          "carpet": [
           {
            "aaxis": {
             "endlinecolor": "#2a3f5f",
             "gridcolor": "white",
             "linecolor": "white",
             "minorgridcolor": "white",
             "startlinecolor": "#2a3f5f"
            },
            "baxis": {
             "endlinecolor": "#2a3f5f",
             "gridcolor": "white",
             "linecolor": "white",
             "minorgridcolor": "white",
             "startlinecolor": "#2a3f5f"
            },
            "type": "carpet"
           }
          ],
          "choropleth": [
           {
            "colorbar": {
             "outlinewidth": 0,
             "ticks": ""
            },
            "type": "choropleth"
           }
          ],
          "contour": [
           {
            "colorbar": {
             "outlinewidth": 0,
             "ticks": ""
            },
            "colorscale": [
             [
              0,
              "#0d0887"
             ],
             [
              0.1111111111111111,
              "#46039f"
             ],
             [
              0.2222222222222222,
              "#7201a8"
             ],
             [
              0.3333333333333333,
              "#9c179e"
             ],
             [
              0.4444444444444444,
              "#bd3786"
             ],
             [
              0.5555555555555556,
              "#d8576b"
             ],
             [
              0.6666666666666666,
              "#ed7953"
             ],
             [
              0.7777777777777778,
              "#fb9f3a"
             ],
             [
              0.8888888888888888,
              "#fdca26"
             ],
             [
              1,
              "#f0f921"
             ]
            ],
            "type": "contour"
           }
          ],
          "contourcarpet": [
           {
            "colorbar": {
             "outlinewidth": 0,
             "ticks": ""
            },
            "type": "contourcarpet"
           }
          ],
          "heatmap": [
           {
            "colorbar": {
             "outlinewidth": 0,
             "ticks": ""
            },
            "colorscale": [
             [
              0,
              "#0d0887"
             ],
             [
              0.1111111111111111,
              "#46039f"
             ],
             [
              0.2222222222222222,
              "#7201a8"
             ],
             [
              0.3333333333333333,
              "#9c179e"
             ],
             [
              0.4444444444444444,
              "#bd3786"
             ],
             [
              0.5555555555555556,
              "#d8576b"
             ],
             [
              0.6666666666666666,
              "#ed7953"
             ],
             [
              0.7777777777777778,
              "#fb9f3a"
             ],
             [
              0.8888888888888888,
              "#fdca26"
             ],
             [
              1,
              "#f0f921"
             ]
            ],
            "type": "heatmap"
           }
          ],
          "histogram": [
           {
            "marker": {
             "pattern": {
              "fillmode": "overlay",
              "size": 10,
              "solidity": 0.2
             }
            },
            "type": "histogram"
           }
          ],
          "histogram2d": [
           {
            "colorbar": {
             "outlinewidth": 0,
             "ticks": ""
            },
            "colorscale": [
             [
              0,
              "#0d0887"
             ],
             [
              0.1111111111111111,
              "#46039f"
             ],
             [
              0.2222222222222222,
              "#7201a8"
             ],
             [
              0.3333333333333333,
              "#9c179e"
             ],
             [
              0.4444444444444444,
              "#bd3786"
             ],
             [
              0.5555555555555556,
              "#d8576b"
             ],
             [
              0.6666666666666666,
              "#ed7953"
             ],
             [
              0.7777777777777778,
              "#fb9f3a"
             ],
             [
              0.8888888888888888,
              "#fdca26"
             ],
             [
              1,
              "#f0f921"
             ]
            ],
            "type": "histogram2d"
           }
          ],
          "histogram2dcontour": [
           {
            "colorbar": {
             "outlinewidth": 0,
             "ticks": ""
            },
            "colorscale": [
             [
              0,
              "#0d0887"
             ],
             [
              0.1111111111111111,
              "#46039f"
             ],
             [
              0.2222222222222222,
              "#7201a8"
             ],
             [
              0.3333333333333333,
              "#9c179e"
             ],
             [
              0.4444444444444444,
              "#bd3786"
             ],
             [
              0.5555555555555556,
              "#d8576b"
             ],
             [
              0.6666666666666666,
              "#ed7953"
             ],
             [
              0.7777777777777778,
              "#fb9f3a"
             ],
             [
              0.8888888888888888,
              "#fdca26"
             ],
             [
              1,
              "#f0f921"
             ]
            ],
            "type": "histogram2dcontour"
           }
          ],
          "mesh3d": [
           {
            "colorbar": {
             "outlinewidth": 0,
             "ticks": ""
            },
            "type": "mesh3d"
           }
          ],
          "parcoords": [
           {
            "line": {
             "colorbar": {
              "outlinewidth": 0,
              "ticks": ""
             }
            },
            "type": "parcoords"
           }
          ],
          "pie": [
           {
            "automargin": true,
            "type": "pie"
           }
          ],
          "scatter": [
           {
            "fillpattern": {
             "fillmode": "overlay",
             "size": 10,
             "solidity": 0.2
            },
            "type": "scatter"
           }
          ],
          "scatter3d": [
           {
            "line": {
             "colorbar": {
              "outlinewidth": 0,
              "ticks": ""
             }
            },
            "marker": {
             "colorbar": {
              "outlinewidth": 0,
              "ticks": ""
             }
            },
            "type": "scatter3d"
           }
          ],
          "scattercarpet": [
           {
            "marker": {
             "colorbar": {
              "outlinewidth": 0,
              "ticks": ""
             }
            },
            "type": "scattercarpet"
           }
          ],
          "scattergeo": [
           {
            "marker": {
             "colorbar": {
              "outlinewidth": 0,
              "ticks": ""
             }
            },
            "type": "scattergeo"
           }
          ],
          "scattergl": [
           {
            "marker": {
             "colorbar": {
              "outlinewidth": 0,
              "ticks": ""
             }
            },
            "type": "scattergl"
           }
          ],
          "scattermap": [
           {
            "marker": {
             "colorbar": {
              "outlinewidth": 0,
              "ticks": ""
             }
            },
            "type": "scattermap"
           }
          ],
          "scattermapbox": [
           {
            "marker": {
             "colorbar": {
              "outlinewidth": 0,
              "ticks": ""
             }
            },
            "type": "scattermapbox"
           }
          ],
          "scatterpolar": [
           {
            "marker": {
             "colorbar": {
              "outlinewidth": 0,
              "ticks": ""
             }
            },
            "type": "scatterpolar"
           }
          ],
          "scatterpolargl": [
           {
            "marker": {
             "colorbar": {
              "outlinewidth": 0,
              "ticks": ""
             }
            },
            "type": "scatterpolargl"
           }
          ],
          "scatterternary": [
           {
            "marker": {
             "colorbar": {
              "outlinewidth": 0,
              "ticks": ""
             }
            },
            "type": "scatterternary"
           }
          ],
          "surface": [
           {
            "colorbar": {
             "outlinewidth": 0,
             "ticks": ""
            },
            "colorscale": [
             [
              0,
              "#0d0887"
             ],
             [
              0.1111111111111111,
              "#46039f"
             ],
             [
              0.2222222222222222,
              "#7201a8"
             ],
             [
              0.3333333333333333,
              "#9c179e"
             ],
             [
              0.4444444444444444,
              "#bd3786"
             ],
             [
              0.5555555555555556,
              "#d8576b"
             ],
             [
              0.6666666666666666,
              "#ed7953"
             ],
             [
              0.7777777777777778,
              "#fb9f3a"
             ],
             [
              0.8888888888888888,
              "#fdca26"
             ],
             [
              1,
              "#f0f921"
             ]
            ],
            "type": "surface"
           }
          ],
          "table": [
           {
            "cells": {
             "fill": {
              "color": "#EBF0F8"
             },
             "line": {
              "color": "white"
             }
            },
            "header": {
             "fill": {
              "color": "#C8D4E3"
             },
             "line": {
              "color": "white"
             }
            },
            "type": "table"
           }
          ]
         },
         "layout": {
          "annotationdefaults": {
           "arrowcolor": "#2a3f5f",
           "arrowhead": 0,
           "arrowwidth": 1
          },
          "autotypenumbers": "strict",
          "coloraxis": {
           "colorbar": {
            "outlinewidth": 0,
            "ticks": ""
           }
          },
          "colorscale": {
           "diverging": [
            [
             0,
             "#8e0152"
            ],
            [
             0.1,
             "#c51b7d"
            ],
            [
             0.2,
             "#de77ae"
            ],
            [
             0.3,
             "#f1b6da"
            ],
            [
             0.4,
             "#fde0ef"
            ],
            [
             0.5,
             "#f7f7f7"
            ],
            [
             0.6,
             "#e6f5d0"
            ],
            [
             0.7,
             "#b8e186"
            ],
            [
             0.8,
             "#7fbc41"
            ],
            [
             0.9,
             "#4d9221"
            ],
            [
             1,
             "#276419"
            ]
           ],
           "sequential": [
            [
             0,
             "#0d0887"
            ],
            [
             0.1111111111111111,
             "#46039f"
            ],
            [
             0.2222222222222222,
             "#7201a8"
            ],
            [
             0.3333333333333333,
             "#9c179e"
            ],
            [
             0.4444444444444444,
             "#bd3786"
            ],
            [
             0.5555555555555556,
             "#d8576b"
            ],
            [
             0.6666666666666666,
             "#ed7953"
            ],
            [
             0.7777777777777778,
             "#fb9f3a"
            ],
            [
             0.8888888888888888,
             "#fdca26"
            ],
            [
             1,
             "#f0f921"
            ]
           ],
           "sequentialminus": [
            [
             0,
             "#0d0887"
            ],
            [
             0.1111111111111111,
             "#46039f"
            ],
            [
             0.2222222222222222,
             "#7201a8"
            ],
            [
             0.3333333333333333,
             "#9c179e"
            ],
            [
             0.4444444444444444,
             "#bd3786"
            ],
            [
             0.5555555555555556,
             "#d8576b"
            ],
            [
             0.6666666666666666,
             "#ed7953"
            ],
            [
             0.7777777777777778,
             "#fb9f3a"
            ],
            [
             0.8888888888888888,
             "#fdca26"
            ],
            [
             1,
             "#f0f921"
            ]
           ]
          },
          "colorway": [
           "#636efa",
           "#EF553B",
           "#00cc96",
           "#ab63fa",
           "#FFA15A",
           "#19d3f3",
           "#FF6692",
           "#B6E880",
           "#FF97FF",
           "#FECB52"
          ],
          "font": {
           "color": "#2a3f5f"
          },
          "geo": {
           "bgcolor": "white",
           "lakecolor": "white",
           "landcolor": "#E5ECF6",
           "showlakes": true,
           "showland": true,
           "subunitcolor": "white"
          },
          "hoverlabel": {
           "align": "left"
          },
          "hovermode": "closest",
          "mapbox": {
           "style": "light"
          },
          "paper_bgcolor": "white",
          "plot_bgcolor": "#E5ECF6",
          "polar": {
           "angularaxis": {
            "gridcolor": "white",
            "linecolor": "white",
            "ticks": ""
           },
           "bgcolor": "#E5ECF6",
           "radialaxis": {
            "gridcolor": "white",
            "linecolor": "white",
            "ticks": ""
           }
          },
          "scene": {
           "xaxis": {
            "backgroundcolor": "#E5ECF6",
            "gridcolor": "white",
            "gridwidth": 2,
            "linecolor": "white",
            "showbackground": true,
            "ticks": "",
            "zerolinecolor": "white"
           },
           "yaxis": {
            "backgroundcolor": "#E5ECF6",
            "gridcolor": "white",
            "gridwidth": 2,
            "linecolor": "white",
            "showbackground": true,
            "ticks": "",
            "zerolinecolor": "white"
           },
           "zaxis": {
            "backgroundcolor": "#E5ECF6",
            "gridcolor": "white",
            "gridwidth": 2,
            "linecolor": "white",
            "showbackground": true,
            "ticks": "",
            "zerolinecolor": "white"
           }
          },
          "shapedefaults": {
           "line": {
            "color": "#2a3f5f"
           }
          },
          "ternary": {
           "aaxis": {
            "gridcolor": "white",
            "linecolor": "white",
            "ticks": ""
           },
           "baxis": {
            "gridcolor": "white",
            "linecolor": "white",
            "ticks": ""
           },
           "bgcolor": "#E5ECF6",
           "caxis": {
            "gridcolor": "white",
            "linecolor": "white",
            "ticks": ""
           }
          },
          "title": {
           "x": 0.05
          },
          "xaxis": {
           "automargin": true,
           "gridcolor": "white",
           "linecolor": "white",
           "ticks": "",
           "title": {
            "standoff": 15
           },
           "zerolinecolor": "white",
           "zerolinewidth": 2
          },
          "yaxis": {
           "automargin": true,
           "gridcolor": "white",
           "linecolor": "white",
           "ticks": "",
           "title": {
            "standoff": 15
           },
           "zerolinecolor": "white",
           "zerolinewidth": 2
          }
         }
        },
        "title": {
         "text": "Actual vs Predicted Prices (Random Forest)"
        },
        "xaxis": {
         "anchor": "y",
         "domain": [
          0,
          1
         ],
         "title": {
          "text": "Actual Price"
         }
        },
        "yaxis": {
         "anchor": "x",
         "domain": [
          0,
          1
         ],
         "title": {
          "text": "Predicted Price"
         }
        }
       }
      }
     },
     "metadata": {},
     "output_type": "display_data"
    },
    {
     "data": {
      "application/vnd.plotly.v1+json": {
       "config": {
        "plotlyServerURL": "https://plot.ly"
       },
       "data": [
        {
         "hovertemplate": "Feature=%{x}<br>Importance=%{y}<extra></extra>",
         "legendgroup": "",
         "marker": {
          "color": "#636efa",
          "pattern": {
           "shape": ""
          }
         },
         "name": "",
         "orientation": "v",
         "showlegend": false,
         "textposition": "auto",
         "type": "bar",
         "x": [
          "Area",
          "Location",
          "No. of Bedrooms"
         ],
         "xaxis": "x",
         "y": {
          "bdata": "0mMIgyrE7D+g3P5yIqu1Px8T+NIlzpA/",
          "dtype": "f8"
         },
         "yaxis": "y"
        }
       ],
       "layout": {
        "barmode": "relative",
        "legend": {
         "tracegroupgap": 0
        },
        "template": {
         "data": {
          "bar": [
           {
            "error_x": {
             "color": "#2a3f5f"
            },
            "error_y": {
             "color": "#2a3f5f"
            },
            "marker": {
             "line": {
              "color": "#E5ECF6",
              "width": 0.5
             },
             "pattern": {
              "fillmode": "overlay",
              "size": 10,
              "solidity": 0.2
             }
            },
            "type": "bar"
           }
          ],
          "barpolar": [
           {
            "marker": {
             "line": {
              "color": "#E5ECF6",
              "width": 0.5
             },
             "pattern": {
              "fillmode": "overlay",
              "size": 10,
              "solidity": 0.2
             }
            },
            "type": "barpolar"
           }
          ],
          "carpet": [
           {
            "aaxis": {
             "endlinecolor": "#2a3f5f",
             "gridcolor": "white",
             "linecolor": "white",
             "minorgridcolor": "white",
             "startlinecolor": "#2a3f5f"
            },
            "baxis": {
             "endlinecolor": "#2a3f5f",
             "gridcolor": "white",
             "linecolor": "white",
             "minorgridcolor": "white",
             "startlinecolor": "#2a3f5f"
            },
            "type": "carpet"
           }
          ],
          "choropleth": [
           {
            "colorbar": {
             "outlinewidth": 0,
             "ticks": ""
            },
            "type": "choropleth"
           }
          ],
          "contour": [
           {
            "colorbar": {
             "outlinewidth": 0,
             "ticks": ""
            },
            "colorscale": [
             [
              0,
              "#0d0887"
             ],
             [
              0.1111111111111111,
              "#46039f"
             ],
             [
              0.2222222222222222,
              "#7201a8"
             ],
             [
              0.3333333333333333,
              "#9c179e"
             ],
             [
              0.4444444444444444,
              "#bd3786"
             ],
             [
              0.5555555555555556,
              "#d8576b"
             ],
             [
              0.6666666666666666,
              "#ed7953"
             ],
             [
              0.7777777777777778,
              "#fb9f3a"
             ],
             [
              0.8888888888888888,
              "#fdca26"
             ],
             [
              1,
              "#f0f921"
             ]
            ],
            "type": "contour"
           }
          ],
          "contourcarpet": [
           {
            "colorbar": {
             "outlinewidth": 0,
             "ticks": ""
            },
            "type": "contourcarpet"
           }
          ],
          "heatmap": [
           {
            "colorbar": {
             "outlinewidth": 0,
             "ticks": ""
            },
            "colorscale": [
             [
              0,
              "#0d0887"
             ],
             [
              0.1111111111111111,
              "#46039f"
             ],
             [
              0.2222222222222222,
              "#7201a8"
             ],
             [
              0.3333333333333333,
              "#9c179e"
             ],
             [
              0.4444444444444444,
              "#bd3786"
             ],
             [
              0.5555555555555556,
              "#d8576b"
             ],
             [
              0.6666666666666666,
              "#ed7953"
             ],
             [
              0.7777777777777778,
              "#fb9f3a"
             ],
             [
              0.8888888888888888,
              "#fdca26"
             ],
             [
              1,
              "#f0f921"
             ]
            ],
            "type": "heatmap"
           }
          ],
          "histogram": [
           {
            "marker": {
             "pattern": {
              "fillmode": "overlay",
              "size": 10,
              "solidity": 0.2
             }
            },
            "type": "histogram"
           }
          ],
          "histogram2d": [
           {
            "colorbar": {
             "outlinewidth": 0,
             "ticks": ""
            },
            "colorscale": [
             [
              0,
              "#0d0887"
             ],
             [
              0.1111111111111111,
              "#46039f"
             ],
             [
              0.2222222222222222,
              "#7201a8"
             ],
             [
              0.3333333333333333,
              "#9c179e"
             ],
             [
              0.4444444444444444,
              "#bd3786"
             ],
             [
              0.5555555555555556,
              "#d8576b"
             ],
             [
              0.6666666666666666,
              "#ed7953"
             ],
             [
              0.7777777777777778,
              "#fb9f3a"
             ],
             [
              0.8888888888888888,
              "#fdca26"
             ],
             [
              1,
              "#f0f921"
             ]
            ],
            "type": "histogram2d"
           }
          ],
          "histogram2dcontour": [
           {
            "colorbar": {
             "outlinewidth": 0,
             "ticks": ""
            },
            "colorscale": [
             [
              0,
              "#0d0887"
             ],
             [
              0.1111111111111111,
              "#46039f"
             ],
             [
              0.2222222222222222,
              "#7201a8"
             ],
             [
              0.3333333333333333,
              "#9c179e"
             ],
             [
              0.4444444444444444,
              "#bd3786"
             ],
             [
              0.5555555555555556,
              "#d8576b"
             ],
             [
              0.6666666666666666,
              "#ed7953"
             ],
             [
              0.7777777777777778,
              "#fb9f3a"
             ],
             [
              0.8888888888888888,
              "#fdca26"
             ],
             [
              1,
              "#f0f921"
             ]
            ],
            "type": "histogram2dcontour"
           }
          ],
          "mesh3d": [
           {
            "colorbar": {
             "outlinewidth": 0,
             "ticks": ""
            },
            "type": "mesh3d"
           }
          ],
          "parcoords": [
           {
            "line": {
             "colorbar": {
              "outlinewidth": 0,
              "ticks": ""
             }
            },
            "type": "parcoords"
           }
          ],
          "pie": [
           {
            "automargin": true,
            "type": "pie"
           }
          ],
          "scatter": [
           {
            "fillpattern": {
             "fillmode": "overlay",
             "size": 10,
             "solidity": 0.2
            },
            "type": "scatter"
           }
          ],
          "scatter3d": [
           {
            "line": {
             "colorbar": {
              "outlinewidth": 0,
              "ticks": ""
             }
            },
            "marker": {
             "colorbar": {
              "outlinewidth": 0,
              "ticks": ""
             }
            },
            "type": "scatter3d"
           }
          ],
          "scattercarpet": [
           {
            "marker": {
             "colorbar": {
              "outlinewidth": 0,
              "ticks": ""
             }
            },
            "type": "scattercarpet"
           }
          ],
          "scattergeo": [
           {
            "marker": {
             "colorbar": {
              "outlinewidth": 0,
              "ticks": ""
             }
            },
            "type": "scattergeo"
           }
          ],
          "scattergl": [
           {
            "marker": {
             "colorbar": {
              "outlinewidth": 0,
              "ticks": ""
             }
            },
            "type": "scattergl"
           }
          ],
          "scattermap": [
           {
            "marker": {
             "colorbar": {
              "outlinewidth": 0,
              "ticks": ""
             }
            },
            "type": "scattermap"
           }
          ],
          "scattermapbox": [
           {
            "marker": {
             "colorbar": {
              "outlinewidth": 0,
              "ticks": ""
             }
            },
            "type": "scattermapbox"
           }
          ],
          "scatterpolar": [
           {
            "marker": {
             "colorbar": {
              "outlinewidth": 0,
              "ticks": ""
             }
            },
            "type": "scatterpolar"
           }
          ],
          "scatterpolargl": [
           {
            "marker": {
             "colorbar": {
              "outlinewidth": 0,
              "ticks": ""
             }
            },
            "type": "scatterpolargl"
           }
          ],
          "scatterternary": [
           {
            "marker": {
             "colorbar": {
              "outlinewidth": 0,
              "ticks": ""
             }
            },
            "type": "scatterternary"
           }
          ],
          "surface": [
           {
            "colorbar": {
             "outlinewidth": 0,
             "ticks": ""
            },
            "colorscale": [
             [
              0,
              "#0d0887"
             ],
             [
              0.1111111111111111,
              "#46039f"
             ],
             [
              0.2222222222222222,
              "#7201a8"
             ],
             [
              0.3333333333333333,
              "#9c179e"
             ],
             [
              0.4444444444444444,
              "#bd3786"
             ],
             [
              0.5555555555555556,
              "#d8576b"
             ],
             [
              0.6666666666666666,
              "#ed7953"
             ],
             [
              0.7777777777777778,
              "#fb9f3a"
             ],
             [
              0.8888888888888888,
              "#fdca26"
             ],
             [
              1,
              "#f0f921"
             ]
            ],
            "type": "surface"
           }
          ],
          "table": [
           {
            "cells": {
             "fill": {
              "color": "#EBF0F8"
             },
             "line": {
              "color": "white"
             }
            },
            "header": {
             "fill": {
              "color": "#C8D4E3"
             },
             "line": {
              "color": "white"
             }
            },
            "type": "table"
           }
          ]
         },
         "layout": {
          "annotationdefaults": {
           "arrowcolor": "#2a3f5f",
           "arrowhead": 0,
           "arrowwidth": 1
          },
          "autotypenumbers": "strict",
          "coloraxis": {
           "colorbar": {
            "outlinewidth": 0,
            "ticks": ""
           }
          },
          "colorscale": {
           "diverging": [
            [
             0,
             "#8e0152"
            ],
            [
             0.1,
             "#c51b7d"
            ],
            [
             0.2,
             "#de77ae"
            ],
            [
             0.3,
             "#f1b6da"
            ],
            [
             0.4,
             "#fde0ef"
            ],
            [
             0.5,
             "#f7f7f7"
            ],
            [
             0.6,
             "#e6f5d0"
            ],
            [
             0.7,
             "#b8e186"
            ],
            [
             0.8,
             "#7fbc41"
            ],
            [
             0.9,
             "#4d9221"
            ],
            [
             1,
             "#276419"
            ]
           ],
           "sequential": [
            [
             0,
             "#0d0887"
            ],
            [
             0.1111111111111111,
             "#46039f"
            ],
            [
             0.2222222222222222,
             "#7201a8"
            ],
            [
             0.3333333333333333,
             "#9c179e"
            ],
            [
             0.4444444444444444,
             "#bd3786"
            ],
            [
             0.5555555555555556,
             "#d8576b"
            ],
            [
             0.6666666666666666,
             "#ed7953"
            ],
            [
             0.7777777777777778,
             "#fb9f3a"
            ],
            [
             0.8888888888888888,
             "#fdca26"
            ],
            [
             1,
             "#f0f921"
            ]
           ],
           "sequentialminus": [
            [
             0,
             "#0d0887"
            ],
            [
             0.1111111111111111,
             "#46039f"
            ],
            [
             0.2222222222222222,
             "#7201a8"
            ],
            [
             0.3333333333333333,
             "#9c179e"
            ],
            [
             0.4444444444444444,
             "#bd3786"
            ],
            [
             0.5555555555555556,
             "#d8576b"
            ],
            [
             0.6666666666666666,
             "#ed7953"
            ],
            [
             0.7777777777777778,
             "#fb9f3a"
            ],
            [
             0.8888888888888888,
             "#fdca26"
            ],
            [
             1,
             "#f0f921"
            ]
           ]
          },
          "colorway": [
           "#636efa",
           "#EF553B",
           "#00cc96",
           "#ab63fa",
           "#FFA15A",
           "#19d3f3",
           "#FF6692",
           "#B6E880",
           "#FF97FF",
           "#FECB52"
          ],
          "font": {
           "color": "#2a3f5f"
          },
          "geo": {
           "bgcolor": "white",
           "lakecolor": "white",
           "landcolor": "#E5ECF6",
           "showlakes": true,
           "showland": true,
           "subunitcolor": "white"
          },
          "hoverlabel": {
           "align": "left"
          },
          "hovermode": "closest",
          "mapbox": {
           "style": "light"
          },
          "paper_bgcolor": "white",
          "plot_bgcolor": "#E5ECF6",
          "polar": {
           "angularaxis": {
            "gridcolor": "white",
            "linecolor": "white",
            "ticks": ""
           },
           "bgcolor": "#E5ECF6",
           "radialaxis": {
            "gridcolor": "white",
            "linecolor": "white",
            "ticks": ""
           }
          },
          "scene": {
           "xaxis": {
            "backgroundcolor": "#E5ECF6",
            "gridcolor": "white",
            "gridwidth": 2,
            "linecolor": "white",
            "showbackground": true,
            "ticks": "",
            "zerolinecolor": "white"
           },
           "yaxis": {
            "backgroundcolor": "#E5ECF6",
            "gridcolor": "white",
            "gridwidth": 2,
            "linecolor": "white",
            "showbackground": true,
            "ticks": "",
            "zerolinecolor": "white"
           },
           "zaxis": {
            "backgroundcolor": "#E5ECF6",
            "gridcolor": "white",
            "gridwidth": 2,
            "linecolor": "white",
            "showbackground": true,
            "ticks": "",
            "zerolinecolor": "white"
           }
          },
          "shapedefaults": {
           "line": {
            "color": "#2a3f5f"
           }
          },
          "ternary": {
           "aaxis": {
            "gridcolor": "white",
            "linecolor": "white",
            "ticks": ""
           },
           "baxis": {
            "gridcolor": "white",
            "linecolor": "white",
            "ticks": ""
           },
           "bgcolor": "#E5ECF6",
           "caxis": {
            "gridcolor": "white",
            "linecolor": "white",
            "ticks": ""
           }
          },
          "title": {
           "x": 0.05
          },
          "xaxis": {
           "automargin": true,
           "gridcolor": "white",
           "linecolor": "white",
           "ticks": "",
           "title": {
            "standoff": 15
           },
           "zerolinecolor": "white",
           "zerolinewidth": 2
          },
          "yaxis": {
           "automargin": true,
           "gridcolor": "white",
           "linecolor": "white",
           "ticks": "",
           "title": {
            "standoff": 15
           },
           "zerolinecolor": "white",
           "zerolinewidth": 2
          }
         }
        },
        "title": {
         "text": "Feature Importance from Random Forest Model"
        },
        "xaxis": {
         "anchor": "y",
         "domain": [
          0,
          1
         ],
         "title": {
          "text": "Feature"
         }
        },
        "yaxis": {
         "anchor": "x",
         "domain": [
          0,
          1
         ],
         "title": {
          "text": "Importance"
         }
        }
       }
      }
     },
     "metadata": {},
     "output_type": "display_data"
    },
    {
     "data": {
      "application/vnd.plotly.v1+json": {
       "config": {
        "plotlyServerURL": "https://plot.ly"
       },
       "data": [
        {
         "bingroup": "x",
         "hovertemplate": "Price=%{x}<br>count=%{y}<extra></extra>",
         "legendgroup": "",
         "marker": {
          "color": "#636efa",
          "pattern": {
           "shape": ""
          }
         },
         "name": "",
         "nbinsx": 50,
         "orientation": "v",
         "showlegend": false,
         "type": "histogram",
         "x": {
          "bdata": "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",
          "dtype": "i4"
         },
         "xaxis": "x",
         "yaxis": "y"
        }
       ],
       "layout": {
        "barmode": "relative",
        "legend": {
         "tracegroupgap": 0
        },
        "template": {
         "data": {
          "bar": [
           {
            "error_x": {
             "color": "#2a3f5f"
            },
            "error_y": {
             "color": "#2a3f5f"
            },
            "marker": {
             "line": {
              "color": "#E5ECF6",
              "width": 0.5
             },
             "pattern": {
              "fillmode": "overlay",
              "size": 10,
              "solidity": 0.2
             }
            },
            "type": "bar"
           }
          ],
          "barpolar": [
           {
            "marker": {
             "line": {
              "color": "#E5ECF6",
              "width": 0.5
             },
             "pattern": {
              "fillmode": "overlay",
              "size": 10,
              "solidity": 0.2
             }
            },
            "type": "barpolar"
           }
          ],
          "carpet": [
           {
            "aaxis": {
             "endlinecolor": "#2a3f5f",
             "gridcolor": "white",
             "linecolor": "white",
             "minorgridcolor": "white",
             "startlinecolor": "#2a3f5f"
            },
            "baxis": {
             "endlinecolor": "#2a3f5f",
             "gridcolor": "white",
             "linecolor": "white",
             "minorgridcolor": "white",
             "startlinecolor": "#2a3f5f"
            },
            "type": "carpet"
           }
          ],
          "choropleth": [
           {
            "colorbar": {
             "outlinewidth": 0,
             "ticks": ""
            },
            "type": "choropleth"
           }
          ],
          "contour": [
           {
            "colorbar": {
             "outlinewidth": 0,
             "ticks": ""
            },
            "colorscale": [
             [
              0,
              "#0d0887"
             ],
             [
              0.1111111111111111,
              "#46039f"
             ],
             [
              0.2222222222222222,
              "#7201a8"
             ],
             [
              0.3333333333333333,
              "#9c179e"
             ],
             [
              0.4444444444444444,
              "#bd3786"
             ],
             [
              0.5555555555555556,
              "#d8576b"
             ],
             [
              0.6666666666666666,
              "#ed7953"
             ],
             [
              0.7777777777777778,
              "#fb9f3a"
             ],
             [
              0.8888888888888888,
              "#fdca26"
             ],
             [
              1,
              "#f0f921"
             ]
            ],
            "type": "contour"
           }
          ],
          "contourcarpet": [
           {
            "colorbar": {
             "outlinewidth": 0,
             "ticks": ""
            },
            "type": "contourcarpet"
           }
          ],
          "heatmap": [
           {
            "colorbar": {
             "outlinewidth": 0,
             "ticks": ""
            },
            "colorscale": [
             [
              0,
              "#0d0887"
             ],
             [
              0.1111111111111111,
              "#46039f"
             ],
             [
              0.2222222222222222,
              "#7201a8"
             ],
             [
              0.3333333333333333,
              "#9c179e"
             ],
             [
              0.4444444444444444,
              "#bd3786"
             ],
             [
              0.5555555555555556,
              "#d8576b"
             ],
             [
              0.6666666666666666,
              "#ed7953"
             ],
             [
              0.7777777777777778,
              "#fb9f3a"
             ],
             [
              0.8888888888888888,
              "#fdca26"
             ],
             [
              1,
              "#f0f921"
             ]
            ],
            "type": "heatmap"
           }
          ],
          "histogram": [
           {
            "marker": {
             "pattern": {
              "fillmode": "overlay",
              "size": 10,
              "solidity": 0.2
             }
            },
            "type": "histogram"
           }
          ],
          "histogram2d": [
           {
            "colorbar": {
             "outlinewidth": 0,
             "ticks": ""
            },
            "colorscale": [
             [
              0,
              "#0d0887"
             ],
             [
              0.1111111111111111,
              "#46039f"
             ],
             [
              0.2222222222222222,
              "#7201a8"
             ],
             [
              0.3333333333333333,
              "#9c179e"
             ],
             [
              0.4444444444444444,
              "#bd3786"
             ],
             [
              0.5555555555555556,
              "#d8576b"
             ],
             [
              0.6666666666666666,
              "#ed7953"
             ],
             [
              0.7777777777777778,
              "#fb9f3a"
             ],
             [
              0.8888888888888888,
              "#fdca26"
             ],
             [
              1,
              "#f0f921"
             ]
            ],
            "type": "histogram2d"
           }
          ],
          "histogram2dcontour": [
           {
            "colorbar": {
             "outlinewidth": 0,
             "ticks": ""
            },
            "colorscale": [
             [
              0,
              "#0d0887"
             ],
             [
              0.1111111111111111,
              "#46039f"
             ],
             [
              0.2222222222222222,
              "#7201a8"
             ],
             [
              0.3333333333333333,
              "#9c179e"
             ],
             [
              0.4444444444444444,
              "#bd3786"
             ],
             [
              0.5555555555555556,
              "#d8576b"
             ],
             [
              0.6666666666666666,
              "#ed7953"
             ],
             [
              0.7777777777777778,
              "#fb9f3a"
             ],
             [
              0.8888888888888888,
              "#fdca26"
             ],
             [
              1,
              "#f0f921"
             ]
            ],
            "type": "histogram2dcontour"
           }
          ],
          "mesh3d": [
           {
            "colorbar": {
             "outlinewidth": 0,
             "ticks": ""
            },
            "type": "mesh3d"
           }
          ],
          "parcoords": [
           {
            "line": {
             "colorbar": {
              "outlinewidth": 0,
              "ticks": ""
             }
            },
            "type": "parcoords"
           }
          ],
          "pie": [
           {
            "automargin": true,
            "type": "pie"
           }
          ],
          "scatter": [
           {
            "fillpattern": {
             "fillmode": "overlay",
             "size": 10,
             "solidity": 0.2
            },
            "type": "scatter"
           }
          ],
          "scatter3d": [
           {
            "line": {
             "colorbar": {
              "outlinewidth": 0,
              "ticks": ""
             }
            },
            "marker": {
             "colorbar": {
              "outlinewidth": 0,
              "ticks": ""
             }
            },
            "type": "scatter3d"
           }
          ],
          "scattercarpet": [
           {
            "marker": {
             "colorbar": {
              "outlinewidth": 0,
              "ticks": ""
             }
            },
            "type": "scattercarpet"
           }
          ],
          "scattergeo": [
           {
            "marker": {
             "colorbar": {
              "outlinewidth": 0,
              "ticks": ""
             }
            },
            "type": "scattergeo"
           }
          ],
          "scattergl": [
           {
            "marker": {
             "colorbar": {
              "outlinewidth": 0,
              "ticks": ""
             }
            },
            "type": "scattergl"
           }
          ],
          "scattermap": [
           {
            "marker": {
             "colorbar": {
              "outlinewidth": 0,
              "ticks": ""
             }
            },
            "type": "scattermap"
           }
          ],
          "scattermapbox": [
           {
            "marker": {
             "colorbar": {
              "outlinewidth": 0,
              "ticks": ""
             }
            },
            "type": "scattermapbox"
           }
          ],
          "scatterpolar": [
           {
            "marker": {
             "colorbar": {
              "outlinewidth": 0,
              "ticks": ""
             }
            },
            "type": "scatterpolar"
           }
          ],
          "scatterpolargl": [
           {
            "marker": {
             "colorbar": {
              "outlinewidth": 0,
              "ticks": ""
             }
            },
            "type": "scatterpolargl"
           }
          ],
          "scatterternary": [
           {
            "marker": {
             "colorbar": {
              "outlinewidth": 0,
              "ticks": ""
             }
            },
            "type": "scatterternary"
           }
          ],
          "surface": [
           {
            "colorbar": {
             "outlinewidth": 0,
             "ticks": ""
            },
            "colorscale": [
             [
              0,
              "#0d0887"
             ],
             [
              0.1111111111111111,
              "#46039f"
             ],
             [
              0.2222222222222222,
              "#7201a8"
             ],
             [
              0.3333333333333333,
              "#9c179e"
             ],
             [
              0.4444444444444444,
              "#bd3786"
             ],
             [
              0.5555555555555556,
              "#d8576b"
             ],
             [
              0.6666666666666666,
              "#ed7953"
             ],
             [
              0.7777777777777778,
              "#fb9f3a"
             ],
             [
              0.8888888888888888,
              "#fdca26"
             ],
             [
              1,
              "#f0f921"
             ]
            ],
            "type": "surface"
           }
          ],
          "table": [
           {
            "cells": {
             "fill": {
              "color": "#EBF0F8"
             },
             "line": {
              "color": "white"
             }
            },
            "header": {
             "fill": {
              "color": "#C8D4E3"
             },
             "line": {
              "color": "white"
             }
            },
            "type": "table"
           }
          ]
         },
         "layout": {
          "annotationdefaults": {
           "arrowcolor": "#2a3f5f",
           "arrowhead": 0,
           "arrowwidth": 1
          },
          "autotypenumbers": "strict",
          "coloraxis": {
           "colorbar": {
            "outlinewidth": 0,
            "ticks": ""
           }
          },
          "colorscale": {
           "diverging": [
            [
             0,
             "#8e0152"
            ],
            [
             0.1,
             "#c51b7d"
            ],
            [
             0.2,
             "#de77ae"
            ],
            [
             0.3,
             "#f1b6da"
            ],
            [
             0.4,
             "#fde0ef"
            ],
            [
             0.5,
             "#f7f7f7"
            ],
            [
             0.6,
             "#e6f5d0"
            ],
            [
             0.7,
             "#b8e186"
            ],
            [
             0.8,
             "#7fbc41"
            ],
            [
             0.9,
             "#4d9221"
            ],
            [
             1,
             "#276419"
            ]
           ],
           "sequential": [
            [
             0,
             "#0d0887"
            ],
            [
             0.1111111111111111,
             "#46039f"
            ],
            [
             0.2222222222222222,
             "#7201a8"
            ],
            [
             0.3333333333333333,
             "#9c179e"
            ],
            [
             0.4444444444444444,
             "#bd3786"
            ],
            [
             0.5555555555555556,
             "#d8576b"
            ],
            [
             0.6666666666666666,
             "#ed7953"
            ],
            [
             0.7777777777777778,
             "#fb9f3a"
            ],
            [
             0.8888888888888888,
             "#fdca26"
            ],
            [
             1,
             "#f0f921"
            ]
           ],
           "sequentialminus": [
            [
             0,
             "#0d0887"
            ],
            [
             0.1111111111111111,
             "#46039f"
            ],
            [
             0.2222222222222222,
             "#7201a8"
            ],
            [
             0.3333333333333333,
             "#9c179e"
            ],
            [
             0.4444444444444444,
             "#bd3786"
            ],
            [
             0.5555555555555556,
             "#d8576b"
            ],
            [
             0.6666666666666666,
             "#ed7953"
            ],
            [
             0.7777777777777778,
             "#fb9f3a"
            ],
            [
             0.8888888888888888,
             "#fdca26"
            ],
            [
             1,
             "#f0f921"
            ]
           ]
          },
          "colorway": [
           "#636efa",
           "#EF553B",
           "#00cc96",
           "#ab63fa",
           "#FFA15A",
           "#19d3f3",
           "#FF6692",
           "#B6E880",
           "#FF97FF",
           "#FECB52"
          ],
          "font": {
           "color": "#2a3f5f"
          },
          "geo": {
           "bgcolor": "white",
           "lakecolor": "white",
           "landcolor": "#E5ECF6",
           "showlakes": true,
           "showland": true,
           "subunitcolor": "white"
          },
          "hoverlabel": {
           "align": "left"
          },
          "hovermode": "closest",
          "mapbox": {
           "style": "light"
          },
          "paper_bgcolor": "white",
          "plot_bgcolor": "#E5ECF6",
          "polar": {
           "angularaxis": {
            "gridcolor": "white",
            "linecolor": "white",
            "ticks": ""
           },
           "bgcolor": "#E5ECF6",
           "radialaxis": {
            "gridcolor": "white",
            "linecolor": "white",
            "ticks": ""
           }
          },
          "scene": {
           "xaxis": {
            "backgroundcolor": "#E5ECF6",
            "gridcolor": "white",
            "gridwidth": 2,
            "linecolor": "white",
            "showbackground": true,
            "ticks": "",
            "zerolinecolor": "white"
           },
           "yaxis": {
            "backgroundcolor": "#E5ECF6",
            "gridcolor": "white",
            "gridwidth": 2,
            "linecolor": "white",
            "showbackground": true,
            "ticks": "",
            "zerolinecolor": "white"
           },
           "zaxis": {
            "backgroundcolor": "#E5ECF6",
            "gridcolor": "white",
            "gridwidth": 2,
            "linecolor": "white",
            "showbackground": true,
            "ticks": "",
            "zerolinecolor": "white"
           }
          },
          "shapedefaults": {
           "line": {
            "color": "#2a3f5f"
           }
          },
          "ternary": {
           "aaxis": {
            "gridcolor": "white",
            "linecolor": "white",
            "ticks": ""
           },
           "baxis": {
            "gridcolor": "white",
            "linecolor": "white",
            "ticks": ""
           },
           "bgcolor": "#E5ECF6",
           "caxis": {
            "gridcolor": "white",
            "linecolor": "white",
            "ticks": ""
           }
          },
          "title": {
           "x": 0.05
          },
          "xaxis": {
           "automargin": true,
           "gridcolor": "white",
           "linecolor": "white",
           "ticks": "",
           "title": {
            "standoff": 15
           },
           "zerolinecolor": "white",
           "zerolinewidth": 2
          },
          "yaxis": {
           "automargin": true,
           "gridcolor": "white",
           "linecolor": "white",
           "ticks": "",
           "title": {
            "standoff": 15
           },
           "zerolinecolor": "white",
           "zerolinewidth": 2
          }
         }
        },
        "title": {
         "text": "Distribution of Prices"
        },
        "xaxis": {
         "anchor": "y",
         "domain": [
          0,
          1
         ],
         "title": {
          "text": "Price"
         }
        },
        "yaxis": {
         "anchor": "x",
         "domain": [
          0,
          1
         ],
         "title": {
          "text": "count"
         }
        }
       }
      }
     },
     "metadata": {},
     "output_type": "display_data"
    },
    {
     "data": {
      "application/vnd.plotly.v1+json": {
       "config": {
        "plotlyServerURL": "https://plot.ly"
       },
       "data": [
        {
         "hovertemplate": "Area (sq ft)=%{x}<br>Price (in INR)=%{y}<br>Location=%{marker.color}<extra></extra>",
         "legendgroup": "",
         "marker": {
          "color": {
           "bdata": "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",
           "dtype": "i2"
          },
          "coloraxis": "coloraxis",
          "symbol": "circle"
         },
         "mode": "markers",
         "name": "",
         "showlegend": false,
         "type": "scattergl",
         "x": {
          "bdata": "PAWqDSYFDwV5BM4ERgV4BcAI8AX/BX4EBQVpB70GgQY4Bn4EwAgaBDwFqg0mBQ8FeQTOBEYFeAXACPAF/wV+BAUFaQe9BoEGOAZ+BMAIGgTHBvAKGgTOBJcEpgSMC6gCRgWyB1EE1QdRBH4FCQbXBRQFsASqBaoFeAc6BxQFigbaBFIDZwdkBjQEOAQ0CPEEFAVBBHgFUgNMBKQGZgirBFEEtQTiBDwFtgNMBHQHiwaMBf8FjgMtBbUGYAl+BOgDsAQQBJ0ENAgOBgAFmQesDegDsASpCtwFdQgaBH4EHgf2BBQFQAYaBwIFJgcXB3gFxARyBpAGEwaVBvAFyQQDB5sFlgXxBCAILAhaBbgIDwh4BUkH3ghoB9cLpgZGBfUFyQTABr0GFAVABrAEaAYmBysHIgYiBsAIwAhnB0AGdAR+BPoFzgQUBRoEgQbiBOIEbAdsBxcH4gT6BfoF/wU0DTQNUwdTB+wJ7AlGCkYKlBE0DYwKAAeJBoEGaAZoBoEGmAiSBJIEQAZsBmwGlwZyBhIGlAZyBsoDygPACBoEwAjACKYETARABqYETAR+BIcFvAdMBKYETARABqYETAR+BLAETASmBKYEpgRMBKYEpgSmBHEHhQfKBUwECAcIB1EEUQRRBLwHfgSHBcIGTARMBEwETARMBEwETARMBEwETARRBEwEUQRRBFEEUQRRBI0ETAT/BVYEUQTACP4EfgWmBL8EUQR+BFEEUQTqBroE8gNUBhMGpgTCBo0EhgZGBawSLAeyB7IH0AfQB9AH0AfQB9AHugT/BSMFqAKwBLAEsASwBLAEsASwBLAEsASwBMcGxAl3D2EHlBHECcQEgAeMChQFNAiAB4UHXQfyA58GQgQcDJgI8QW6CYsGiwbsBFEEiwaLBosGiwawBLAEsASwBLAEhAOuBtoEqQYaBMkEEwaLBp8GmQfoA34EMgXKCMAIlBGUEZQRIAMgAyADIAN+BDAHGAYUBYAMhguGC6MG5gSuBuMPKAVFBkgIRAdEBxoEDgYSDD4aqwTOBIwLjAs0BEoDsASUEZQREA4QDqwNrA1+BH4EfgTdBEAG3giwBIoFgAeFB3EHUgOUB34EwgbCBhoEGgR0B0IEcQeLBk8GiAQIB7AEjANMBGQFygOIBEgDTASjA4YG0AfQBxIGcgYSBmwHbAdsB2wHzAZJDMMDjQNSA7YDwgYTBpwEiwZNA0wEcQe0BbQFlwRQBcQEXQeNBA8FDwUPBQ8FDwUPBYYGhgawBLAEhgacCRAEUwQaBBoEVAt+BBAEUwRSAxoEGgQ4BDgETARMBNEGygNCBJsFrAIQBFIDfgRFBlIDfgRFBugDQgSbBWMGMQbCBoEGygVpBegDCwTiBOIE6APsBLYDUgPsBBoE4gR0BxMGuAYvBVYErQOwBLAEbgUcArUGtQaEA2YIKgPBBxMGKgPBBxMGGgT2Az0ETAQaBBoERAdEB7gLuAu7A4MEYARSA+gD6APoA+gD6APGA+gD6AMaBCcGpAakBv8FrAMkBPcD9wNABn4E3AXoA7gE6AN+BNwFpAaSBEIEQgQaBJEFJARqBKIDPQSMBWAE4gXiBXIGcgawBHkEUwfsCUYKeQSSCZEFuAZlCb0GwgbmD9AHDwXSBXEHcQf1BWAEOAS2A4wK2wbbBsAEugT1BTwFwAS9BhYI0QuGBn4EfgRABuIK9QUTBiMFAgiLBr0G6gaADGwHWAcCCBAOaQrABNcLrAh4DccLlgXXB58GFwdeBlQGsARyBg4G/wWNBHgFKApMBPIDqwTKAxoEagT8CPcDkAumBKYEPAVTB2wHgAcyBS4JYASEBycGLgm4C0YFLAawBBoEQgTCBv8FpAYaBBQF6gYaBBQF6gaWBQgH+gXoA3EHXQddB10HGAamBKoFqgUaBFMHEwaEA4oFigVlBOsFQAbsBCAL1AUDBYIF0Ae3BcIGQAYoCkgDvQa8ByUIFAqJCIAHoghXBIkE3AXcBeUHFAXoAyQEuCS2A0YFQAboA6oFGgR+BGwHuQXMBI0EUgQjBYAM4gQaBGwHSATlBuUH7QPWBkwETASwBIgEJATiBY0EvwWADEYFOgdABuIEGgRsB34EpAblBhoEGgTWBn4E3gN+BGAJsAQkBIgEjQT+BOUH5QblB+0DbAxsDOgD2wMzBFgCeAUUBRQF0gX7BEgETAToAxoETARMBKoFYAW0B5wEEgZcBvoE+Ab8BngFrgfeBasGagbPBWEGCAdVB/QFLgW5BT0G8QSZB5sFhQfxBHEHQgTOBIAHcQeSBGkFbgUCBfwDjwdCBF4GnwYCBW4FaQVpBTgEFQRMBEIEpAbCBqQGGgRgCb4EOARCBDAHVAZlBFgFQwifBmUEkgSwBIYDnwawBEwECwQBBNIFagTIBRoE5gWFB/UF8wWwBKEMVAbcBXIGdAdqBMgFGgQMBr0G3AWWBRoEDgUaBEwEOARMBAEECwQ9BMgFTASAB6YEOAS5BaYEGgQCBo4GjgY4BDgEnwakBtwFcgaAB6YEagTIBdAHGgSSBAwGvQbcBZYFFQQLBAEEOAQ4BAsEPQTIBUwEFQQLBAEE9QU4BMIGUQXxBBMGsASRBuIEGgSkBhMGkgRUBl8C3gPoAx0GXgZMBEwEAQQ4BEwETAQBBKoC3QTcBYQDKAX6BaYEnwawBDgEOAQ4BEwECwQBBNIFAwZpBmgGegV5BYUHGgQTBvADOAQ4BM4EGgSFB/UF8wWwBKEMRgWkBK8EAgbCBjgEOAQVBAsEAQT1BTgEWwRCBKEMOAQgBiAGIAYCBwIHRgX1BfoFoQdqDSwGFwePB3EHnwZCBBMG8QTSBVsEEwZuBQcHBwcHB2YGZgZmBgIHzgSwBLAE0AeSBKoC3QT6BSAGbgUCBQIFAgVuBQIFAgUCBb4EbgVwBXAFbgUCBfwDiQPCBoUHhQeFB/EEuQUaBJYFlgWWBZYFaQX1BQcHBwcHB2YGZgZmBgIHIAYgBiAGAgdMBMIMsAQTBlQGZQRMBBoEOARCBGQF5gV0BksMEgzkCwMIqg0dDOkLygZLBTYFQgUvBXQGwQUvCvAKkAj/CpQJjwj9CgoFFAVYBQ4GDgYBCKYNOAU6B9wFVAawBIwKEA76BfEE7ASfBkQH8AV3BoEG2wblBpQH7ASfBkQHIQXoBH4E1wXcBZUGZwf0BvkG8QT2BOcF9gSBBvEElgVKBigFmwXmBfYE5wX2BIEGAAX+BM4E3wUxBqUEuQT/BB8FfQXXBaEHWwbyBrIHbAezBzYHDAcOBhcGXQbYBhAHwgdFBrMGIgfLB8wHdwb8A4gEUBTKCIgExgcxBo0EJgImAuwEUQRRBCAI0wTUCN8H3wekBvEEKhLOBvwIVgRWBBoEGgThBeoHaAZyBlgHwATqBzEG3wfECdMKZwfcBSMKyggMCFgHVAZUBsoIDAhuBecE7QjJB+oIaAVYB1IHjQTQBxwHQBD8A5YFUAVlBJYF5AsdDEsMEgxzBBgGWAeXBgID6QSxCHoIkQXpB4IFcAhxB2kKYAlzBZkHmQeZB5AGkAb2BPYE9gTIBbgLyQTqB/UF8QRoBlAFGAbqB2UE6wXrBbYD6wXrBRwH6wXqB1YFegShBVAFEgzoA+oH6gdYB+oHHAdlBJ4HnwefB6EFpAakBqQGpAb/BCIGvwQaBOwE6wUUBaQGEgz6BPoEeAVVBggHsAR4BbAEgwSXBGgEfgTqB1gHWAdGBYMEgwQSDBIMEgxyBnIGcgZyBnIGcgZyBtME6wVyBnIGcgZyBnIGcgZyBqQGwAODBHIGcgZyBpcEcgaXBFoFwARWBcAEgwTqByIGngeSBOsFvwW+Bb4FowfoA+sF6wX6BDELQgTqB+sFtgPrBesFWAesCEAGsQR+BIMEGgQTBuoHWAeDBEwJegXrBWAE/wT6BIMEcgbrBXIGlwYgA+sF6wXrBaEFTARmCOsF6wXrBesFgwRYAnIGWAdQBcAEAgaAB6YEbQtyBmYInwaMCuIETATrA3gFeAWIE1IDCAfTBOsF7gKDBIQD5AwCBqsETARyBnIGvgSXBIMElwSXBJcEBARGBRoEFAXcBXgFagTcBbgLcgaqDUwEsASXBFQGTAS1BJwENwahBRoEgQbiBJcE6ASwBOAQxwZ+BNwFlwTjBYQFcAjcBRoEJgLEBPIDQgQTBl0HwgaDBHIGiBNYAkAG8AplCegDeAUyBegDFg1eBnIGFg3iBB8EpgQmAjQEpQMCBNYDAAeqDYME0wrIBcoIvAKDBIMElwSzBkwETAmWBfADyQSXBCwGkgQfBMAEvxL0BusFOBA0CIMEPQawBOgDMQbRC3YIVAY0ClQGVAaSBJAGeAV4BTEGVAZUBlQGVAbQBL4FEwaXBL4FUAV4BUIEkgShBccGngz3BO4CzAaDBIMElwSXBIMExAQoBTQNygUrEUQH3AWSBDELOBD2BMcGxwbABNsGgQZUBmoETASIBNIFFAUABegD6wWSBDIQMhAyEDIQOwu4CpAIJgIjClMHtAWQBoMElwRyBusF3AUaBEAG5wVdCIYGgwSDBJcEiwf2BqEFoQXrBY0EzAZQBVYEiwa9BucE6wXrBeEFcgZCBJ8GIwVdB5wEEwbABqUETAT2BvYGxwaQCDME8QT2BowK3RL/BMAEoQWwBH4EwwVMBL4F9AacCewJagTXBXMF+wRTB0YKRgpcEswQpAZGCs4E6AN+BKsEGgRiBKEFrgZABuQHdgyXBJcEgwSDBIMElwTEBIMEgwSDBIMElwSDBI0E7wZ+BuoGpQ0aBOsF/wqPCP0K/wX/Bf8FRgpGCkYKRgpGCkYKRgpGCkYKRgpGCkYKMhAyEDIQMhAaBMASLwr/BaEEwgaiDSoH6QfoAywGNwqPCKYEMBH2BDQITAQ0IYQDeA1JBzUG6QePCN4ITwbRBsADpgQ3Cv8K8AooCpQJ/wpEBhoEVAbsCXAIXgYaBH4E2QgLBNwFmAZMBFMHGgQIB0EKeA1RCQgHLwqoDDELZQQCCOQMFAXYBIEG8QRUCugDDgaUEWgGeg1+BH4E6gaoB9QDqwSwBDYGrAg4BmQFFxFoBtgEFAXYBIgEnwZCBPsERgXiBMQJugyNBOIEFAW2A0wE7wNoBm0LrgZoCtAHfgR+BHkEbAcsBpAIIwrAA4EGtgPHBlAFuATMBrAE2ATYBLAEQAb2BDgE/AN5BCcGpAbCBkIE/Ah7BDwPtQ7lB9AHZQSsCLYIKgfmDyoHXBIiBRsNMhB4DbAEFAVABrAd6wXrBesF6wXrBesF6wXrBesF6wXrBesF6wXrBesF6wXrBesF6QXrBRUGFAXpB+wEKgcsBkQH7QOwBCEESgiOA18F6QPQB08GDQzKCHsMxwZ6DdwFlwSDBI4D7QN+BOoD9QPtA+8D9APyA/IDeAWBBuoDGgRGBZgI0AdABpsG3AWXBEAGfgTOBEIEpgSAB3EHDwU0DR8OKAo0CNELKAoGDgYOIw/CEOUGlAeNCSYHZQQUBY4DDgZyBnIGwwXDBdwFDgZ4BUYFwwVyBl8FwwXoA54HGgT/BQ4G5gWYA84GtQ6+CogEkglcEkwE4gTiBLAE7gOwBOIE4gS1BLYEuASyBLMEUARABtoEugReBt4DqgXoA7YDGgR4BRoEsAQ2ENwF+gXiBBAF5gM6B1sERgr0AT0ELQWwBLEE7ARPBFIE6ANQBcwGmAOwBKAF8gM4BJ4HKgeYCG0EcgYoCkwE6gP0AegDMwRMBGAEsASwBGAEDwXSBfYETARuBKYEGgTGAm4FugdQBdAH0Q1MBLoEjwc4BLAEcQciBiIGCAekBkAGdwYIBxQFtwRmDXAIZg1mDV8KXQNQDHIGDgYGBN4NpwuxCEAQbAdRBH4EWQb4EUgINwjgBn4EfgSkBrgIzAY4BlAFuASwBHAIKgdyBpwEsATEBJwEsAR0BHQEhw9fCogEIga9Br0GvQa9BiIGVArFAzoH6AMeBWYIfgR+BH4EfgR+BJkHUAV+BH4EfgR+BH4EfgR+BH4EfgR+BH4EfgR+BH4EfgT1BLAETAR+BH4EfgR+BH4EfgR+BH4EfgSwBEwEQAbmBVUFmwa9BuYPZg1MBKoFag0iBZIN+BHiBDQIfgTmD58GnAnQB28OrAgeBzsG/wWBBv4EKArECf8FnAneCEAG6AOcBEwEbAybBpsGmwZAFSIL5A0UBRoEBgpMBLwHnAWgD+gDGgRUCv0K/woUBeAQqgUzBVoKIgZwCCwGcAjKAyADTgV5BNAHGwhABs4EJAT9DB4HQwhwA50DEgboA3IGwwWqBXoSbQZFBr0G9QX1BSsPQBXXC0QHUwfYBwoFcAjoA34EkgTREPAK3AVUBlgFQgTOBJsFWwSZB1AGTAQUBYIKKgdDBNwF3AUqB4AHkQXEBE8GBAZ4BbAEkQUsBjQHSAjoA8UDxAlMBGsDSgaMBZwJsgxMBEwExwbmBSgFfwi8BxgG0AfVBzwFWAeHBYQIjghABtQI3wfiBOkDDwa4C90ETAS9BpsFQgTOBLAEfgRABuIEcQeFB/wIFQR2DAgHgQbQB+0D7wPpA+oDdwZyBs4G2gdMCRUEXgZdB40E4BBsBxAOpAYkBEwEqgWgD7QFRQToAzgErAjiBJkH/wqZB6wIsQhYB3oEnAlABt0ETQ1EBxkKrQTNBeIEDgbiBF8HeAUaBEQHsARMBBoEGgToAwgHwQNyBg4G7AS2AyQE6AO0BSIFQQoCCA0H",
          "dtype": "i2"
         },
         "xaxis": "x",
         "y": {
          "bdata": "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",
          "dtype": "i4"
         },
         "yaxis": "y"
        }
       ],
       "layout": {
        "coloraxis": {
         "colorbar": {
          "title": {
           "text": "Location"
          }
         },
         "colorscale": [
          [
           0,
           "#0d0887"
          ],
          [
           0.1111111111111111,
           "#46039f"
          ],
          [
           0.2222222222222222,
           "#7201a8"
          ],
          [
           0.3333333333333333,
           "#9c179e"
          ],
          [
           0.4444444444444444,
           "#bd3786"
          ],
          [
           0.5555555555555556,
           "#d8576b"
          ],
          [
           0.6666666666666666,
           "#ed7953"
          ],
          [
           0.7777777777777778,
           "#fb9f3a"
          ],
          [
           0.8888888888888888,
           "#fdca26"
          ],
          [
           1,
           "#f0f921"
          ]
         ]
        },
        "legend": {
         "tracegroupgap": 0
        },
        "template": {
         "data": {
          "bar": [
           {
            "error_x": {
             "color": "#2a3f5f"
            },
            "error_y": {
             "color": "#2a3f5f"
            },
            "marker": {
             "line": {
              "color": "#E5ECF6",
              "width": 0.5
             },
             "pattern": {
              "fillmode": "overlay",
              "size": 10,
              "solidity": 0.2
             }
            },
            "type": "bar"
           }
          ],
          "barpolar": [
           {
            "marker": {
             "line": {
              "color": "#E5ECF6",
              "width": 0.5
             },
             "pattern": {
              "fillmode": "overlay",
              "size": 10,
              "solidity": 0.2
             }
            },
            "type": "barpolar"
           }
          ],
          "carpet": [
           {
            "aaxis": {
             "endlinecolor": "#2a3f5f",
             "gridcolor": "white",
             "linecolor": "white",
             "minorgridcolor": "white",
             "startlinecolor": "#2a3f5f"
            },
            "baxis": {
             "endlinecolor": "#2a3f5f",
             "gridcolor": "white",
             "linecolor": "white",
             "minorgridcolor": "white",
             "startlinecolor": "#2a3f5f"
            },
            "type": "carpet"
           }
          ],
          "choropleth": [
           {
            "colorbar": {
             "outlinewidth": 0,
             "ticks": ""
            },
            "type": "choropleth"
           }
          ],
          "contour": [
           {
            "colorbar": {
             "outlinewidth": 0,
             "ticks": ""
            },
            "colorscale": [
             [
              0,
              "#0d0887"
             ],
             [
              0.1111111111111111,
              "#46039f"
             ],
             [
              0.2222222222222222,
              "#7201a8"
             ],
             [
              0.3333333333333333,
              "#9c179e"
             ],
             [
              0.4444444444444444,
              "#bd3786"
             ],
             [
              0.5555555555555556,
              "#d8576b"
             ],
             [
              0.6666666666666666,
              "#ed7953"
             ],
             [
              0.7777777777777778,
              "#fb9f3a"
             ],
             [
              0.8888888888888888,
              "#fdca26"
             ],
             [
              1,
              "#f0f921"
             ]
            ],
            "type": "contour"
           }
          ],
          "contourcarpet": [
           {
            "colorbar": {
             "outlinewidth": 0,
             "ticks": ""
            },
            "type": "contourcarpet"
           }
          ],
          "heatmap": [
           {
            "colorbar": {
             "outlinewidth": 0,
             "ticks": ""
            },
            "colorscale": [
             [
              0,
              "#0d0887"
             ],
             [
              0.1111111111111111,
              "#46039f"
             ],
             [
              0.2222222222222222,
              "#7201a8"
             ],
             [
              0.3333333333333333,
              "#9c179e"
             ],
             [
              0.4444444444444444,
              "#bd3786"
             ],
             [
              0.5555555555555556,
              "#d8576b"
             ],
             [
              0.6666666666666666,
              "#ed7953"
             ],
             [
              0.7777777777777778,
              "#fb9f3a"
             ],
             [
              0.8888888888888888,
              "#fdca26"
             ],
             [
              1,
              "#f0f921"
             ]
            ],
            "type": "heatmap"
           }
          ],
          "histogram": [
           {
            "marker": {
             "pattern": {
              "fillmode": "overlay",
              "size": 10,
              "solidity": 0.2
             }
            },
            "type": "histogram"
           }
          ],
          "histogram2d": [
           {
            "colorbar": {
             "outlinewidth": 0,
             "ticks": ""
            },
            "colorscale": [
             [
              0,
              "#0d0887"
             ],
             [
              0.1111111111111111,
              "#46039f"
             ],
             [
              0.2222222222222222,
              "#7201a8"
             ],
             [
              0.3333333333333333,
              "#9c179e"
             ],
             [
              0.4444444444444444,
              "#bd3786"
             ],
             [
              0.5555555555555556,
              "#d8576b"
             ],
             [
              0.6666666666666666,
              "#ed7953"
             ],
             [
              0.7777777777777778,
              "#fb9f3a"
             ],
             [
              0.8888888888888888,
              "#fdca26"
             ],
             [
              1,
              "#f0f921"
             ]
            ],
            "type": "histogram2d"
           }
          ],
          "histogram2dcontour": [
           {
            "colorbar": {
             "outlinewidth": 0,
             "ticks": ""
            },
            "colorscale": [
             [
              0,
              "#0d0887"
             ],
             [
              0.1111111111111111,
              "#46039f"
             ],
             [
              0.2222222222222222,
              "#7201a8"
             ],
             [
              0.3333333333333333,
              "#9c179e"
             ],
             [
              0.4444444444444444,
              "#bd3786"
             ],
             [
              0.5555555555555556,
              "#d8576b"
             ],
             [
              0.6666666666666666,
              "#ed7953"
             ],
             [
              0.7777777777777778,
              "#fb9f3a"
             ],
             [
              0.8888888888888888,
              "#fdca26"
             ],
             [
              1,
              "#f0f921"
             ]
            ],
            "type": "histogram2dcontour"
           }
          ],
          "mesh3d": [
           {
            "colorbar": {
             "outlinewidth": 0,
             "ticks": ""
            },
            "type": "mesh3d"
           }
          ],
          "parcoords": [
           {
            "line": {
             "colorbar": {
              "outlinewidth": 0,
              "ticks": ""
             }
            },
            "type": "parcoords"
           }
          ],
          "pie": [
           {
            "automargin": true,
            "type": "pie"
           }
          ],
          "scatter": [
           {
            "fillpattern": {
             "fillmode": "overlay",
             "size": 10,
             "solidity": 0.2
            },
            "type": "scatter"
           }
          ],
          "scatter3d": [
           {
            "line": {
             "colorbar": {
              "outlinewidth": 0,
              "ticks": ""
             }
            },
            "marker": {
             "colorbar": {
              "outlinewidth": 0,
              "ticks": ""
             }
            },
            "type": "scatter3d"
           }
          ],
          "scattercarpet": [
           {
            "marker": {
             "colorbar": {
              "outlinewidth": 0,
              "ticks": ""
             }
            },
            "type": "scattercarpet"
           }
          ],
          "scattergeo": [
           {
            "marker": {
             "colorbar": {
              "outlinewidth": 0,
              "ticks": ""
             }
            },
            "type": "scattergeo"
           }
          ],
          "scattergl": [
           {
            "marker": {
             "colorbar": {
              "outlinewidth": 0,
              "ticks": ""
             }
            },
            "type": "scattergl"
           }
          ],
          "scattermap": [
           {
            "marker": {
             "colorbar": {
              "outlinewidth": 0,
              "ticks": ""
             }
            },
            "type": "scattermap"
           }
          ],
          "scattermapbox": [
           {
            "marker": {
             "colorbar": {
              "outlinewidth": 0,
              "ticks": ""
             }
            },
            "type": "scattermapbox"
           }
          ],
          "scatterpolar": [
           {
            "marker": {
             "colorbar": {
              "outlinewidth": 0,
              "ticks": ""
             }
            },
            "type": "scatterpolar"
           }
          ],
          "scatterpolargl": [
           {
            "marker": {
             "colorbar": {
              "outlinewidth": 0,
              "ticks": ""
             }
            },
            "type": "scatterpolargl"
           }
          ],
          "scatterternary": [
           {
            "marker": {
             "colorbar": {
              "outlinewidth": 0,
              "ticks": ""
             }
            },
            "type": "scatterternary"
           }
          ],
          "surface": [
           {
            "colorbar": {
             "outlinewidth": 0,
             "ticks": ""
            },
            "colorscale": [
             [
              0,
              "#0d0887"
             ],
             [
              0.1111111111111111,
              "#46039f"
             ],
             [
              0.2222222222222222,
              "#7201a8"
             ],
             [
              0.3333333333333333,
              "#9c179e"
             ],
             [
              0.4444444444444444,
              "#bd3786"
             ],
             [
              0.5555555555555556,
              "#d8576b"
             ],
             [
              0.6666666666666666,
              "#ed7953"
             ],
             [
              0.7777777777777778,
              "#fb9f3a"
             ],
             [
              0.8888888888888888,
              "#fdca26"
             ],
             [
              1,
              "#f0f921"
             ]
            ],
            "type": "surface"
           }
          ],
          "table": [
           {
            "cells": {
             "fill": {
              "color": "#EBF0F8"
             },
             "line": {
              "color": "white"
             }
            },
            "header": {
             "fill": {
              "color": "#C8D4E3"
             },
             "line": {
              "color": "white"
             }
            },
            "type": "table"
           }
          ]
         },
         "layout": {
          "annotationdefaults": {
           "arrowcolor": "#2a3f5f",
           "arrowhead": 0,
           "arrowwidth": 1
          },
          "autotypenumbers": "strict",
          "coloraxis": {
           "colorbar": {
            "outlinewidth": 0,
            "ticks": ""
           }
          },
          "colorscale": {
           "diverging": [
            [
             0,
             "#8e0152"
            ],
            [
             0.1,
             "#c51b7d"
            ],
            [
             0.2,
             "#de77ae"
            ],
            [
             0.3,
             "#f1b6da"
            ],
            [
             0.4,
             "#fde0ef"
            ],
            [
             0.5,
             "#f7f7f7"
            ],
            [
             0.6,
             "#e6f5d0"
            ],
            [
             0.7,
             "#b8e186"
            ],
            [
             0.8,
             "#7fbc41"
            ],
            [
             0.9,
             "#4d9221"
            ],
            [
             1,
             "#276419"
            ]
           ],
           "sequential": [
            [
             0,
             "#0d0887"
            ],
            [
             0.1111111111111111,
             "#46039f"
            ],
            [
             0.2222222222222222,
             "#7201a8"
            ],
            [
             0.3333333333333333,
             "#9c179e"
            ],
            [
             0.4444444444444444,
             "#bd3786"
            ],
            [
             0.5555555555555556,
             "#d8576b"
            ],
            [
             0.6666666666666666,
             "#ed7953"
            ],
            [
             0.7777777777777778,
             "#fb9f3a"
            ],
            [
             0.8888888888888888,
             "#fdca26"
            ],
            [
             1,
             "#f0f921"
            ]
           ],
           "sequentialminus": [
            [
             0,
             "#0d0887"
            ],
            [
             0.1111111111111111,
             "#46039f"
            ],
            [
             0.2222222222222222,
             "#7201a8"
            ],
            [
             0.3333333333333333,
             "#9c179e"
            ],
            [
             0.4444444444444444,
             "#bd3786"
            ],
            [
             0.5555555555555556,
             "#d8576b"
            ],
            [
             0.6666666666666666,
             "#ed7953"
            ],
            [
             0.7777777777777778,
             "#fb9f3a"
            ],
            [
             0.8888888888888888,
             "#fdca26"
            ],
            [
             1,
             "#f0f921"
            ]
           ]
          },
          "colorway": [
           "#636efa",
           "#EF553B",
           "#00cc96",
           "#ab63fa",
           "#FFA15A",
           "#19d3f3",
           "#FF6692",
           "#B6E880",
           "#FF97FF",
           "#FECB52"
          ],
          "font": {
           "color": "#2a3f5f"
          },
          "geo": {
           "bgcolor": "white",
           "lakecolor": "white",
           "landcolor": "#E5ECF6",
           "showlakes": true,
           "showland": true,
           "subunitcolor": "white"
          },
          "hoverlabel": {
           "align": "left"
          },
          "hovermode": "closest",
          "mapbox": {
           "style": "light"
          },
          "paper_bgcolor": "white",
          "plot_bgcolor": "#E5ECF6",
          "polar": {
           "angularaxis": {
            "gridcolor": "white",
            "linecolor": "white",
            "ticks": ""
           },
           "bgcolor": "#E5ECF6",
           "radialaxis": {
            "gridcolor": "white",
            "linecolor": "white",
            "ticks": ""
           }
          },
          "scene": {
           "xaxis": {
            "backgroundcolor": "#E5ECF6",
            "gridcolor": "white",
            "gridwidth": 2,
            "linecolor": "white",
            "showbackground": true,
            "ticks": "",
            "zerolinecolor": "white"
           },
           "yaxis": {
            "backgroundcolor": "#E5ECF6",
            "gridcolor": "white",
            "gridwidth": 2,
            "linecolor": "white",
            "showbackground": true,
            "ticks": "",
            "zerolinecolor": "white"
           },
           "zaxis": {
            "backgroundcolor": "#E5ECF6",
            "gridcolor": "white",
            "gridwidth": 2,
            "linecolor": "white",
            "showbackground": true,
            "ticks": "",
            "zerolinecolor": "white"
           }
          },
          "shapedefaults": {
           "line": {
            "color": "#2a3f5f"
           }
          },
          "ternary": {
           "aaxis": {
            "gridcolor": "white",
            "linecolor": "white",
            "ticks": ""
           },
           "baxis": {
            "gridcolor": "white",
            "linecolor": "white",
            "ticks": ""
           },
           "bgcolor": "#E5ECF6",
           "caxis": {
            "gridcolor": "white",
            "linecolor": "white",
            "ticks": ""
           }
          },
          "title": {
           "x": 0.05
          },
          "xaxis": {
           "automargin": true,
           "gridcolor": "white",
           "linecolor": "white",
           "ticks": "",
           "title": {
            "standoff": 15
           },
           "zerolinecolor": "white",
           "zerolinewidth": 2
          },
          "yaxis": {
           "automargin": true,
           "gridcolor": "white",
           "linecolor": "white",
           "ticks": "",
           "title": {
            "standoff": 15
           },
           "zerolinecolor": "white",
           "zerolinewidth": 2
          }
         }
        },
        "title": {
         "text": "Area vs Price by Location"
        },
        "xaxis": {
         "anchor": "y",
         "domain": [
          0,
          1
         ],
         "title": {
          "text": "Area (sq ft)"
         }
        },
        "yaxis": {
         "anchor": "x",
         "domain": [
          0,
          1
         ],
         "title": {
          "text": "Price (in INR)"
         }
        }
       }
      }
     },
     "metadata": {},
     "output_type": "display_data"
    },
    {
     "data": {
      "application/vnd.plotly.v1+json": {
       "config": {
        "plotlyServerURL": "https://plot.ly"
       },
       "data": [
        {
         "alignmentgroup": "True",
         "hovertemplate": "Number of Bedrooms=%{x}<br>Price (in INR)=%{y}<extra></extra>",
         "legendgroup": "",
         "marker": {
          "color": "#636efa"
         },
         "name": "",
         "notched": false,
         "offsetgroup": "",
         "orientation": "v",
         "showlegend": false,
         "type": "box",
         "x": {
          "bdata": "AgQCAwICAgMDAgMCAgMDAwMCAwMCBAIDAgICAwMCAwICAwMDAwIDAwMDAgICAgQCAgMCAwIDAwMDAgMDAwMDAwMCAwMCAgMCAwICAgIDAwICAgMCAgIDAwMDAgMDAwIDAgICAwMDAwQCAgQDAwICAwEBAwMCAwMBAgMDAwMDAgMCAgIDAwIDAwIDAwMEAwIDAgMDAgMCAwMDAwMDAwMDAgIDAgICAwICAwMCAgMDAwQEAwMDAwQEBAQDAwMDAwMDAwICBAMDAwMDAwMCAgMDAwMCAgMCAgIDAwICAgMCAgICAgICAgICAgIDAwMCAwMCAgIDAgMDAgICAgICAgICAgICAgICAgICAgMCAgMCAwICAgICAgMCAgMDAgMCAwMEAwMDAwMDAwMDAgMCAQICAgICAgICAgIDAwQDBAMCAwQDAwMDAgIDAgMDAwMDAwICAwMDAwICAgICAgMDAwIDAwMDAwICAwMDBAQEAgICAgIDAwIEAwMEAgMEAgMDAwMCAwQFAgMEBAICAgQEBAQDAwICAgIDAwIDAwMDAgMCAwMCAgMCAwMDAgMCAgICAgICAgIDAwMDAwMDAwMDAwMCAwICAwMCAwICAwMDAgICAwICAgICAgIDAwICAwMCAgICAwICAgICAgICAgIDAgIDAQICAgMCAgMCAgMDAwMDAgICAgICAgICAgICAgMDAwMDAgIBAwECAgIDAgMDAgMDAgICAgICAwMDAwICAgICAgICAgICAgIDAwMDAgICAgMCAgICAgICAwICAgIDAgICAgMCAgIDAwICAwMEAgMDAwMDAwQDAgMDAwMCAwIDAwMCAgMCAgIDBAMCAgMDAwMCAwMDAwMDAwMDAwIEAwMDAwUDAwMDAgIDAwIDAwICAgICAgMCBAICAgMDBAIDAgMDAwQDAwICAgMDAwICAwICAwMDAwIDAwMDAwIDAwIDAwIDAwIDAwIEAgICAwMDAwMBAwMDAwMDAwMCAwMCAwICCAIDAwIDAgIDAwICAgMDAwICAgMCAgMCAgICAgMCAwMDAwIDAgICAwMBAgMCAgIDAgICAgICAwICAwMCAgIBAwMDAwICAgICAgIDAgMCAwMCAwMCAwMDAwIDAwMCAgIDAgMDAwIDAgIDAwECAgIBAwIDAwICAgICAgICAgIDAgQCAgIDAwIDAwMBAgICAwICAgIDAgMCAwMDAgMEAwEDAwIDAgMDAgICAgICAgICAgIDAgMCAgMCAgMDAwICAwMBAwMCAgMDAgIDAwICAgICAgICAgMCAgICAgIDAwIDAgMCAgMDAgMBAQIDAwICAgICAgIBAgMCAwMCAwICAgICAgIDAwICAQEDAgMCAgICAgMDAgMEAwICAwMCAgICAgICAgIEAgMDAwMDAwMCAgQDAwMDAgECAgMCAwIDAwMDAwMDAgIDAwIBAgMDAgICAgICAgICAgICAgICAgMDAwMCAwICAgICAgMDAwMDAwMDAwMDAwIDAgMDAQECAgIDAwMEBAQDBAQEAwICAgIDAgMDAwMDAwMCAgIDAwQEAgMCAwIDBAMCAgMDAwMDAwMDAgMDAgICAwMDAwMDAgICAwMCAwMDAwMCAgMDAgICAwMCAgICAwMDAwMDAwMDAwMDAwMDAwMDAwMDAwICAwMCAwMCAQECAgIDAgMDAwMCBAMDAgICAgMDAwMDAgMDAwMEAwMEAwMDAwMDAwMCAwMDAwMDAgMDBAIDAgIDBAQEBAIDAwMCAgMDAgMCAwMDAwIDAwMDAwICAgMEAgMDAgMCAwMCAwMCAwMDAwMCAgICBAIDAwMDAwIDAwMCAwMDAwIDAgIDAwMDBAICAwMDAgMCAgIDAgMDAwMCAgQEBAMDAwMDAwMCAwMDAwMDAwMDAwIDAwMCAwICAgICAgMDAwIDAgICAwIDAwIEAgMDAgMDAwMDAgICAgMDAwIDAwMDAgICAwMDAwIDAwMCAgMDAwMDAgEDAwICAwMCBAMDAwICAgIDAwYCAwICAgICBAMCAgMDAgICAgICAgMCAwMDAgMDAwQDAgIDAgICAwICAwICAgIEAwIDAgMDAwMCAQICAgMDAwIDAwEDAwMCAwMDBAMDBAICAgECAgICAwQCBAMDAgICAgMCAwMCAgMDAgICBAMDBQMCAwIBAwQDAwMDAwIDAgMDAwMDAwICAwICAgMCAgIDAwICAwICAgICAgIEAgQDAwIEBQIDAwIDAwMCAgIDAwMCAwIFBQUFBAQDAQQDAwMCAgMDBQMDAgMDAgICAwMCAgMCAwICAwMCAwMDAwIDAgMCAwMCAgMDAwMCAgMDBAICAgICAwIDAwMDAgMCAgMEBAQEAwQCAgIDAgICAwMDBAICAgICAgICAgICAgICAwMDBAIDAwMDAwMDBAQEBAQEBAQEBAQEBQUFBQIEAwMCAwQDBAIDAwMCBAIDAgYCBAMDAwMDAwMCAgMDAwMDAwMCAwMDAwICAwIDAwIDAgMDBAMDAwQEAgMEAwIDAgMCAwUDBAICAwMCAgIDAwMDBQMCAwICAwICAgMDBAIDAwIDAgMEAwMDAgICAwMDAwIDAgMCAgMCAgICAwICAgIDAwICAwIEBAMDAgMDAwQDBAIEBQQDAwMIAwMDAwMDAwMDAwMDAwMDAwMDAwMDAwMCAwMDAgICAwIDAgMDAwQDAwQDAgICAgICAgICAgICAwMCAgMDAwMDAwIDAgICAgMDAgQEAwMDAwMDAwMDAwMDBAMCAwMDAwMCAwMCAwMCAwIDAgMDAwMDBAMCBAQCAgICAgICAgICAgICAgMCAgMCAwICAgICAgQFAwMCAgQCAwICAgICAgICAgIDAwIDAgIDAwMCAwMCAgICAgICAgICAgMCAgICAgEDAwMDAwICAwICAwMDAwMDAwMCAgQDAwQDAgQDAwIDBAMEAwICAwQDAwMCAgMDAwMCAgIDAwMCAgICAgICBQMDAgMDAwMDAwIEAgMDAgICAgIDAgICAgICAgICAgICAgICAgICAgICAgICAgICAgICAwMDAwMEAwIDBAIEBAIDAgQDAwMEAwMDAwMCBAMDAwMDAgICAwMDAwQDBAMCBAIDAwQCAgMDAwIEAwIDAwMDAwICAwIDAwMCAgMDAwICAwIDAwMEAwMDAwMEBAQDAwMCAwMCAgQDAwMDAgIDAgMDAgIDAwIDAwMDAgIDAwICAwIDAwICBAICAwMDBAICAwICAwMDAwMCAwIDAwMDAwICAwMCAgMDAgICAgMCAwMEAgMCAwMDAgICAwMDAwMCAwMCBQMEAgICAwUCAgICAwIDAwMDAwMCAwMCAwMDAgMDAwMCAwIEAgICAQICAgICAQECAQICAwMD",
          "dtype": "i1"
         },
         "x0": " ",
         "xaxis": "x",
         "y": {
          "bdata": "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",
          "dtype": "i4"
         },
         "y0": " ",
         "yaxis": "y"
        }
       ],
       "layout": {
        "boxmode": "group",
        "legend": {
         "tracegroupgap": 0
        },
        "template": {
         "data": {
          "bar": [
           {
            "error_x": {
             "color": "#2a3f5f"
            },
            "error_y": {
             "color": "#2a3f5f"
            },
            "marker": {
             "line": {
              "color": "#E5ECF6",
              "width": 0.5
             },
             "pattern": {
              "fillmode": "overlay",
              "size": 10,
              "solidity": 0.2
             }
            },
            "type": "bar"
           }
          ],
          "barpolar": [
           {
            "marker": {
             "line": {
              "color": "#E5ECF6",
              "width": 0.5
             },
             "pattern": {
              "fillmode": "overlay",
              "size": 10,
              "solidity": 0.2
             }
            },
            "type": "barpolar"
           }
          ],
          "carpet": [
           {
            "aaxis": {
             "endlinecolor": "#2a3f5f",
             "gridcolor": "white",
             "linecolor": "white",
             "minorgridcolor": "white",
             "startlinecolor": "#2a3f5f"
            },
            "baxis": {
             "endlinecolor": "#2a3f5f",
             "gridcolor": "white",
             "linecolor": "white",
             "minorgridcolor": "white",
             "startlinecolor": "#2a3f5f"
            },
            "type": "carpet"
           }
          ],
          "choropleth": [
           {
            "colorbar": {
             "outlinewidth": 0,
             "ticks": ""
            },
            "type": "choropleth"
           }
          ],
          "contour": [
           {
            "colorbar": {
             "outlinewidth": 0,
             "ticks": ""
            },
            "colorscale": [
             [
              0,
              "#0d0887"
             ],
             [
              0.1111111111111111,
              "#46039f"
             ],
             [
              0.2222222222222222,
              "#7201a8"
             ],
             [
              0.3333333333333333,
              "#9c179e"
             ],
             [
              0.4444444444444444,
              "#bd3786"
             ],
             [
              0.5555555555555556,
              "#d8576b"
             ],
             [
              0.6666666666666666,
              "#ed7953"
             ],
             [
              0.7777777777777778,
              "#fb9f3a"
             ],
             [
              0.8888888888888888,
              "#fdca26"
             ],
             [
              1,
              "#f0f921"
             ]
            ],
            "type": "contour"
           }
          ],
          "contourcarpet": [
           {
            "colorbar": {
             "outlinewidth": 0,
             "ticks": ""
            },
            "type": "contourcarpet"
           }
          ],
          "heatmap": [
           {
            "colorbar": {
             "outlinewidth": 0,
             "ticks": ""
            },
            "colorscale": [
             [
              0,
              "#0d0887"
             ],
             [
              0.1111111111111111,
              "#46039f"
             ],
             [
              0.2222222222222222,
              "#7201a8"
             ],
             [
              0.3333333333333333,
              "#9c179e"
             ],
             [
              0.4444444444444444,
              "#bd3786"
             ],
             [
              0.5555555555555556,
              "#d8576b"
             ],
             [
              0.6666666666666666,
              "#ed7953"
             ],
             [
              0.7777777777777778,
              "#fb9f3a"
             ],
             [
              0.8888888888888888,
              "#fdca26"
             ],
             [
              1,
              "#f0f921"
             ]
            ],
            "type": "heatmap"
           }
          ],
          "histogram": [
           {
            "marker": {
             "pattern": {
              "fillmode": "overlay",
              "size": 10,
              "solidity": 0.2
             }
            },
            "type": "histogram"
           }
          ],
          "histogram2d": [
           {
            "colorbar": {
             "outlinewidth": 0,
             "ticks": ""
            },
            "colorscale": [
             [
              0,
              "#0d0887"
             ],
             [
              0.1111111111111111,
              "#46039f"
             ],
             [
              0.2222222222222222,
              "#7201a8"
             ],
             [
              0.3333333333333333,
              "#9c179e"
             ],
             [
              0.4444444444444444,
              "#bd3786"
             ],
             [
              0.5555555555555556,
              "#d8576b"
             ],
             [
              0.6666666666666666,
              "#ed7953"
             ],
             [
              0.7777777777777778,
              "#fb9f3a"
             ],
             [
              0.8888888888888888,
              "#fdca26"
             ],
             [
              1,
              "#f0f921"
             ]
            ],
            "type": "histogram2d"
           }
          ],
          "histogram2dcontour": [
           {
            "colorbar": {
             "outlinewidth": 0,
             "ticks": ""
            },
            "colorscale": [
             [
              0,
              "#0d0887"
             ],
             [
              0.1111111111111111,
              "#46039f"
             ],
             [
              0.2222222222222222,
              "#7201a8"
             ],
             [
              0.3333333333333333,
              "#9c179e"
             ],
             [
              0.4444444444444444,
              "#bd3786"
             ],
             [
              0.5555555555555556,
              "#d8576b"
             ],
             [
              0.6666666666666666,
              "#ed7953"
             ],
             [
              0.7777777777777778,
              "#fb9f3a"
             ],
             [
              0.8888888888888888,
              "#fdca26"
             ],
             [
              1,
              "#f0f921"
             ]
            ],
            "type": "histogram2dcontour"
           }
          ],
          "mesh3d": [
           {
            "colorbar": {
             "outlinewidth": 0,
             "ticks": ""
            },
            "type": "mesh3d"
           }
          ],
          "parcoords": [
           {
            "line": {
             "colorbar": {
              "outlinewidth": 0,
              "ticks": ""
             }
            },
            "type": "parcoords"
           }
          ],
          "pie": [
           {
            "automargin": true,
            "type": "pie"
           }
          ],
          "scatter": [
           {
            "fillpattern": {
             "fillmode": "overlay",
             "size": 10,
             "solidity": 0.2
            },
            "type": "scatter"
           }
          ],
          "scatter3d": [
           {
            "line": {
             "colorbar": {
              "outlinewidth": 0,
              "ticks": ""
             }
            },
            "marker": {
             "colorbar": {
              "outlinewidth": 0,
              "ticks": ""
             }
            },
            "type": "scatter3d"
           }
          ],
          "scattercarpet": [
           {
            "marker": {
             "colorbar": {
              "outlinewidth": 0,
              "ticks": ""
             }
            },
            "type": "scattercarpet"
           }
          ],
          "scattergeo": [
           {
            "marker": {
             "colorbar": {
              "outlinewidth": 0,
              "ticks": ""
             }
            },
            "type": "scattergeo"
           }
          ],
          "scattergl": [
           {
            "marker": {
             "colorbar": {
              "outlinewidth": 0,
              "ticks": ""
             }
            },
            "type": "scattergl"
           }
          ],
          "scattermap": [
           {
            "marker": {
             "colorbar": {
              "outlinewidth": 0,
              "ticks": ""
             }
            },
            "type": "scattermap"
           }
          ],
          "scattermapbox": [
           {
            "marker": {
             "colorbar": {
              "outlinewidth": 0,
              "ticks": ""
             }
            },
            "type": "scattermapbox"
           }
          ],
          "scatterpolar": [
           {
            "marker": {
             "colorbar": {
              "outlinewidth": 0,
              "ticks": ""
             }
            },
            "type": "scatterpolar"
           }
          ],
          "scatterpolargl": [
           {
            "marker": {
             "colorbar": {
              "outlinewidth": 0,
              "ticks": ""
             }
            },
            "type": "scatterpolargl"
           }
          ],
          "scatterternary": [
           {
            "marker": {
             "colorbar": {
              "outlinewidth": 0,
              "ticks": ""
             }
            },
            "type": "scatterternary"
           }
          ],
          "surface": [
           {
            "colorbar": {
             "outlinewidth": 0,
             "ticks": ""
            },
            "colorscale": [
             [
              0,
              "#0d0887"
             ],
             [
              0.1111111111111111,
              "#46039f"
             ],
             [
              0.2222222222222222,
              "#7201a8"
             ],
             [
              0.3333333333333333,
              "#9c179e"
             ],
             [
              0.4444444444444444,
              "#bd3786"
             ],
             [
              0.5555555555555556,
              "#d8576b"
             ],
             [
              0.6666666666666666,
              "#ed7953"
             ],
             [
              0.7777777777777778,
              "#fb9f3a"
             ],
             [
              0.8888888888888888,
              "#fdca26"
             ],
             [
              1,
              "#f0f921"
             ]
            ],
            "type": "surface"
           }
          ],
          "table": [
           {
            "cells": {
             "fill": {
              "color": "#EBF0F8"
             },
             "line": {
              "color": "white"
             }
            },
            "header": {
             "fill": {
              "color": "#C8D4E3"
             },
             "line": {
              "color": "white"
             }
            },
            "type": "table"
           }
          ]
         },
         "layout": {
          "annotationdefaults": {
           "arrowcolor": "#2a3f5f",
           "arrowhead": 0,
           "arrowwidth": 1
          },
          "autotypenumbers": "strict",
          "coloraxis": {
           "colorbar": {
            "outlinewidth": 0,
            "ticks": ""
           }
          },
          "colorscale": {
           "diverging": [
            [
             0,
             "#8e0152"
            ],
            [
             0.1,
             "#c51b7d"
            ],
            [
             0.2,
             "#de77ae"
            ],
            [
             0.3,
             "#f1b6da"
            ],
            [
             0.4,
             "#fde0ef"
            ],
            [
             0.5,
             "#f7f7f7"
            ],
            [
             0.6,
             "#e6f5d0"
            ],
            [
             0.7,
             "#b8e186"
            ],
            [
             0.8,
             "#7fbc41"
            ],
            [
             0.9,
             "#4d9221"
            ],
            [
             1,
             "#276419"
            ]
           ],
           "sequential": [
            [
             0,
             "#0d0887"
            ],
            [
             0.1111111111111111,
             "#46039f"
            ],
            [
             0.2222222222222222,
             "#7201a8"
            ],
            [
             0.3333333333333333,
             "#9c179e"
            ],
            [
             0.4444444444444444,
             "#bd3786"
            ],
            [
             0.5555555555555556,
             "#d8576b"
            ],
            [
             0.6666666666666666,
             "#ed7953"
            ],
            [
             0.7777777777777778,
             "#fb9f3a"
            ],
            [
             0.8888888888888888,
             "#fdca26"
            ],
            [
             1,
             "#f0f921"
            ]
           ],
           "sequentialminus": [
            [
             0,
             "#0d0887"
            ],
            [
             0.1111111111111111,
             "#46039f"
            ],
            [
             0.2222222222222222,
             "#7201a8"
            ],
            [
             0.3333333333333333,
             "#9c179e"
            ],
            [
             0.4444444444444444,
             "#bd3786"
            ],
            [
             0.5555555555555556,
             "#d8576b"
            ],
            [
             0.6666666666666666,
             "#ed7953"
            ],
            [
             0.7777777777777778,
             "#fb9f3a"
            ],
            [
             0.8888888888888888,
             "#fdca26"
            ],
            [
             1,
             "#f0f921"
            ]
           ]
          },
          "colorway": [
           "#636efa",
           "#EF553B",
           "#00cc96",
           "#ab63fa",
           "#FFA15A",
           "#19d3f3",
           "#FF6692",
           "#B6E880",
           "#FF97FF",
           "#FECB52"
          ],
          "font": {
           "color": "#2a3f5f"
          },
          "geo": {
           "bgcolor": "white",
           "lakecolor": "white",
           "landcolor": "#E5ECF6",
           "showlakes": true,
           "showland": true,
           "subunitcolor": "white"
          },
          "hoverlabel": {
           "align": "left"
          },
          "hovermode": "closest",
          "mapbox": {
           "style": "light"
          },
          "paper_bgcolor": "white",
          "plot_bgcolor": "#E5ECF6",
          "polar": {
           "angularaxis": {
            "gridcolor": "white",
            "linecolor": "white",
            "ticks": ""
           },
           "bgcolor": "#E5ECF6",
           "radialaxis": {
            "gridcolor": "white",
            "linecolor": "white",
            "ticks": ""
           }
          },
          "scene": {
           "xaxis": {
            "backgroundcolor": "#E5ECF6",
            "gridcolor": "white",
            "gridwidth": 2,
            "linecolor": "white",
            "showbackground": true,
            "ticks": "",
            "zerolinecolor": "white"
           },
           "yaxis": {
            "backgroundcolor": "#E5ECF6",
            "gridcolor": "white",
            "gridwidth": 2,
            "linecolor": "white",
            "showbackground": true,
            "ticks": "",
            "zerolinecolor": "white"
           },
           "zaxis": {
            "backgroundcolor": "#E5ECF6",
            "gridcolor": "white",
            "gridwidth": 2,
            "linecolor": "white",
            "showbackground": true,
            "ticks": "",
            "zerolinecolor": "white"
           }
          },
          "shapedefaults": {
           "line": {
            "color": "#2a3f5f"
           }
          },
          "ternary": {
           "aaxis": {
            "gridcolor": "white",
            "linecolor": "white",
            "ticks": ""
           },
           "baxis": {
            "gridcolor": "white",
            "linecolor": "white",
            "ticks": ""
           },
           "bgcolor": "#E5ECF6",
           "caxis": {
            "gridcolor": "white",
            "linecolor": "white",
            "ticks": ""
           }
          },
          "title": {
           "x": 0.05
          },
          "xaxis": {
           "automargin": true,
           "gridcolor": "white",
           "linecolor": "white",
           "ticks": "",
           "title": {
            "standoff": 15
           },
           "zerolinecolor": "white",
           "zerolinewidth": 2
          },
          "yaxis": {
           "automargin": true,
           "gridcolor": "white",
           "linecolor": "white",
           "ticks": "",
           "title": {
            "standoff": 15
           },
           "zerolinecolor": "white",
           "zerolinewidth": 2
          }
         }
        },
        "title": {
         "text": "Price Distribution by Number of Bedrooms"
        },
        "xaxis": {
         "anchor": "y",
         "domain": [
          0,
          1
         ],
         "title": {
          "text": "Number of Bedrooms"
         }
        },
        "yaxis": {
         "anchor": "x",
         "domain": [
          0,
          1
         ],
         "title": {
          "text": "Price (in INR)"
         }
        }
       }
      }
     },
     "metadata": {},
     "output_type": "display_data"
    },
    {
     "data": {
      "application/vnd.plotly.v1+json": {
       "config": {
        "plotlyServerURL": "https://plot.ly"
       },
       "data": [
        {
         "alignmentgroup": "True",
         "hovertemplate": "Location (Encoded)=%{x}<br>Price (in INR)=%{y}<extra></extra>",
         "legendgroup": "",
         "marker": {
          "color": "#636efa"
         },
         "name": "",
         "notched": false,
         "offsetgroup": "",
         "orientation": "v",
         "showlegend": false,
         "type": "box",
         "x": {
          "bdata": "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",
          "dtype": "i2"
         },
         "x0": " ",
         "xaxis": "x",
         "y": {
          "bdata": "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",
          "dtype": "i4"
         },
         "y0": " ",
         "yaxis": "y"
        }
       ],
       "layout": {
        "boxmode": "group",
        "legend": {
         "tracegroupgap": 0
        },
        "template": {
         "data": {
          "bar": [
           {
            "error_x": {
             "color": "#2a3f5f"
            },
            "error_y": {
             "color": "#2a3f5f"
            },
            "marker": {
             "line": {
              "color": "#E5ECF6",
              "width": 0.5
             },
             "pattern": {
              "fillmode": "overlay",
              "size": 10,
              "solidity": 0.2
             }
            },
            "type": "bar"
           }
          ],
          "barpolar": [
           {
            "marker": {
             "line": {
              "color": "#E5ECF6",
              "width": 0.5
             },
             "pattern": {
              "fillmode": "overlay",
              "size": 10,
              "solidity": 0.2
             }
            },
            "type": "barpolar"
           }
          ],
          "carpet": [
           {
            "aaxis": {
             "endlinecolor": "#2a3f5f",
             "gridcolor": "white",
             "linecolor": "white",
             "minorgridcolor": "white",
             "startlinecolor": "#2a3f5f"
            },
            "baxis": {
             "endlinecolor": "#2a3f5f",
             "gridcolor": "white",
             "linecolor": "white",
             "minorgridcolor": "white",
             "startlinecolor": "#2a3f5f"
            },
            "type": "carpet"
           }
          ],
          "choropleth": [
           {
            "colorbar": {
             "outlinewidth": 0,
             "ticks": ""
            },
            "type": "choropleth"
           }
          ],
          "contour": [
           {
            "colorbar": {
             "outlinewidth": 0,
             "ticks": ""
            },
            "colorscale": [
             [
              0,
              "#0d0887"
             ],
             [
              0.1111111111111111,
              "#46039f"
             ],
             [
              0.2222222222222222,
              "#7201a8"
             ],
             [
              0.3333333333333333,
              "#9c179e"
             ],
             [
              0.4444444444444444,
              "#bd3786"
             ],
             [
              0.5555555555555556,
              "#d8576b"
             ],
             [
              0.6666666666666666,
              "#ed7953"
             ],
             [
              0.7777777777777778,
              "#fb9f3a"
             ],
             [
              0.8888888888888888,
              "#fdca26"
             ],
             [
              1,
              "#f0f921"
             ]
            ],
            "type": "contour"
           }
          ],
          "contourcarpet": [
           {
            "colorbar": {
             "outlinewidth": 0,
             "ticks": ""
            },
            "type": "contourcarpet"
           }
          ],
          "heatmap": [
           {
            "colorbar": {
             "outlinewidth": 0,
             "ticks": ""
            },
            "colorscale": [
             [
              0,
              "#0d0887"
             ],
             [
              0.1111111111111111,
              "#46039f"
             ],
             [
              0.2222222222222222,
              "#7201a8"
             ],
             [
              0.3333333333333333,
              "#9c179e"
             ],
             [
              0.4444444444444444,
              "#bd3786"
             ],
             [
              0.5555555555555556,
              "#d8576b"
             ],
             [
              0.6666666666666666,
              "#ed7953"
             ],
             [
              0.7777777777777778,
              "#fb9f3a"
             ],
             [
              0.8888888888888888,
              "#fdca26"
             ],
             [
              1,
              "#f0f921"
             ]
            ],
            "type": "heatmap"
           }
          ],
          "histogram": [
           {
            "marker": {
             "pattern": {
              "fillmode": "overlay",
              "size": 10,
              "solidity": 0.2
             }
            },
            "type": "histogram"
           }
          ],
          "histogram2d": [
           {
            "colorbar": {
             "outlinewidth": 0,
             "ticks": ""
            },
            "colorscale": [
             [
              0,
              "#0d0887"
             ],
             [
              0.1111111111111111,
              "#46039f"
             ],
             [
              0.2222222222222222,
              "#7201a8"
             ],
             [
              0.3333333333333333,
              "#9c179e"
             ],
             [
              0.4444444444444444,
              "#bd3786"
             ],
             [
              0.5555555555555556,
              "#d8576b"
             ],
             [
              0.6666666666666666,
              "#ed7953"
             ],
             [
              0.7777777777777778,
              "#fb9f3a"
             ],
             [
              0.8888888888888888,
              "#fdca26"
             ],
             [
              1,
              "#f0f921"
             ]
            ],
            "type": "histogram2d"
           }
          ],
          "histogram2dcontour": [
           {
            "colorbar": {
             "outlinewidth": 0,
             "ticks": ""
            },
            "colorscale": [
             [
              0,
              "#0d0887"
             ],
             [
              0.1111111111111111,
              "#46039f"
             ],
             [
              0.2222222222222222,
              "#7201a8"
             ],
             [
              0.3333333333333333,
              "#9c179e"
             ],
             [
              0.4444444444444444,
              "#bd3786"
             ],
             [
              0.5555555555555556,
              "#d8576b"
             ],
             [
              0.6666666666666666,
              "#ed7953"
             ],
             [
              0.7777777777777778,
              "#fb9f3a"
             ],
             [
              0.8888888888888888,
              "#fdca26"
             ],
             [
              1,
              "#f0f921"
             ]
            ],
            "type": "histogram2dcontour"
           }
          ],
          "mesh3d": [
           {
            "colorbar": {
             "outlinewidth": 0,
             "ticks": ""
            },
            "type": "mesh3d"
           }
          ],
          "parcoords": [
           {
            "line": {
             "colorbar": {
              "outlinewidth": 0,
              "ticks": ""
             }
            },
            "type": "parcoords"
           }
          ],
          "pie": [
           {
            "automargin": true,
            "type": "pie"
           }
          ],
          "scatter": [
           {
            "fillpattern": {
             "fillmode": "overlay",
             "size": 10,
             "solidity": 0.2
            },
            "type": "scatter"
           }
          ],
          "scatter3d": [
           {
            "line": {
             "colorbar": {
              "outlinewidth": 0,
              "ticks": ""
             }
            },
            "marker": {
             "colorbar": {
              "outlinewidth": 0,
              "ticks": ""
             }
            },
            "type": "scatter3d"
           }
          ],
          "scattercarpet": [
           {
            "marker": {
             "colorbar": {
              "outlinewidth": 0,
              "ticks": ""
             }
            },
            "type": "scattercarpet"
           }
          ],
          "scattergeo": [
           {
            "marker": {
             "colorbar": {
              "outlinewidth": 0,
              "ticks": ""
             }
            },
            "type": "scattergeo"
           }
          ],
          "scattergl": [
           {
            "marker": {
             "colorbar": {
              "outlinewidth": 0,
              "ticks": ""
             }
            },
            "type": "scattergl"
           }
          ],
          "scattermap": [
           {
            "marker": {
             "colorbar": {
              "outlinewidth": 0,
              "ticks": ""
             }
            },
            "type": "scattermap"
           }
          ],
          "scattermapbox": [
           {
            "marker": {
             "colorbar": {
              "outlinewidth": 0,
              "ticks": ""
             }
            },
            "type": "scattermapbox"
           }
          ],
          "scatterpolar": [
           {
            "marker": {
             "colorbar": {
              "outlinewidth": 0,
              "ticks": ""
             }
            },
            "type": "scatterpolar"
           }
          ],
          "scatterpolargl": [
           {
            "marker": {
             "colorbar": {
              "outlinewidth": 0,
              "ticks": ""
             }
            },
            "type": "scatterpolargl"
           }
          ],
          "scatterternary": [
           {
            "marker": {
             "colorbar": {
              "outlinewidth": 0,
              "ticks": ""
             }
            },
            "type": "scatterternary"
           }
          ],
          "surface": [
           {
            "colorbar": {
             "outlinewidth": 0,
             "ticks": ""
            },
            "colorscale": [
             [
              0,
              "#0d0887"
             ],
             [
              0.1111111111111111,
              "#46039f"
             ],
             [
              0.2222222222222222,
              "#7201a8"
             ],
             [
              0.3333333333333333,
              "#9c179e"
             ],
             [
              0.4444444444444444,
              "#bd3786"
             ],
             [
              0.5555555555555556,
              "#d8576b"
             ],
             [
              0.6666666666666666,
              "#ed7953"
             ],
             [
              0.7777777777777778,
              "#fb9f3a"
             ],
             [
              0.8888888888888888,
              "#fdca26"
             ],
             [
              1,
              "#f0f921"
             ]
            ],
            "type": "surface"
           }
          ],
          "table": [
           {
            "cells": {
             "fill": {
              "color": "#EBF0F8"
             },
             "line": {
              "color": "white"
             }
            },
            "header": {
             "fill": {
              "color": "#C8D4E3"
             },
             "line": {
              "color": "white"
             }
            },
            "type": "table"
           }
          ]
         },
         "layout": {
          "annotationdefaults": {
           "arrowcolor": "#2a3f5f",
           "arrowhead": 0,
           "arrowwidth": 1
          },
          "autotypenumbers": "strict",
          "coloraxis": {
           "colorbar": {
            "outlinewidth": 0,
            "ticks": ""
           }
          },
          "colorscale": {
           "diverging": [
            [
             0,
             "#8e0152"
            ],
            [
             0.1,
             "#c51b7d"
            ],
            [
             0.2,
             "#de77ae"
            ],
            [
             0.3,
             "#f1b6da"
            ],
            [
             0.4,
             "#fde0ef"
            ],
            [
             0.5,
             "#f7f7f7"
            ],
            [
             0.6,
             "#e6f5d0"
            ],
            [
             0.7,
             "#b8e186"
            ],
            [
             0.8,
             "#7fbc41"
            ],
            [
             0.9,
             "#4d9221"
            ],
            [
             1,
             "#276419"
            ]
           ],
           "sequential": [
            [
             0,
             "#0d0887"
            ],
            [
             0.1111111111111111,
             "#46039f"
            ],
            [
             0.2222222222222222,
             "#7201a8"
            ],
            [
             0.3333333333333333,
             "#9c179e"
            ],
            [
             0.4444444444444444,
             "#bd3786"
            ],
            [
             0.5555555555555556,
             "#d8576b"
            ],
            [
             0.6666666666666666,
             "#ed7953"
            ],
            [
             0.7777777777777778,
             "#fb9f3a"
            ],
            [
             0.8888888888888888,
             "#fdca26"
            ],
            [
             1,
             "#f0f921"
            ]
           ],
           "sequentialminus": [
            [
             0,
             "#0d0887"
            ],
            [
             0.1111111111111111,
             "#46039f"
            ],
            [
             0.2222222222222222,
             "#7201a8"
            ],
            [
             0.3333333333333333,
             "#9c179e"
            ],
            [
             0.4444444444444444,
             "#bd3786"
            ],
            [
             0.5555555555555556,
             "#d8576b"
            ],
            [
             0.6666666666666666,
             "#ed7953"
            ],
            [
             0.7777777777777778,
             "#fb9f3a"
            ],
            [
             0.8888888888888888,
             "#fdca26"
            ],
            [
             1,
             "#f0f921"
            ]
           ]
          },
          "colorway": [
           "#636efa",
           "#EF553B",
           "#00cc96",
           "#ab63fa",
           "#FFA15A",
           "#19d3f3",
           "#FF6692",
           "#B6E880",
           "#FF97FF",
           "#FECB52"
          ],
          "font": {
           "color": "#2a3f5f"
          },
          "geo": {
           "bgcolor": "white",
           "lakecolor": "white",
           "landcolor": "#E5ECF6",
           "showlakes": true,
           "showland": true,
           "subunitcolor": "white"
          },
          "hoverlabel": {
           "align": "left"
          },
          "hovermode": "closest",
          "mapbox": {
           "style": "light"
          },
          "paper_bgcolor": "white",
          "plot_bgcolor": "#E5ECF6",
          "polar": {
           "angularaxis": {
            "gridcolor": "white",
            "linecolor": "white",
            "ticks": ""
           },
           "bgcolor": "#E5ECF6",
           "radialaxis": {
            "gridcolor": "white",
            "linecolor": "white",
            "ticks": ""
           }
          },
          "scene": {
           "xaxis": {
            "backgroundcolor": "#E5ECF6",
            "gridcolor": "white",
            "gridwidth": 2,
            "linecolor": "white",
            "showbackground": true,
            "ticks": "",
            "zerolinecolor": "white"
           },
           "yaxis": {
            "backgroundcolor": "#E5ECF6",
            "gridcolor": "white",
            "gridwidth": 2,
            "linecolor": "white",
            "showbackground": true,
            "ticks": "",
            "zerolinecolor": "white"
           },
           "zaxis": {
            "backgroundcolor": "#E5ECF6",
            "gridcolor": "white",
            "gridwidth": 2,
            "linecolor": "white",
            "showbackground": true,
            "ticks": "",
            "zerolinecolor": "white"
           }
          },
          "shapedefaults": {
           "line": {
            "color": "#2a3f5f"
           }
          },
          "ternary": {
           "aaxis": {
            "gridcolor": "white",
            "linecolor": "white",
            "ticks": ""
           },
           "baxis": {
            "gridcolor": "white",
            "linecolor": "white",
            "ticks": ""
           },
           "bgcolor": "#E5ECF6",
           "caxis": {
            "gridcolor": "white",
            "linecolor": "white",
            "ticks": ""
           }
          },
          "title": {
           "x": 0.05
          },
          "xaxis": {
           "automargin": true,
           "gridcolor": "white",
           "linecolor": "white",
           "ticks": "",
           "title": {
            "standoff": 15
           },
           "zerolinecolor": "white",
           "zerolinewidth": 2
          },
          "yaxis": {
           "automargin": true,
           "gridcolor": "white",
           "linecolor": "white",
           "ticks": "",
           "title": {
            "standoff": 15
           },
           "zerolinecolor": "white",
           "zerolinewidth": 2
          }
         }
        },
        "title": {
         "text": "Price Distribution by Location"
        },
        "xaxis": {
         "anchor": "y",
         "domain": [
          0,
          1
         ],
         "title": {
          "text": "Location (Encoded)"
         }
        },
        "yaxis": {
         "anchor": "x",
         "domain": [
          0,
          1
         ],
         "title": {
          "text": "Price (in INR)"
         }
        }
       }
      }
     },
     "metadata": {},
     "output_type": "display_data"
    },
    {
     "data": {
      "application/vnd.plotly.v1+json": {
       "config": {
        "plotlyServerURL": "https://plot.ly"
       },
       "data": [
        {
         "coloraxis": "coloraxis",
         "hovertemplate": "x: %{x}<br>y: %{y}<br>Correlation Coefficient: %{z}<extra></extra>",
         "name": "0",
         "type": "heatmap",
         "x": [
          "Area",
          "No. of Bedrooms",
          "Location",
          "Price"
         ],
         "xaxis": "x",
         "y": [
          "Area",
          "No. of Bedrooms",
          "Location",
          "Price"
         ],
         "yaxis": "y",
         "z": {
          "bdata": "AAAAAAAA8D/qYOh4dmXpPz8qr21xPZO/XApdaaMD7D/qYOh4dmXpPwAAAAAAAPA/KYdk59xAmT+maSkd8t/kPz8qr21xPZO/KYdk59xAmT8AAAAAAADwP65EmXr/9rC/XApdaaMD7D+maSkd8t/kP65EmXr/9rC/AAAAAAAA8D8=",
          "dtype": "f8",
          "shape": "4, 4"
         }
        }
       ],
       "layout": {
        "coloraxis": {
         "colorbar": {
          "title": {
           "text": "Correlation Coefficient"
          }
         },
         "colorscale": [
          [
           0,
           "#0d0887"
          ],
          [
           0.1111111111111111,
           "#46039f"
          ],
          [
           0.2222222222222222,
           "#7201a8"
          ],
          [
           0.3333333333333333,
           "#9c179e"
          ],
          [
           0.4444444444444444,
           "#bd3786"
          ],
          [
           0.5555555555555556,
           "#d8576b"
          ],
          [
           0.6666666666666666,
           "#ed7953"
          ],
          [
           0.7777777777777778,
           "#fb9f3a"
          ],
          [
           0.8888888888888888,
           "#fdca26"
          ],
          [
           1,
           "#f0f921"
          ]
         ]
        },
        "template": {
         "data": {
          "bar": [
           {
            "error_x": {
             "color": "#2a3f5f"
            },
            "error_y": {
             "color": "#2a3f5f"
            },
            "marker": {
             "line": {
              "color": "#E5ECF6",
              "width": 0.5
             },
             "pattern": {
              "fillmode": "overlay",
              "size": 10,
              "solidity": 0.2
             }
            },
            "type": "bar"
           }
          ],
          "barpolar": [
           {
            "marker": {
             "line": {
              "color": "#E5ECF6",
              "width": 0.5
             },
             "pattern": {
              "fillmode": "overlay",
              "size": 10,
              "solidity": 0.2
             }
            },
            "type": "barpolar"
           }
          ],
          "carpet": [
           {
            "aaxis": {
             "endlinecolor": "#2a3f5f",
             "gridcolor": "white",
             "linecolor": "white",
             "minorgridcolor": "white",
             "startlinecolor": "#2a3f5f"
            },
            "baxis": {
             "endlinecolor": "#2a3f5f",
             "gridcolor": "white",
             "linecolor": "white",
             "minorgridcolor": "white",
             "startlinecolor": "#2a3f5f"
            },
            "type": "carpet"
           }
          ],
          "choropleth": [
           {
            "colorbar": {
             "outlinewidth": 0,
             "ticks": ""
            },
            "type": "choropleth"
           }
          ],
          "contour": [
           {
            "colorbar": {
             "outlinewidth": 0,
             "ticks": ""
            },
            "colorscale": [
             [
              0,
              "#0d0887"
             ],
             [
              0.1111111111111111,
              "#46039f"
             ],
             [
              0.2222222222222222,
              "#7201a8"
             ],
             [
              0.3333333333333333,
              "#9c179e"
             ],
             [
              0.4444444444444444,
              "#bd3786"
             ],
             [
              0.5555555555555556,
              "#d8576b"
             ],
             [
              0.6666666666666666,
              "#ed7953"
             ],
             [
              0.7777777777777778,
              "#fb9f3a"
             ],
             [
              0.8888888888888888,
              "#fdca26"
             ],
             [
              1,
              "#f0f921"
             ]
            ],
            "type": "contour"
           }
          ],
          "contourcarpet": [
           {
            "colorbar": {
             "outlinewidth": 0,
             "ticks": ""
            },
            "type": "contourcarpet"
           }
          ],
          "heatmap": [
           {
            "colorbar": {
             "outlinewidth": 0,
             "ticks": ""
            },
            "colorscale": [
             [
              0,
              "#0d0887"
             ],
             [
              0.1111111111111111,
              "#46039f"
             ],
             [
              0.2222222222222222,
              "#7201a8"
             ],
             [
              0.3333333333333333,
              "#9c179e"
             ],
             [
              0.4444444444444444,
              "#bd3786"
             ],
             [
              0.5555555555555556,
              "#d8576b"
             ],
             [
              0.6666666666666666,
              "#ed7953"
             ],
             [
              0.7777777777777778,
              "#fb9f3a"
             ],
             [
              0.8888888888888888,
              "#fdca26"
             ],
             [
              1,
              "#f0f921"
             ]
            ],
            "type": "heatmap"
           }
          ],
          "histogram": [
           {
            "marker": {
             "pattern": {
              "fillmode": "overlay",
              "size": 10,
              "solidity": 0.2
             }
            },
            "type": "histogram"
           }
          ],
          "histogram2d": [
           {
            "colorbar": {
             "outlinewidth": 0,
             "ticks": ""
            },
            "colorscale": [
             [
              0,
              "#0d0887"
             ],
             [
              0.1111111111111111,
              "#46039f"
             ],
             [
              0.2222222222222222,
              "#7201a8"
             ],
             [
              0.3333333333333333,
              "#9c179e"
             ],
             [
              0.4444444444444444,
              "#bd3786"
             ],
             [
              0.5555555555555556,
              "#d8576b"
             ],
             [
              0.6666666666666666,
              "#ed7953"
             ],
             [
              0.7777777777777778,
              "#fb9f3a"
             ],
             [
              0.8888888888888888,
              "#fdca26"
             ],
             [
              1,
              "#f0f921"
             ]
            ],
            "type": "histogram2d"
           }
          ],
          "histogram2dcontour": [
           {
            "colorbar": {
             "outlinewidth": 0,
             "ticks": ""
            },
            "colorscale": [
             [
              0,
              "#0d0887"
             ],
             [
              0.1111111111111111,
              "#46039f"
             ],
             [
              0.2222222222222222,
              "#7201a8"
             ],
             [
              0.3333333333333333,
              "#9c179e"
             ],
             [
              0.4444444444444444,
              "#bd3786"
             ],
             [
              0.5555555555555556,
              "#d8576b"
             ],
             [
              0.6666666666666666,
              "#ed7953"
             ],
             [
              0.7777777777777778,
              "#fb9f3a"
             ],
             [
              0.8888888888888888,
              "#fdca26"
             ],
             [
              1,
              "#f0f921"
             ]
            ],
            "type": "histogram2dcontour"
           }
          ],
          "mesh3d": [
           {
            "colorbar": {
             "outlinewidth": 0,
             "ticks": ""
            },
            "type": "mesh3d"
           }
          ],
          "parcoords": [
           {
            "line": {
             "colorbar": {
              "outlinewidth": 0,
              "ticks": ""
             }
            },
            "type": "parcoords"
           }
          ],
          "pie": [
           {
            "automargin": true,
            "type": "pie"
           }
          ],
          "scatter": [
           {
            "fillpattern": {
             "fillmode": "overlay",
             "size": 10,
             "solidity": 0.2
            },
            "type": "scatter"
           }
          ],
          "scatter3d": [
           {
            "line": {
             "colorbar": {
              "outlinewidth": 0,
              "ticks": ""
             }
            },
            "marker": {
             "colorbar": {
              "outlinewidth": 0,
              "ticks": ""
             }
            },
            "type": "scatter3d"
           }
          ],
          "scattercarpet": [
           {
            "marker": {
             "colorbar": {
              "outlinewidth": 0,
              "ticks": ""
             }
            },
            "type": "scattercarpet"
           }
          ],
          "scattergeo": [
           {
            "marker": {
             "colorbar": {
              "outlinewidth": 0,
              "ticks": ""
             }
            },
            "type": "scattergeo"
           }
          ],
          "scattergl": [
           {
            "marker": {
             "colorbar": {
              "outlinewidth": 0,
              "ticks": ""
             }
            },
            "type": "scattergl"
           }
          ],
          "scattermap": [
           {
            "marker": {
             "colorbar": {
              "outlinewidth": 0,
              "ticks": ""
             }
            },
            "type": "scattermap"
           }
          ],
          "scattermapbox": [
           {
            "marker": {
             "colorbar": {
              "outlinewidth": 0,
              "ticks": ""
             }
            },
            "type": "scattermapbox"
           }
          ],
          "scatterpolar": [
           {
            "marker": {
             "colorbar": {
              "outlinewidth": 0,
              "ticks": ""
             }
            },
            "type": "scatterpolar"
           }
          ],
          "scatterpolargl": [
           {
            "marker": {
             "colorbar": {
              "outlinewidth": 0,
              "ticks": ""
             }
            },
            "type": "scatterpolargl"
           }
          ],
          "scatterternary": [
           {
            "marker": {
             "colorbar": {
              "outlinewidth": 0,
              "ticks": ""
             }
            },
            "type": "scatterternary"
           }
          ],
          "surface": [
           {
            "colorbar": {
             "outlinewidth": 0,
             "ticks": ""
            },
            "colorscale": [
             [
              0,
              "#0d0887"
             ],
             [
              0.1111111111111111,
              "#46039f"
             ],
             [
              0.2222222222222222,
              "#7201a8"
             ],
             [
              0.3333333333333333,
              "#9c179e"
             ],
             [
              0.4444444444444444,
              "#bd3786"
             ],
             [
              0.5555555555555556,
              "#d8576b"
             ],
             [
              0.6666666666666666,
              "#ed7953"
             ],
             [
              0.7777777777777778,
              "#fb9f3a"
             ],
             [
              0.8888888888888888,
              "#fdca26"
             ],
             [
              1,
              "#f0f921"
             ]
            ],
            "type": "surface"
           }
          ],
          "table": [
           {
            "cells": {
             "fill": {
              "color": "#EBF0F8"
             },
             "line": {
              "color": "white"
             }
            },
            "header": {
             "fill": {
              "color": "#C8D4E3"
             },
             "line": {
              "color": "white"
             }
            },
            "type": "table"
           }
          ]
         },
         "layout": {
          "annotationdefaults": {
           "arrowcolor": "#2a3f5f",
           "arrowhead": 0,
           "arrowwidth": 1
          },
          "autotypenumbers": "strict",
          "coloraxis": {
           "colorbar": {
            "outlinewidth": 0,
            "ticks": ""
           }
          },
          "colorscale": {
           "diverging": [
            [
             0,
             "#8e0152"
            ],
            [
             0.1,
             "#c51b7d"
            ],
            [
             0.2,
             "#de77ae"
            ],
            [
             0.3,
             "#f1b6da"
            ],
            [
             0.4,
             "#fde0ef"
            ],
            [
             0.5,
             "#f7f7f7"
            ],
            [
             0.6,
             "#e6f5d0"
            ],
            [
             0.7,
             "#b8e186"
            ],
            [
             0.8,
             "#7fbc41"
            ],
            [
             0.9,
             "#4d9221"
            ],
            [
             1,
             "#276419"
            ]
           ],
           "sequential": [
            [
             0,
             "#0d0887"
            ],
            [
             0.1111111111111111,
             "#46039f"
            ],
            [
             0.2222222222222222,
             "#7201a8"
            ],
            [
             0.3333333333333333,
             "#9c179e"
            ],
            [
             0.4444444444444444,
             "#bd3786"
            ],
            [
             0.5555555555555556,
             "#d8576b"
            ],
            [
             0.6666666666666666,
             "#ed7953"
            ],
            [
             0.7777777777777778,
             "#fb9f3a"
            ],
            [
             0.8888888888888888,
             "#fdca26"
            ],
            [
             1,
             "#f0f921"
            ]
           ],
           "sequentialminus": [
            [
             0,
             "#0d0887"
            ],
            [
             0.1111111111111111,
             "#46039f"
            ],
            [
             0.2222222222222222,
             "#7201a8"
            ],
            [
             0.3333333333333333,
             "#9c179e"
            ],
            [
             0.4444444444444444,
             "#bd3786"
            ],
            [
             0.5555555555555556,
             "#d8576b"
            ],
            [
             0.6666666666666666,
             "#ed7953"
            ],
            [
             0.7777777777777778,
             "#fb9f3a"
            ],
            [
             0.8888888888888888,
             "#fdca26"
            ],
            [
             1,
             "#f0f921"
            ]
           ]
          },
          "colorway": [
           "#636efa",
           "#EF553B",
           "#00cc96",
           "#ab63fa",
           "#FFA15A",
           "#19d3f3",
           "#FF6692",
           "#B6E880",
           "#FF97FF",
           "#FECB52"
          ],
          "font": {
           "color": "#2a3f5f"
          },
          "geo": {
           "bgcolor": "white",
           "lakecolor": "white",
           "landcolor": "#E5ECF6",
           "showlakes": true,
           "showland": true,
           "subunitcolor": "white"
          },
          "hoverlabel": {
           "align": "left"
          },
          "hovermode": "closest",
          "mapbox": {
           "style": "light"
          },
          "paper_bgcolor": "white",
          "plot_bgcolor": "#E5ECF6",
          "polar": {
           "angularaxis": {
            "gridcolor": "white",
            "linecolor": "white",
            "ticks": ""
           },
           "bgcolor": "#E5ECF6",
           "radialaxis": {
            "gridcolor": "white",
            "linecolor": "white",
            "ticks": ""
           }
          },
          "scene": {
           "xaxis": {
            "backgroundcolor": "#E5ECF6",
            "gridcolor": "white",
            "gridwidth": 2,
            "linecolor": "white",
            "showbackground": true,
            "ticks": "",
            "zerolinecolor": "white"
           },
           "yaxis": {
            "backgroundcolor": "#E5ECF6",
            "gridcolor": "white",
            "gridwidth": 2,
            "linecolor": "white",
            "showbackground": true,
            "ticks": "",
            "zerolinecolor": "white"
           },
           "zaxis": {
            "backgroundcolor": "#E5ECF6",
            "gridcolor": "white",
            "gridwidth": 2,
            "linecolor": "white",
            "showbackground": true,
            "ticks": "",
            "zerolinecolor": "white"
           }
          },
          "shapedefaults": {
           "line": {
            "color": "#2a3f5f"
           }
          },
          "ternary": {
           "aaxis": {
            "gridcolor": "white",
            "linecolor": "white",
            "ticks": ""
           },
           "baxis": {
            "gridcolor": "white",
            "linecolor": "white",
            "ticks": ""
           },
           "bgcolor": "#E5ECF6",
           "caxis": {
            "gridcolor": "white",
            "linecolor": "white",
            "ticks": ""
           }
          },
          "title": {
           "x": 0.05
          },
          "xaxis": {
           "automargin": true,
           "gridcolor": "white",
           "linecolor": "white",
           "ticks": "",
           "title": {
            "standoff": 15
           },
           "zerolinecolor": "white",
           "zerolinewidth": 2
          },
          "yaxis": {
           "automargin": true,
           "gridcolor": "white",
           "linecolor": "white",
           "ticks": "",
           "title": {
            "standoff": 15
           },
           "zerolinecolor": "white",
           "zerolinewidth": 2
          }
         }
        },
        "title": {
         "text": "Correlation Matrix"
        },
        "xaxis": {
         "anchor": "y",
         "constrain": "domain",
         "domain": [
          0,
          1
         ],
         "scaleanchor": "y",
         "side": "top"
        },
        "yaxis": {
         "anchor": "x",
         "autorange": "reversed",
         "constrain": "domain",
         "domain": [
          0,
          1
         ]
        }
       }
      }
     },
     "metadata": {},
     "output_type": "display_data"
    }
   ],
   "source": [
    "# Visualize the results using Plotly\n",
    "fig = px.scatter(x=test_y_all, y=predictions, labels={'x': 'Actual Price', 'y': 'Predicted Price'}, title='Actual vs Predicted Prices')\n",
    "fig.add_shape(type='line', x0=min(test_y_all), y0=min(test_y_all), x1=max(test_y_all), y1=max(test_y_all), line=dict(color='red', dash='dash'))\n",
    "fig.show()\n",
    "# Visualize the results using Plotly for Random Forest\n",
    "fig_rforest = px.scatter(x=test_y_all, y=predictions_rforest, labels={'x': 'Actual Price', 'y': 'Predicted Price'}, title='Actual vs Predicted Prices (Random Forest)')\n",
    "fig_rforest.add_shape(type='line', x0=min(test_y_all), y0=min(test_y_all), x1=max(test_y_all), y1=max(test_y_all), line=dict(color='red', dash='dash'))\n",
    "fig_rforest.show()\n",
    "# Visualize feature importance for Random Forest\n",
    "importance = rforest_model.feature_importances_\n",
    "features = train_set.drop(columns=['Price']).columns\n",
    "importance_df = pd.DataFrame({'Feature': features, 'Importance': importance})\n",
    "fig_importance = px.bar(importance_df.sort_values(by='Importance', ascending=False), \n",
    "                        x='Feature', y='Importance', \n",
    "                        title='Feature Importance from Random Forest Model')\n",
    "fig_importance.show()\n",
    "# Visualize the distribution of prices\n",
    "fig_price_distribution = px.histogram(data, x='Price', nbins=50, title='Distribution of Prices')\n",
    "fig_price_distribution.show()\n",
    "# Visualize the relationship between Area and Price\n",
    "fig_area_price = px.scatter(data, x='Area', y='Price', color='Location', \n",
    "                             title='Area vs Price by Location', \n",
    "                             labels={'Area': 'Area (sq ft)', 'Price': 'Price (in INR)'})\n",
    "fig_area_price.show()\n",
    "# Visualize the relationship between No. of Bedrooms and Price\n",
    "fig_bedrooms_price = px.box(data, x='No. of Bedrooms', y='Price', \n",
    "                             title='Price Distribution by Number of Bedrooms', \n",
    "                             labels={'No. of Bedrooms': 'Number of Bedrooms', 'Price': 'Price (in INR)'})\n",
    "fig_bedrooms_price.show()\n",
    "# Visualize the relationship between Location and Price\n",
    "fig_location_price = px.box(data, x='Location', y='Price', \n",
    "                             title='Price Distribution by Location', \n",
    "                             labels={'Location': 'Location (Encoded)', 'Price': 'Price (in INR)'})\n",
    "fig_location_price.show()\n",
    "# Visualize the correlation matrix\n",
    "correlation_matrix = data.corr()\n",
    "fig_corr = px.imshow(correlation_matrix, \n",
    "                     title='Correlation Matrix', \n",
    "                     labels=dict(color='Correlation Coefficient'),\n",
    "                     x=correlation_matrix.columns, \n",
    "                     y=correlation_matrix.columns)\n",
    "fig_corr.update_xaxes(side=\"top\")\n",
    "fig_corr.show()"
   ]
  }
 ],
 "metadata": {
  "kernelspec": {
   "display_name": "csdi-ml-class-3.12",
   "language": "python",
   "name": "python3"
  },
  "language_info": {
   "codemirror_mode": {
    "name": "ipython",
    "version": 3
   },
   "file_extension": ".py",
   "mimetype": "text/x-python",
   "name": "python",
   "nbconvert_exporter": "python",
   "pygments_lexer": "ipython3",
   "version": "3.12.9"
  }
 },
 "nbformat": 4,
 "nbformat_minor": 5
}
