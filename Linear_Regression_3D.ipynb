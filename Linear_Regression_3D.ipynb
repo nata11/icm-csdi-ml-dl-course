{
 "cells": [
  {
   "cell_type": "code",
   "execution_count": null,
   "id": "5c81af37",
   "metadata": {},
   "outputs": [],
   "source": [
    "# Import libraries\n",
    "import numpy as np\n",
    "import pandas as pd\n",
    "import matplotlib.pyplot as plt\n",
    "from mpl_toolkits.mplot3d import Axes3D\n",
    "from sklearn.linear_model import LinearRegression\n",
    "from sklearn.metrics import mean_squared_error, r2_score, mean_absolute_error\n",
    "import plotly.graph_objects as go"
   ]
  },
  {
   "cell_type": "code",
   "execution_count": null,
   "id": "2070e207",
   "metadata": {},
   "outputs": [],
   "source": [
    "# Step 1: Create sample dataset\n",
    "np.random.seed(42)\n",
    "X1 = np.random.uniform(0, 10, 100)\n",
    "X2 = np.random.uniform(0, 10, 100)\n",
    "y = 3 * X1 + 2 * X2 + np.random.normal(0, 2, 100)\n",
    "data = pd.DataFrame({'X1': X1, 'X2': X2, 'Y': y})\n",
    "data.head()"
   ]
  },
  {
   "cell_type": "code",
   "execution_count": null,
   "id": "1c0416d3",
   "metadata": {},
   "outputs": [],
   "source": [
    "# Step 2: Prepare features and target\n",
    "X = data[['X1', 'X2']]\n",
    "y = data['Y']"
   ]
  },
  {
   "cell_type": "code",
   "execution_count": null,
   "id": "7487698d",
   "metadata": {},
   "outputs": [],
   "source": [
    "# Step 3: Fit linear regression\n",
    "model = LinearRegression()\n",
    "model.fit(X, y)\n",
    "y_pred = model.predict(X)\n",
    "\n",
    "# Error metrics\n",
    "mse = mean_squared_error(y, y_pred)\n",
    "mae = mean_absolute_error(y, y_pred)\n",
    "r2 = r2_score(y, y_pred)\n",
    "\n",
    "print(\"Coefficients:\", model.coef_)\n",
    "print(\"Intercept:\", model.intercept_)\n",
    "print(f\"Mean Squared Error: {mse:.2f}\")\n",
    "print(f\"Mean Absolute Error: {mae:.2f}\")\n",
    "print(f\"R^2 Score: {r2:.2f}\")"
   ]
  },
  {
   "cell_type": "code",
   "execution_count": null,
   "id": "e247d495",
   "metadata": {},
   "outputs": [],
   "source": [
    "# Step 4: Plot with Matplotlib\n",
    "fig = plt.figure(figsize=(12, 8))\n",
    "ax = fig.add_subplot(111, projection='3d')\n",
    "ax.scatter(data['X1'], data['X2'], data['Y'], color='royalblue', s=50, label='Actual Data', alpha=0.7, edgecolor='k')\n",
    "x1_grid, x2_grid = np.meshgrid(np.linspace(data['X1'].min(), data['X1'].max(), 30),\n",
    "                               np.linspace(data['X2'].min(), data['X2'].max(), 30))\n",
    "y_pred_grid = model.intercept_ + model.coef_[0] * x1_grid + model.coef_[1] * x2_grid\n",
    "ax.plot_surface(x1_grid, x2_grid, y_pred_grid, alpha=0.4, color='orange')\n",
    "ax.set_xlabel('X1', fontsize=12)\n",
    "ax.set_ylabel('X2', fontsize=12)\n",
    "ax.set_zlabel('Y', fontsize=12)\n",
    "ax.set_title('Linear Regression Plane (Matplotlib)', fontsize=14)\n",
    "ax.view_init(elev=20, azim=120)\n",
    "ax.legend()\n",
    "plt.tight_layout()\n",
    "plt.show()"
   ]
  },
  {
   "cell_type": "code",
   "execution_count": null,
   "id": "6ae5885b",
   "metadata": {},
   "outputs": [],
   "source": [
    "# Step 5: Plot with Plotly\n",
    "fig = go.Figure()\n",
    "fig.add_trace(go.Scatter3d(x=data['X1'], y=data['X2'], z=data['Y'],\n",
    "                           mode='markers',\n",
    "                           marker=dict(size=5, color='blue', opacity=0.8),\n",
    "                           name='Actual Data'))\n",
    "fig.add_trace(go.Surface(x=x1_grid, y=x2_grid, z=y_pred_grid,\n",
    "                         colorscale=[[0, 'orange'], [1, 'orange']],\n",
    "                         opacity=0.5, showscale=False, name='Regression Plane'))\n",
    "fig.update_layout(scene=dict(\n",
    "                    xaxis_title='X1',\n",
    "                    yaxis_title='X2',\n",
    "                    zaxis_title='Y',\n",
    "                    camera=dict(eye=dict(x=1.4, y=1.4, z=0.8))\n",
    "                ),\n",
    "                title='Linear Regression Plane (Plotly)',\n",
    "                margin=dict(l=0, r=0, b=0, t=40))\n",
    "fig.show()"
   ]
  }
 ],
 "metadata": {
  "kernelspec": {
   "display_name": "csdi-ml-class-3.12",
   "language": "python",
   "name": "python3"
  },
  "language_info": {
   "codemirror_mode": {
    "name": "ipython",
    "version": 3
   },
   "file_extension": ".py",
   "mimetype": "text/x-python",
   "name": "python",
   "nbconvert_exporter": "python",
   "pygments_lexer": "ipython3",
   "version": "3.12.9"
  }
 },
 "nbformat": 4,
 "nbformat_minor": 5
}
